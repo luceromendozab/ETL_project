{
 "cells": [
  {
   "cell_type": "code",
   "execution_count": 1,
   "metadata": {},
   "outputs": [
    {
     "data": {
      "text/plain": [
       "True"
      ]
     },
     "execution_count": 1,
     "metadata": {},
     "output_type": "execute_result"
    }
   ],
   "source": [
    "import pandas as pd\n",
    "import requests\n",
    "import json\n",
    "import os \n",
    "from dotenv import load_dotenv\n",
    "load_dotenv()"
   ]
  },
  {
   "cell_type": "code",
   "execution_count": 2,
   "metadata": {},
   "outputs": [],
   "source": [
    "token = os.getenv(\"token\")"
   ]
  },
  {
   "cell_type": "code",
   "execution_count": 4,
   "metadata": {},
   "outputs": [],
   "source": [
    "url= 'https://api.census.gov/data'\n",
    "year = '/2019'\n",
    "dataset_value= '/pep/population'\n",
    "call= '?get='\n",
    "variables = 'NAME,POP'\n",
    "location = '&for=state:*'\n",
    "api_key = f\"&key={token}\""
   ]
  },
  {
   "cell_type": "code",
   "execution_count": 5,
   "metadata": {},
   "outputs": [],
   "source": [
    "url_call=f\"{url}{year}{dataset_value}{call}{variables}{location}{api_key}\""
   ]
  },
  {
   "cell_type": "code",
   "execution_count": 6,
   "metadata": {},
   "outputs": [],
   "source": [
    "response_all= requests.get(\"https://api.census.gov/data/2019/pep/population?get=NAME,POP&for=state:*&key=2e1b6aa4e6f43e28f2ee12c898c064df825476d0\")"
   ]
  },
  {
   "cell_type": "code",
   "execution_count": 7,
   "metadata": {},
   "outputs": [],
   "source": [
    "result=requests.get(url_call)"
   ]
  },
  {
   "cell_type": "code",
   "execution_count": 8,
   "metadata": {},
   "outputs": [
    {
     "data": {
      "text/plain": [
       "200"
      ]
     },
     "execution_count": 8,
     "metadata": {},
     "output_type": "execute_result"
    }
   ],
   "source": [
    "result.status_code"
   ]
  },
  {
   "cell_type": "code",
   "execution_count": 10,
   "metadata": {},
   "outputs": [
    {
     "data": {
      "text/plain": [
       "[['NAME', 'POP', 'state'],\n",
       " ['Alabama', '4903185', '01'],\n",
       " ['Alaska', '731545', '02'],\n",
       " ['Arizona', '7278717', '04'],\n",
       " ['Arkansas', '3017804', '05'],\n",
       " ['California', '39512223', '06'],\n",
       " ['Colorado', '5758736', '08'],\n",
       " ['Delaware', '973764', '10'],\n",
       " ['District of Columbia', '705749', '11'],\n",
       " ['Connecticut', '3565287', '09'],\n",
       " ['Florida', '21477737', '12'],\n",
       " ['Georgia', '10617423', '13'],\n",
       " ['Idaho', '1787065', '16'],\n",
       " ['Hawaii', '1415872', '15'],\n",
       " ['Illinois', '12671821', '17'],\n",
       " ['Indiana', '6732219', '18'],\n",
       " ['Iowa', '3155070', '19'],\n",
       " ['Kansas', '2913314', '20'],\n",
       " ['Kentucky', '4467673', '21'],\n",
       " ['Louisiana', '4648794', '22'],\n",
       " ['Maine', '1344212', '23'],\n",
       " ['Maryland', '6045680', '24'],\n",
       " ['Massachusetts', '6892503', '25'],\n",
       " ['Michigan', '9986857', '26'],\n",
       " ['Minnesota', '5639632', '27'],\n",
       " ['Mississippi', '2976149', '28'],\n",
       " ['Missouri', '6137428', '29'],\n",
       " ['Montana', '1068778', '30'],\n",
       " ['Nebraska', '1934408', '31'],\n",
       " ['Nevada', '3080156', '32'],\n",
       " ['New Hampshire', '1359711', '33'],\n",
       " ['New Jersey', '8882190', '34'],\n",
       " ['New Mexico', '2096829', '35'],\n",
       " ['New York', '19453561', '36'],\n",
       " ['North Carolina', '10488084', '37'],\n",
       " ['North Dakota', '762062', '38'],\n",
       " ['Ohio', '11689100', '39'],\n",
       " ['Oklahoma', '3956971', '40'],\n",
       " ['Oregon', '4217737', '41'],\n",
       " ['Pennsylvania', '12801989', '42'],\n",
       " ['Rhode Island', '1059361', '44'],\n",
       " ['South Carolina', '5148714', '45'],\n",
       " ['South Dakota', '884659', '46'],\n",
       " ['Tennessee', '6829174', '47'],\n",
       " ['Texas', '28995881', '48'],\n",
       " ['Vermont', '623989', '50'],\n",
       " ['Utah', '3205958', '49'],\n",
       " ['Virginia', '8535519', '51'],\n",
       " ['Washington', '7614893', '53'],\n",
       " ['West Virginia', '1792147', '54'],\n",
       " ['Wisconsin', '5822434', '55'],\n",
       " ['Wyoming', '578759', '56'],\n",
       " ['Puerto Rico', '3193694', '72']]"
      ]
     },
     "execution_count": 10,
     "metadata": {},
     "output_type": "execute_result"
    }
   ],
   "source": [
    "data=result.json()\n",
    "data"
   ]
  },
  {
   "cell_type": "code",
   "execution_count": null,
   "metadata": {},
   "outputs": [],
   "source": []
  },
  {
   "cell_type": "code",
   "execution_count": null,
   "metadata": {},
   "outputs": [],
   "source": []
  }
 ],
 "metadata": {
  "kernelspec": {
   "display_name": "iron",
   "language": "python",
   "name": "iron"
  },
  "language_info": {
   "codemirror_mode": {
    "name": "ipython",
    "version": 3
   },
   "file_extension": ".py",
   "mimetype": "text/x-python",
   "name": "python",
   "nbconvert_exporter": "python",
   "pygments_lexer": "ipython3",
   "version": "3.9.13"
  }
 },
 "nbformat": 4,
 "nbformat_minor": 4
}
