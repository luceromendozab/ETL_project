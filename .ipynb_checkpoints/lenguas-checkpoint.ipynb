{
 "cells": [
  {
   "cell_type": "code",
   "execution_count": 1,
   "metadata": {},
   "outputs": [
    {
     "name": "stderr",
     "output_type": "stream",
     "text": [
      "/opt/anaconda3/envs/iron/lib/python3.9/site-packages/fuzzywuzzy/fuzz.py:11: UserWarning: Using slow pure-python SequenceMatcher. Install python-Levenshtein to remove this warning\n",
      "  warnings.warn('Using slow pure-python SequenceMatcher. Install python-Levenshtein to remove this warning')\n"
     ]
    }
   ],
   "source": [
    "import pandas as pd\n",
    "import numpy as np\n",
    "import matplotlib.pyplot as plt\n",
    "import seaborn as sns\n",
    "import plotly.express as px\n",
    "from collections import Counter\n",
    "from fuzzywuzzy import process, fuzz\n",
    "import pickle\n",
    "import re"
   ]
  },
  {
   "cell_type": "markdown",
   "metadata": {},
   "source": [
    "https://www.kaggle.com/datasets/the-guardian/extinct-languages\n",
    "https://www.kaggle.com/datasets/narmelan/100-most-spoken-languages-around-the-world"
   ]
  },
  {
   "cell_type": "markdown",
   "metadata": {},
   "source": [
    "https://es.wikipedia.org/wiki/Lenguas_de_los_Estados_Unidos"
   ]
  },
  {
   "cell_type": "code",
   "execution_count": 2,
   "metadata": {},
   "outputs": [
    {
     "data": {
      "text/html": [
       "<div>\n",
       "<style scoped>\n",
       "    .dataframe tbody tr th:only-of-type {\n",
       "        vertical-align: middle;\n",
       "    }\n",
       "\n",
       "    .dataframe tbody tr th {\n",
       "        vertical-align: top;\n",
       "    }\n",
       "\n",
       "    .dataframe thead th {\n",
       "        text-align: right;\n",
       "    }\n",
       "</style>\n",
       "<table border=\"1\" class=\"dataframe\">\n",
       "  <thead>\n",
       "    <tr style=\"text-align: right;\">\n",
       "      <th></th>\n",
       "      <th>ID</th>\n",
       "      <th>Name in English</th>\n",
       "      <th>Name in French</th>\n",
       "      <th>Name in Spanish</th>\n",
       "      <th>Countries</th>\n",
       "      <th>Country codes alpha 3</th>\n",
       "      <th>ISO639-3 codes</th>\n",
       "      <th>Degree of endangerment</th>\n",
       "      <th>Alternate names</th>\n",
       "      <th>Name in the language</th>\n",
       "      <th>Number of speakers</th>\n",
       "      <th>Sources</th>\n",
       "      <th>Latitude</th>\n",
       "      <th>Longitude</th>\n",
       "      <th>Description of the location</th>\n",
       "    </tr>\n",
       "  </thead>\n",
       "  <tbody>\n",
       "    <tr>\n",
       "      <th>0</th>\n",
       "      <td>1022</td>\n",
       "      <td>South Italian</td>\n",
       "      <td>italien du sud</td>\n",
       "      <td>napolitano-calabrés</td>\n",
       "      <td>Italy</td>\n",
       "      <td>ITA</td>\n",
       "      <td>nap</td>\n",
       "      <td>Vulnerable</td>\n",
       "      <td>Neapolitan; Neapolitan-Calabrese; неаполитанск...</td>\n",
       "      <td>NaN</td>\n",
       "      <td>7500000.0</td>\n",
       "      <td>NaN</td>\n",
       "      <td>40.9798</td>\n",
       "      <td>15.2490</td>\n",
       "      <td>Campania, Lucania (Basilicata), Abruzzi (Abruz...</td>\n",
       "    </tr>\n",
       "    <tr>\n",
       "      <th>1</th>\n",
       "      <td>1023</td>\n",
       "      <td>Sicilian</td>\n",
       "      <td>sicilien</td>\n",
       "      <td>siciliano</td>\n",
       "      <td>Italy</td>\n",
       "      <td>ITA</td>\n",
       "      <td>scn</td>\n",
       "      <td>Vulnerable</td>\n",
       "      <td>NaN</td>\n",
       "      <td>NaN</td>\n",
       "      <td>5000000.0</td>\n",
       "      <td>NaN</td>\n",
       "      <td>37.4399</td>\n",
       "      <td>14.5019</td>\n",
       "      <td>Sicily (Sicilia), southern and central Calabri...</td>\n",
       "    </tr>\n",
       "  </tbody>\n",
       "</table>\n",
       "</div>"
      ],
      "text/plain": [
       "     ID Name in English  Name in French      Name in Spanish Countries  \\\n",
       "0  1022   South Italian  italien du sud  napolitano-calabrés     Italy   \n",
       "1  1023        Sicilian        sicilien            siciliano     Italy   \n",
       "\n",
       "  Country codes alpha 3 ISO639-3 codes Degree of endangerment  \\\n",
       "0                   ITA            nap             Vulnerable   \n",
       "1                   ITA            scn             Vulnerable   \n",
       "\n",
       "                                     Alternate names Name in the language  \\\n",
       "0  Neapolitan; Neapolitan-Calabrese; неаполитанск...                  NaN   \n",
       "1                                                NaN                  NaN   \n",
       "\n",
       "   Number of speakers Sources  Latitude  Longitude  \\\n",
       "0           7500000.0     NaN   40.9798    15.2490   \n",
       "1           5000000.0     NaN   37.4399    14.5019   \n",
       "\n",
       "                         Description of the location  \n",
       "0  Campania, Lucania (Basilicata), Abruzzi (Abruz...  \n",
       "1  Sicily (Sicilia), southern and central Calabri...  "
      ]
     },
     "execution_count": 2,
     "metadata": {},
     "output_type": "execute_result"
    }
   ],
   "source": [
    "# cargamos el csv \n",
    "df= pd.read_csv(\"data.csv\")\n",
    "df.head(2)"
   ]
  },
  {
   "cell_type": "code",
   "execution_count": 3,
   "metadata": {},
   "outputs": [
    {
     "data": {
      "text/plain": [
       "(2722, 15)"
      ]
     },
     "execution_count": 3,
     "metadata": {},
     "output_type": "execute_result"
    }
   ],
   "source": [
    "df.shape"
   ]
  },
  {
   "cell_type": "code",
   "execution_count": 4,
   "metadata": {},
   "outputs": [],
   "source": [
    "#eliminar id, mantener codes alpha 3 \n",
    "df_new=df.drop(labels=['ID','Name in French', 'Name in Spanish','ISO639-3 codes','Alternate names','Name in the language','Sources','Description of the location'], axis=1)"
   ]
  },
  {
   "cell_type": "code",
   "execution_count": 5,
   "metadata": {},
   "outputs": [
    {
     "data": {
      "text/html": [
       "<div>\n",
       "<style scoped>\n",
       "    .dataframe tbody tr th:only-of-type {\n",
       "        vertical-align: middle;\n",
       "    }\n",
       "\n",
       "    .dataframe tbody tr th {\n",
       "        vertical-align: top;\n",
       "    }\n",
       "\n",
       "    .dataframe thead th {\n",
       "        text-align: right;\n",
       "    }\n",
       "</style>\n",
       "<table border=\"1\" class=\"dataframe\">\n",
       "  <thead>\n",
       "    <tr style=\"text-align: right;\">\n",
       "      <th></th>\n",
       "      <th>Name in English</th>\n",
       "      <th>Countries</th>\n",
       "      <th>Country codes alpha 3</th>\n",
       "      <th>Degree of endangerment</th>\n",
       "      <th>Number of speakers</th>\n",
       "      <th>Latitude</th>\n",
       "      <th>Longitude</th>\n",
       "    </tr>\n",
       "  </thead>\n",
       "  <tbody>\n",
       "    <tr>\n",
       "      <th>0</th>\n",
       "      <td>South Italian</td>\n",
       "      <td>Italy</td>\n",
       "      <td>ITA</td>\n",
       "      <td>Vulnerable</td>\n",
       "      <td>7500000.0</td>\n",
       "      <td>40.9798</td>\n",
       "      <td>15.2490</td>\n",
       "    </tr>\n",
       "    <tr>\n",
       "      <th>1</th>\n",
       "      <td>Sicilian</td>\n",
       "      <td>Italy</td>\n",
       "      <td>ITA</td>\n",
       "      <td>Vulnerable</td>\n",
       "      <td>5000000.0</td>\n",
       "      <td>37.4399</td>\n",
       "      <td>14.5019</td>\n",
       "    </tr>\n",
       "  </tbody>\n",
       "</table>\n",
       "</div>"
      ],
      "text/plain": [
       "  Name in English Countries Country codes alpha 3 Degree of endangerment  \\\n",
       "0   South Italian     Italy                   ITA             Vulnerable   \n",
       "1        Sicilian     Italy                   ITA             Vulnerable   \n",
       "\n",
       "   Number of speakers  Latitude  Longitude  \n",
       "0           7500000.0   40.9798    15.2490  \n",
       "1           5000000.0   37.4399    14.5019  "
      ]
     },
     "execution_count": 5,
     "metadata": {},
     "output_type": "execute_result"
    }
   ],
   "source": [
    "df_new.head(2)"
   ]
  },
  {
   "cell_type": "code",
   "execution_count": 6,
   "metadata": {},
   "outputs": [
    {
     "data": {
      "text/plain": [
       "Index(['Name in English', 'Countries', 'Country codes alpha 3',\n",
       "       'Degree of endangerment', 'Number of speakers', 'Latitude',\n",
       "       'Longitude'],\n",
       "      dtype='object')"
      ]
     },
     "execution_count": 6,
     "metadata": {},
     "output_type": "execute_result"
    }
   ],
   "source": [
    "df_new.columns"
   ]
  },
  {
   "cell_type": "code",
   "execution_count": 7,
   "metadata": {},
   "outputs": [
    {
     "data": {
      "text/html": [
       "<div>\n",
       "<style scoped>\n",
       "    .dataframe tbody tr th:only-of-type {\n",
       "        vertical-align: middle;\n",
       "    }\n",
       "\n",
       "    .dataframe tbody tr th {\n",
       "        vertical-align: top;\n",
       "    }\n",
       "\n",
       "    .dataframe thead th {\n",
       "        text-align: right;\n",
       "    }\n",
       "</style>\n",
       "<table border=\"1\" class=\"dataframe\">\n",
       "  <thead>\n",
       "    <tr style=\"text-align: right;\">\n",
       "      <th></th>\n",
       "      <th>name in english</th>\n",
       "      <th>countries</th>\n",
       "      <th>country codes alpha 3</th>\n",
       "      <th>degree of endangerment</th>\n",
       "      <th>number of speakers</th>\n",
       "      <th>latitude</th>\n",
       "      <th>longitude</th>\n",
       "    </tr>\n",
       "  </thead>\n",
       "  <tbody>\n",
       "    <tr>\n",
       "      <th>0</th>\n",
       "      <td>South Italian</td>\n",
       "      <td>Italy</td>\n",
       "      <td>ITA</td>\n",
       "      <td>Vulnerable</td>\n",
       "      <td>7500000.0</td>\n",
       "      <td>40.9798</td>\n",
       "      <td>15.249</td>\n",
       "    </tr>\n",
       "  </tbody>\n",
       "</table>\n",
       "</div>"
      ],
      "text/plain": [
       "  name in english countries country codes alpha 3 degree of endangerment  \\\n",
       "0   South Italian     Italy                   ITA             Vulnerable   \n",
       "\n",
       "   number of speakers  latitude  longitude  \n",
       "0           7500000.0   40.9798     15.249  "
      ]
     },
     "execution_count": 7,
     "metadata": {},
     "output_type": "execute_result"
    }
   ],
   "source": [
    "df_new.columns = df_new.columns.str.lower()\n",
    "df_new.head(1)"
   ]
  },
  {
   "cell_type": "code",
   "execution_count": 8,
   "metadata": {},
   "outputs": [
    {
     "data": {
      "text/html": [
       "<div>\n",
       "<style scoped>\n",
       "    .dataframe tbody tr th:only-of-type {\n",
       "        vertical-align: middle;\n",
       "    }\n",
       "\n",
       "    .dataframe tbody tr th {\n",
       "        vertical-align: top;\n",
       "    }\n",
       "\n",
       "    .dataframe thead th {\n",
       "        text-align: right;\n",
       "    }\n",
       "</style>\n",
       "<table border=\"1\" class=\"dataframe\">\n",
       "  <thead>\n",
       "    <tr style=\"text-align: right;\">\n",
       "      <th></th>\n",
       "      <th>name</th>\n",
       "      <th>countries</th>\n",
       "      <th>country codes alpha 3</th>\n",
       "      <th>endangerment</th>\n",
       "      <th>speakers</th>\n",
       "      <th>latitude</th>\n",
       "      <th>longitude</th>\n",
       "    </tr>\n",
       "  </thead>\n",
       "  <tbody>\n",
       "    <tr>\n",
       "      <th>0</th>\n",
       "      <td>South Italian</td>\n",
       "      <td>Italy</td>\n",
       "      <td>ITA</td>\n",
       "      <td>Vulnerable</td>\n",
       "      <td>7500000.0</td>\n",
       "      <td>40.9798</td>\n",
       "      <td>15.249</td>\n",
       "    </tr>\n",
       "  </tbody>\n",
       "</table>\n",
       "</div>"
      ],
      "text/plain": [
       "            name countries country codes alpha 3 endangerment   speakers  \\\n",
       "0  South Italian     Italy                   ITA   Vulnerable  7500000.0   \n",
       "\n",
       "   latitude  longitude  \n",
       "0   40.9798     15.249  "
      ]
     },
     "execution_count": 8,
     "metadata": {},
     "output_type": "execute_result"
    }
   ],
   "source": [
    "df_new = df_new.rename(columns={'name in english':'name',\n",
    "                                   'ountry codes alpha':'code_alpha3',\n",
    "                               'degree of endangerment':'endangerment',\n",
    "                               'number of speakers': 'speakers'})\n",
    "df_new.head(1)"
   ]
  },
  {
   "cell_type": "code",
   "execution_count": 9,
   "metadata": {},
   "outputs": [
    {
     "name": "stdout",
     "output_type": "stream",
     "text": [
      "<class 'pandas.core.frame.DataFrame'>\n",
      "RangeIndex: 2722 entries, 0 to 2721\n",
      "Data columns (total 7 columns):\n",
      " #   Column                 Non-Null Count  Dtype  \n",
      "---  ------                 --------------  -----  \n",
      " 0   name                   2722 non-null   object \n",
      " 1   countries              2721 non-null   object \n",
      " 2   country codes alpha 3  2721 non-null   object \n",
      " 3   endangerment           2722 non-null   object \n",
      " 4   speakers               2539 non-null   float64\n",
      " 5   latitude               2719 non-null   float64\n",
      " 6   longitude              2719 non-null   float64\n",
      "dtypes: float64(3), object(4)\n",
      "memory usage: 149.0+ KB\n"
     ]
    }
   ],
   "source": [
    "df_new.info()"
   ]
  },
  {
   "cell_type": "code",
   "execution_count": 10,
   "metadata": {},
   "outputs": [
    {
     "data": {
      "text/plain": [
       "0"
      ]
     },
     "execution_count": 10,
     "metadata": {},
     "output_type": "execute_result"
    }
   ],
   "source": [
    "df_new.duplicated().sum()"
   ]
  },
  {
   "cell_type": "code",
   "execution_count": 11,
   "metadata": {},
   "outputs": [
    {
     "data": {
      "text/plain": [
       "name                       0\n",
       "countries                  1\n",
       "country codes alpha 3      1\n",
       "endangerment               0\n",
       "speakers                 183\n",
       "latitude                   3\n",
       "longitude                  3\n",
       "dtype: int64"
      ]
     },
     "execution_count": 11,
     "metadata": {},
     "output_type": "execute_result"
    }
   ],
   "source": [
    "#visualizamos los nulos\n",
    "#para decidir que nombre utilizamos en este caso utilizaremos el nombre de la lengua en ignles \n",
    "df_new.isnull().sum()"
   ]
  },
  {
   "cell_type": "code",
   "execution_count": 12,
   "metadata": {},
   "outputs": [
    {
     "data": {
      "text/plain": [
       "Definitely endangered    680\n",
       "Vulnerable               628\n",
       "Critically endangered    607\n",
       "Severely endangered      554\n",
       "Extinct                  253\n",
       "Name: endangerment, dtype: int64"
      ]
     },
     "execution_count": 12,
     "metadata": {},
     "output_type": "execute_result"
    }
   ],
   "source": [
    "df_new['endangerment'].value_counts()"
   ]
  },
  {
   "cell_type": "code",
   "execution_count": 13,
   "metadata": {},
   "outputs": [
    {
     "data": {
      "text/html": [
       "<div>\n",
       "<style scoped>\n",
       "    .dataframe tbody tr th:only-of-type {\n",
       "        vertical-align: middle;\n",
       "    }\n",
       "\n",
       "    .dataframe tbody tr th {\n",
       "        vertical-align: top;\n",
       "    }\n",
       "\n",
       "    .dataframe thead th {\n",
       "        text-align: right;\n",
       "    }\n",
       "</style>\n",
       "<table border=\"1\" class=\"dataframe\">\n",
       "  <thead>\n",
       "    <tr style=\"text-align: right;\">\n",
       "      <th></th>\n",
       "      <th>name</th>\n",
       "      <th>countries</th>\n",
       "      <th>country codes alpha 3</th>\n",
       "      <th>endangerment</th>\n",
       "      <th>speakers</th>\n",
       "      <th>latitude</th>\n",
       "      <th>longitude</th>\n",
       "    </tr>\n",
       "  </thead>\n",
       "  <tbody>\n",
       "    <tr>\n",
       "      <th>2539</th>\n",
       "      <td>A'tong</td>\n",
       "      <td>India</td>\n",
       "      <td>IND</td>\n",
       "      <td>Severely endangered</td>\n",
       "      <td>NaN</td>\n",
       "      <td>25.2844</td>\n",
       "      <td>91.1755</td>\n",
       "    </tr>\n",
       "    <tr>\n",
       "      <th>2540</th>\n",
       "      <td>Aché</td>\n",
       "      <td>Paraguay</td>\n",
       "      <td>PRY</td>\n",
       "      <td>Definitely endangered</td>\n",
       "      <td>NaN</td>\n",
       "      <td>-25.6613</td>\n",
       "      <td>-55.6787</td>\n",
       "    </tr>\n",
       "    <tr>\n",
       "      <th>2541</th>\n",
       "      <td>Akie</td>\n",
       "      <td>United Republic of Tanzania</td>\n",
       "      <td>TZA</td>\n",
       "      <td>Critically endangered</td>\n",
       "      <td>NaN</td>\n",
       "      <td>-4.7735</td>\n",
       "      <td>37.3315</td>\n",
       "    </tr>\n",
       "    <tr>\n",
       "      <th>2542</th>\n",
       "      <td>Akuriyo</td>\n",
       "      <td>Suriname</td>\n",
       "      <td>SUR</td>\n",
       "      <td>Critically endangered</td>\n",
       "      <td>NaN</td>\n",
       "      <td>2.8442</td>\n",
       "      <td>-55.7556</td>\n",
       "    </tr>\n",
       "    <tr>\n",
       "      <th>2543</th>\n",
       "      <td>Alemannic</td>\n",
       "      <td>Germany, Austria, France, Italy, Liechtenstein...</td>\n",
       "      <td>DEU, AUT, FRA, ITA, LIE, CHE</td>\n",
       "      <td>Vulnerable</td>\n",
       "      <td>NaN</td>\n",
       "      <td>47.2792</td>\n",
       "      <td>7.6904</td>\n",
       "    </tr>\n",
       "    <tr>\n",
       "      <th>...</th>\n",
       "      <td>...</td>\n",
       "      <td>...</td>\n",
       "      <td>...</td>\n",
       "      <td>...</td>\n",
       "      <td>...</td>\n",
       "      <td>...</td>\n",
       "      <td>...</td>\n",
       "    </tr>\n",
       "    <tr>\n",
       "      <th>2717</th>\n",
       "      <td>Yonaguni</td>\n",
       "      <td>Japan</td>\n",
       "      <td>JPN</td>\n",
       "      <td>Severely endangered</td>\n",
       "      <td>NaN</td>\n",
       "      <td>24.4580</td>\n",
       "      <td>122.9802</td>\n",
       "    </tr>\n",
       "    <tr>\n",
       "      <th>2718</th>\n",
       "      <td>Yucuna</td>\n",
       "      <td>Colombia</td>\n",
       "      <td>COL</td>\n",
       "      <td>Definitely endangered</td>\n",
       "      <td>NaN</td>\n",
       "      <td>-1.2633</td>\n",
       "      <td>-70.6640</td>\n",
       "    </tr>\n",
       "    <tr>\n",
       "      <th>2719</th>\n",
       "      <td>Yurutí (Colombia)</td>\n",
       "      <td>Colombia</td>\n",
       "      <td>COL</td>\n",
       "      <td>Definitely endangered</td>\n",
       "      <td>NaN</td>\n",
       "      <td>1.1370</td>\n",
       "      <td>-70.2136</td>\n",
       "    </tr>\n",
       "    <tr>\n",
       "      <th>2720</th>\n",
       "      <td>Zangskari</td>\n",
       "      <td>India, Pakistan</td>\n",
       "      <td>IND, PAK</td>\n",
       "      <td>Definitely endangered</td>\n",
       "      <td>NaN</td>\n",
       "      <td>34.0833</td>\n",
       "      <td>76.8500</td>\n",
       "    </tr>\n",
       "    <tr>\n",
       "      <th>2721</th>\n",
       "      <td>Zidgali</td>\n",
       "      <td>Oman</td>\n",
       "      <td>OMN</td>\n",
       "      <td>Critically endangered</td>\n",
       "      <td>NaN</td>\n",
       "      <td>23.4027</td>\n",
       "      <td>58.0957</td>\n",
       "    </tr>\n",
       "  </tbody>\n",
       "</table>\n",
       "<p>183 rows × 7 columns</p>\n",
       "</div>"
      ],
      "text/plain": [
       "                   name                                          countries  \\\n",
       "2539             A'tong                                              India   \n",
       "2540               Aché                                           Paraguay   \n",
       "2541               Akie                        United Republic of Tanzania   \n",
       "2542            Akuriyo                                           Suriname   \n",
       "2543          Alemannic  Germany, Austria, France, Italy, Liechtenstein...   \n",
       "...                 ...                                                ...   \n",
       "2717           Yonaguni                                              Japan   \n",
       "2718             Yucuna                                           Colombia   \n",
       "2719  Yurutí (Colombia)                                           Colombia   \n",
       "2720          Zangskari                                    India, Pakistan   \n",
       "2721            Zidgali                                               Oman   \n",
       "\n",
       "             country codes alpha 3           endangerment  speakers  latitude  \\\n",
       "2539                           IND    Severely endangered       NaN   25.2844   \n",
       "2540                           PRY  Definitely endangered       NaN  -25.6613   \n",
       "2541                           TZA  Critically endangered       NaN   -4.7735   \n",
       "2542                           SUR  Critically endangered       NaN    2.8442   \n",
       "2543  DEU, AUT, FRA, ITA, LIE, CHE             Vulnerable       NaN   47.2792   \n",
       "...                            ...                    ...       ...       ...   \n",
       "2717                           JPN    Severely endangered       NaN   24.4580   \n",
       "2718                           COL  Definitely endangered       NaN   -1.2633   \n",
       "2719                           COL  Definitely endangered       NaN    1.1370   \n",
       "2720                      IND, PAK  Definitely endangered       NaN   34.0833   \n",
       "2721                           OMN  Critically endangered       NaN   23.4027   \n",
       "\n",
       "      longitude  \n",
       "2539    91.1755  \n",
       "2540   -55.6787  \n",
       "2541    37.3315  \n",
       "2542   -55.7556  \n",
       "2543     7.6904  \n",
       "...         ...  \n",
       "2717   122.9802  \n",
       "2718   -70.6640  \n",
       "2719   -70.2136  \n",
       "2720    76.8500  \n",
       "2721    58.0957  \n",
       "\n",
       "[183 rows x 7 columns]"
      ]
     },
     "execution_count": 13,
     "metadata": {},
     "output_type": "execute_result"
    }
   ],
   "source": [
    "df_new[df_new['speakers'].isnull()]"
   ]
  },
  {
   "cell_type": "code",
   "execution_count": 14,
   "metadata": {},
   "outputs": [
    {
     "data": {
      "text/html": [
       "<div>\n",
       "<style scoped>\n",
       "    .dataframe tbody tr th:only-of-type {\n",
       "        vertical-align: middle;\n",
       "    }\n",
       "\n",
       "    .dataframe tbody tr th {\n",
       "        vertical-align: top;\n",
       "    }\n",
       "\n",
       "    .dataframe thead th {\n",
       "        text-align: right;\n",
       "    }\n",
       "</style>\n",
       "<table border=\"1\" class=\"dataframe\">\n",
       "  <thead>\n",
       "    <tr style=\"text-align: right;\">\n",
       "      <th></th>\n",
       "      <th>name</th>\n",
       "      <th>countries</th>\n",
       "      <th>country codes alpha 3</th>\n",
       "      <th>endangerment</th>\n",
       "      <th>speakers</th>\n",
       "      <th>latitude</th>\n",
       "      <th>longitude</th>\n",
       "    </tr>\n",
       "  </thead>\n",
       "  <tbody>\n",
       "    <tr>\n",
       "      <th>405</th>\n",
       "      <td>Boro</td>\n",
       "      <td>NaN</td>\n",
       "      <td>NaN</td>\n",
       "      <td>Definitely endangered</td>\n",
       "      <td>19878.0</td>\n",
       "      <td>10.3581</td>\n",
       "      <td>35.0024</td>\n",
       "    </tr>\n",
       "  </tbody>\n",
       "</table>\n",
       "</div>"
      ],
      "text/plain": [
       "     name countries country codes alpha 3           endangerment  speakers  \\\n",
       "405  Boro       NaN                   NaN  Definitely endangered   19878.0   \n",
       "\n",
       "     latitude  longitude  \n",
       "405   10.3581    35.0024  "
      ]
     },
     "execution_count": 14,
     "metadata": {},
     "output_type": "execute_result"
    }
   ],
   "source": [
    "df_new[df_new['countries'].isnull()]"
   ]
  },
  {
   "cell_type": "code",
   "execution_count": 18,
   "metadata": {},
   "outputs": [],
   "source": [
    "df_new['speakers'] = df_new['speakers'].fillna(0)"
   ]
  },
  {
   "cell_type": "code",
   "execution_count": 19,
   "metadata": {},
   "outputs": [
    {
     "data": {
      "text/plain": [
       "name                     0\n",
       "countries                1\n",
       "country codes alpha 3    1\n",
       "endangerment             0\n",
       "speakers                 0\n",
       "latitude                 3\n",
       "longitude                3\n",
       "dtype: int64"
      ]
     },
     "execution_count": 19,
     "metadata": {},
     "output_type": "execute_result"
    }
   ],
   "source": [
    "df_new.isnull().sum()"
   ]
  },
  {
   "cell_type": "markdown",
   "metadata": {},
   "source": [
    "###"
   ]
  },
  {
   "cell_type": "code",
   "execution_count": 20,
   "metadata": {},
   "outputs": [
    {
     "data": {
      "text/plain": [
       "name                     0\n",
       "countries                0\n",
       "country codes alpha 3    0\n",
       "endangerment             0\n",
       "speakers                 0\n",
       "latitude                 0\n",
       "longitude                0\n",
       "dtype: int64"
      ]
     },
     "execution_count": 20,
     "metadata": {},
     "output_type": "execute_result"
    }
   ],
   "source": [
    "df_new = df_new.dropna()\n",
    "df_new.isnull().sum()"
   ]
  },
  {
   "cell_type": "code",
   "execution_count": 21,
   "metadata": {},
   "outputs": [
    {
     "data": {
      "text/plain": [
       "(2718, 7)"
      ]
     },
     "execution_count": 21,
     "metadata": {},
     "output_type": "execute_result"
    }
   ],
   "source": [
    "df_new.shape"
   ]
  },
  {
   "cell_type": "code",
   "execution_count": 22,
   "metadata": {},
   "outputs": [],
   "source": [
    "#df_new.to_csv('df_new.csv', sep=',', index=True)"
   ]
  },
  {
   "cell_type": "code",
   "execution_count": 23,
   "metadata": {},
   "outputs": [
    {
     "data": {
      "text/plain": [
       "array(['Vulnerable', 'Definitely endangered', 'Severely endangered',\n",
       "       'Critically endangered', 'Extinct'], dtype=object)"
      ]
     },
     "execution_count": 23,
     "metadata": {},
     "output_type": "execute_result"
    }
   ],
   "source": [
    "df_new['endangerment'].unique()"
   ]
  },
  {
   "cell_type": "code",
   "execution_count": 24,
   "metadata": {},
   "outputs": [
    {
     "data": {
      "text/plain": [
       "Definitely endangered    679\n",
       "Vulnerable               627\n",
       "Critically endangered    606\n",
       "Severely endangered      554\n",
       "Extinct                  252\n",
       "Name: endangerment, dtype: int64"
      ]
     },
     "execution_count": 24,
     "metadata": {},
     "output_type": "execute_result"
    }
   ],
   "source": [
    "df_new['endangerment'].value_counts()"
   ]
  },
  {
   "cell_type": "code",
   "execution_count": 25,
   "metadata": {},
   "outputs": [
    {
     "name": "stdout",
     "output_type": "stream",
     "text": [
      "United States of America                                                                                                                                                                                                                                                                                             216\n",
      "Brazil                                                                                                                                                                                                                                                                                                               186\n",
      "India                                                                                                                                                                                                                                                                                                                163\n",
      "Indonesia                                                                                                                                                                                                                                                                                                            149\n",
      "Mexico                                                                                                                                                                                                                                                                                                               143\n",
      "                                                                                                                                                                                                                                                                                                                    ... \n",
      "Brazil, Colombia, Venezuela (Bolivarian Republic of)                                                                                                                                                                                                                                                                   1\n",
      "Latvia, Russian Federation                                                                                                                                                                                                                                                                                             1\n",
      "China, India, Nepal                                                                                                                                                                                                                                                                                                    1\n",
      "Nauru                                                                                                                                                                                                                                                                                                                  1\n",
      "Germany, Austria, Belarus, Belgium, Denmark, Estonia, Finland, France, Hungary, Italy, Latvia, Lithuania, Luxembourg, Republic of Moldova, Norway, Netherlands, Poland, Romania, United Kingdom of Great Britain and Northern Ireland, Russian Federation, Slovakia, Sweden, Switzerland, Czech Republic, Ukraine      1\n",
      "Name: countries, Length: 252, dtype: int64\n"
     ]
    }
   ],
   "source": [
    "# Paises en los cuales hay mayor presencia de lenguas en peligro \n",
    "counts= df_new[\"countries\"].value_counts()\n",
    "print(counts)"
   ]
  },
  {
   "cell_type": "code",
   "execution_count": 26,
   "metadata": {},
   "outputs": [
    {
     "data": {
      "text/plain": [
       "United States of America    216\n",
       "Brazil                      186\n",
       "India                       163\n",
       "Indonesia                   149\n",
       "Mexico                      143\n",
       "China                       122\n",
       "Russian Federation          119\n",
       "Australia                   108\n",
       "Papua New Guinea             98\n",
       "Canada                       82\n",
       "Name: countries, dtype: int64"
      ]
     },
     "execution_count": 26,
     "metadata": {},
     "output_type": "execute_result"
    }
   ],
   "source": [
    "counts_sort = counts.sort_values(ascending=False)\n",
    "\n",
    "counts_sort.head(10)"
   ]
  },
  {
   "cell_type": "code",
   "execution_count": null,
   "metadata": {},
   "outputs": [],
   "source": [
    "#fig = px.pie(df_new, values='speakers', names='countries', title='number')\n",
    "#fig.show()"
   ]
  },
  {
   "cell_type": "code",
   "execution_count": null,
   "metadata": {},
   "outputs": [],
   "source": [
    "df_peru= df_new[df_new['countries'].str.contains('Peru')]"
   ]
  },
  {
   "cell_type": "code",
   "execution_count": null,
   "metadata": {},
   "outputs": [],
   "source": [
    "fig = px.pie(df_peru, values='speakers', names='endangerment', title='endangerment_peru')\n",
    "fig.show()"
   ]
  },
  {
   "cell_type": "markdown",
   "metadata": {},
   "source": [
    "### BRAZIL "
   ]
  },
  {
   "cell_type": "code",
   "execution_count": 40,
   "metadata": {},
   "outputs": [
    {
     "data": {
      "text/html": [
       "<div>\n",
       "<style scoped>\n",
       "    .dataframe tbody tr th:only-of-type {\n",
       "        vertical-align: middle;\n",
       "    }\n",
       "\n",
       "    .dataframe tbody tr th {\n",
       "        vertical-align: top;\n",
       "    }\n",
       "\n",
       "    .dataframe thead th {\n",
       "        text-align: right;\n",
       "    }\n",
       "</style>\n",
       "<table border=\"1\" class=\"dataframe\">\n",
       "  <thead>\n",
       "    <tr style=\"text-align: right;\">\n",
       "      <th></th>\n",
       "      <th>name</th>\n",
       "      <th>countries</th>\n",
       "      <th>country codes alpha 3</th>\n",
       "      <th>endangerment</th>\n",
       "      <th>speakers</th>\n",
       "      <th>latitude</th>\n",
       "      <th>longitude</th>\n",
       "    </tr>\n",
       "  </thead>\n",
       "  <tbody>\n",
       "    <tr>\n",
       "      <th>298</th>\n",
       "      <td>Ticuna</td>\n",
       "      <td>Brazil, Colombia, Peru</td>\n",
       "      <td>BRA, COL, PER</td>\n",
       "      <td>Definitely endangered</td>\n",
       "      <td>35000.0</td>\n",
       "      <td>-4.3464</td>\n",
       "      <td>-70.0048</td>\n",
       "    </tr>\n",
       "    <tr>\n",
       "      <th>392</th>\n",
       "      <td>Kaiowá Guarani</td>\n",
       "      <td>Brazil</td>\n",
       "      <td>BRA</td>\n",
       "      <td>Vulnerable</td>\n",
       "      <td>20000.0</td>\n",
       "      <td>-21.5812</td>\n",
       "      <td>-55.0759</td>\n",
       "    </tr>\n",
       "    <tr>\n",
       "      <th>409</th>\n",
       "      <td>Terena</td>\n",
       "      <td>Brazil</td>\n",
       "      <td>BRA</td>\n",
       "      <td>Severely endangered</td>\n",
       "      <td>19000.0</td>\n",
       "      <td>-20.2841</td>\n",
       "      <td>-55.4638</td>\n",
       "    </tr>\n",
       "    <tr>\n",
       "      <th>412</th>\n",
       "      <td>Kaingang</td>\n",
       "      <td>Brazil</td>\n",
       "      <td>BRA</td>\n",
       "      <td>Definitely endangered</td>\n",
       "      <td>18500.0</td>\n",
       "      <td>-28.1495</td>\n",
       "      <td>-52.4707</td>\n",
       "    </tr>\n",
       "  </tbody>\n",
       "</table>\n",
       "</div>"
      ],
      "text/plain": [
       "               name               countries country codes alpha 3  \\\n",
       "298          Ticuna  Brazil, Colombia, Peru         BRA, COL, PER   \n",
       "392  Kaiowá Guarani                  Brazil                   BRA   \n",
       "409          Terena                  Brazil                   BRA   \n",
       "412        Kaingang                  Brazil                   BRA   \n",
       "\n",
       "              endangerment  speakers  latitude  longitude  \n",
       "298  Definitely endangered   35000.0   -4.3464   -70.0048  \n",
       "392             Vulnerable   20000.0  -21.5812   -55.0759  \n",
       "409    Severely endangered   19000.0  -20.2841   -55.4638  \n",
       "412  Definitely endangered   18500.0  -28.1495   -52.4707  "
      ]
     },
     "execution_count": 40,
     "metadata": {},
     "output_type": "execute_result"
    }
   ],
   "source": [
    "df_brazil = df_new[df_new['countries'].str.contains('Brazil')]\n",
    "df_brazil.head(4)\n"
   ]
  },
  {
   "cell_type": "code",
   "execution_count": 41,
   "metadata": {},
   "outputs": [
    {
     "data": {
      "text/plain": [
       "array(['Brazil, Colombia, Peru', 'Brazil',\n",
       "       'Brazil, Colombia, Venezuela (Bolivarian Republic of)',\n",
       "       'Brazil, Paraguay', 'Brazil, Suriname'], dtype=object)"
      ]
     },
     "execution_count": 41,
     "metadata": {},
     "output_type": "execute_result"
    }
   ],
   "source": [
    "df_brazil['countries'].unique()"
   ]
  },
  {
   "cell_type": "code",
   "execution_count": 42,
   "metadata": {},
   "outputs": [
    {
     "data": {
      "text/plain": [
       "(190, 7)"
      ]
     },
     "execution_count": 42,
     "metadata": {},
     "output_type": "execute_result"
    }
   ],
   "source": [
    "df_brazil.shape"
   ]
  },
  {
   "cell_type": "code",
   "execution_count": null,
   "metadata": {},
   "outputs": [],
   "source": []
  },
  {
   "cell_type": "markdown",
   "metadata": {},
   "source": [
    "### USA"
   ]
  },
  {
   "cell_type": "code",
   "execution_count": 36,
   "metadata": {},
   "outputs": [
    {
     "data": {
      "text/html": [
       "<div>\n",
       "<style scoped>\n",
       "    .dataframe tbody tr th:only-of-type {\n",
       "        vertical-align: middle;\n",
       "    }\n",
       "\n",
       "    .dataframe tbody tr th {\n",
       "        vertical-align: top;\n",
       "    }\n",
       "\n",
       "    .dataframe thead th {\n",
       "        text-align: right;\n",
       "    }\n",
       "</style>\n",
       "<table border=\"1\" class=\"dataframe\">\n",
       "  <thead>\n",
       "    <tr style=\"text-align: right;\">\n",
       "      <th></th>\n",
       "      <th>name</th>\n",
       "      <th>countries</th>\n",
       "      <th>country codes alpha 3</th>\n",
       "      <th>endangerment</th>\n",
       "      <th>speakers</th>\n",
       "      <th>latitude</th>\n",
       "      <th>longitude</th>\n",
       "    </tr>\n",
       "  </thead>\n",
       "  <tbody>\n",
       "    <tr>\n",
       "      <th>156</th>\n",
       "      <td>Navajo</td>\n",
       "      <td>United States of America</td>\n",
       "      <td>USA</td>\n",
       "      <td>Vulnerable</td>\n",
       "      <td>120000.0</td>\n",
       "      <td>35.8044</td>\n",
       "      <td>-108.4750</td>\n",
       "    </tr>\n",
       "    <tr>\n",
       "      <th>359</th>\n",
       "      <td>Sioux</td>\n",
       "      <td>United States of America</td>\n",
       "      <td>USA</td>\n",
       "      <td>Vulnerable</td>\n",
       "      <td>25000.0</td>\n",
       "      <td>43.0588</td>\n",
       "      <td>-102.5244</td>\n",
       "    </tr>\n",
       "    <tr>\n",
       "      <th>443</th>\n",
       "      <td>O'odham (Akimel)</td>\n",
       "      <td>United States of America</td>\n",
       "      <td>USA</td>\n",
       "      <td>Definitely endangered</td>\n",
       "      <td>15000.0</td>\n",
       "      <td>33.0590</td>\n",
       "      <td>-112.0479</td>\n",
       "    </tr>\n",
       "  </tbody>\n",
       "</table>\n",
       "</div>"
      ],
      "text/plain": [
       "                 name                 countries country codes alpha 3  \\\n",
       "156            Navajo  United States of America                   USA   \n",
       "359             Sioux  United States of America                   USA   \n",
       "443  O'odham (Akimel)  United States of America                   USA   \n",
       "\n",
       "              endangerment  speakers  latitude  longitude  \n",
       "156             Vulnerable  120000.0   35.8044  -108.4750  \n",
       "359             Vulnerable   25000.0   43.0588  -102.5244  \n",
       "443  Definitely endangered   15000.0   33.0590  -112.0479  "
      ]
     },
     "execution_count": 36,
     "metadata": {},
     "output_type": "execute_result"
    }
   ],
   "source": [
    "df_usa=df_new[df_new['countries'].str.contains('United States of America')]\n",
    "df_usa.head(3)"
   ]
  },
  {
   "cell_type": "code",
   "execution_count": 44,
   "metadata": {},
   "outputs": [
    {
     "ename": "KeyError",
     "evalue": "\"['countries', 'country codes alpha 3', 'speakers'] not found in axis\"",
     "output_type": "error",
     "traceback": [
      "\u001b[0;31m---------------------------------------------------------------------------\u001b[0m",
      "\u001b[0;31mKeyError\u001b[0m                                  Traceback (most recent call last)",
      "Cell \u001b[0;32mIn [44], line 1\u001b[0m\n\u001b[0;32m----> 1\u001b[0m df_usa\u001b[38;5;241m=\u001b[39m\u001b[43mdf_usa\u001b[49m\u001b[38;5;241;43m.\u001b[39;49m\u001b[43mdrop\u001b[49m\u001b[43m(\u001b[49m\u001b[43mlabels\u001b[49m\u001b[38;5;241;43m=\u001b[39;49m\u001b[43m[\u001b[49m\u001b[38;5;124;43m'\u001b[39;49m\u001b[38;5;124;43mcountries\u001b[39;49m\u001b[38;5;124;43m'\u001b[39;49m\u001b[43m,\u001b[49m\u001b[38;5;124;43m'\u001b[39;49m\u001b[38;5;124;43mcountry codes alpha 3\u001b[39;49m\u001b[38;5;124;43m'\u001b[39;49m\u001b[43m,\u001b[49m\u001b[38;5;124;43m'\u001b[39;49m\u001b[38;5;124;43mspeakers\u001b[39;49m\u001b[38;5;124;43m'\u001b[39;49m\u001b[43m]\u001b[49m\u001b[43m,\u001b[49m\u001b[43m \u001b[49m\u001b[43maxis\u001b[49m\u001b[38;5;241;43m=\u001b[39;49m\u001b[38;5;241;43m1\u001b[39;49m\u001b[43m)\u001b[49m\n\u001b[1;32m      2\u001b[0m df_usa\u001b[38;5;241m.\u001b[39mhead(\u001b[38;5;241m2\u001b[39m)\n",
      "File \u001b[0;32m/opt/anaconda3/envs/iron/lib/python3.9/site-packages/pandas/util/_decorators.py:331\u001b[0m, in \u001b[0;36mdeprecate_nonkeyword_arguments.<locals>.decorate.<locals>.wrapper\u001b[0;34m(*args, **kwargs)\u001b[0m\n\u001b[1;32m    325\u001b[0m \u001b[38;5;28;01mif\u001b[39;00m \u001b[38;5;28mlen\u001b[39m(args) \u001b[38;5;241m>\u001b[39m num_allow_args:\n\u001b[1;32m    326\u001b[0m     warnings\u001b[38;5;241m.\u001b[39mwarn(\n\u001b[1;32m    327\u001b[0m         msg\u001b[38;5;241m.\u001b[39mformat(arguments\u001b[38;5;241m=\u001b[39m_format_argument_list(allow_args)),\n\u001b[1;32m    328\u001b[0m         \u001b[38;5;167;01mFutureWarning\u001b[39;00m,\n\u001b[1;32m    329\u001b[0m         stacklevel\u001b[38;5;241m=\u001b[39mfind_stack_level(),\n\u001b[1;32m    330\u001b[0m     )\n\u001b[0;32m--> 331\u001b[0m \u001b[38;5;28;01mreturn\u001b[39;00m \u001b[43mfunc\u001b[49m\u001b[43m(\u001b[49m\u001b[38;5;241;43m*\u001b[39;49m\u001b[43margs\u001b[49m\u001b[43m,\u001b[49m\u001b[43m \u001b[49m\u001b[38;5;241;43m*\u001b[39;49m\u001b[38;5;241;43m*\u001b[39;49m\u001b[43mkwargs\u001b[49m\u001b[43m)\u001b[49m\n",
      "File \u001b[0;32m/opt/anaconda3/envs/iron/lib/python3.9/site-packages/pandas/core/frame.py:5388\u001b[0m, in \u001b[0;36mDataFrame.drop\u001b[0;34m(self, labels, axis, index, columns, level, inplace, errors)\u001b[0m\n\u001b[1;32m   5240\u001b[0m \u001b[38;5;129m@deprecate_nonkeyword_arguments\u001b[39m(version\u001b[38;5;241m=\u001b[39m\u001b[38;5;28;01mNone\u001b[39;00m, allowed_args\u001b[38;5;241m=\u001b[39m[\u001b[38;5;124m\"\u001b[39m\u001b[38;5;124mself\u001b[39m\u001b[38;5;124m\"\u001b[39m, \u001b[38;5;124m\"\u001b[39m\u001b[38;5;124mlabels\u001b[39m\u001b[38;5;124m\"\u001b[39m])\n\u001b[1;32m   5241\u001b[0m \u001b[38;5;28;01mdef\u001b[39;00m \u001b[38;5;21mdrop\u001b[39m(  \u001b[38;5;66;03m# type: ignore[override]\u001b[39;00m\n\u001b[1;32m   5242\u001b[0m     \u001b[38;5;28mself\u001b[39m,\n\u001b[0;32m   (...)\u001b[0m\n\u001b[1;32m   5249\u001b[0m     errors: IgnoreRaise \u001b[38;5;241m=\u001b[39m \u001b[38;5;124m\"\u001b[39m\u001b[38;5;124mraise\u001b[39m\u001b[38;5;124m\"\u001b[39m,\n\u001b[1;32m   5250\u001b[0m ) \u001b[38;5;241m-\u001b[39m\u001b[38;5;241m>\u001b[39m DataFrame \u001b[38;5;241m|\u001b[39m \u001b[38;5;28;01mNone\u001b[39;00m:\n\u001b[1;32m   5251\u001b[0m     \u001b[38;5;124;03m\"\"\"\u001b[39;00m\n\u001b[1;32m   5252\u001b[0m \u001b[38;5;124;03m    Drop specified labels from rows or columns.\u001b[39;00m\n\u001b[1;32m   5253\u001b[0m \n\u001b[0;32m   (...)\u001b[0m\n\u001b[1;32m   5386\u001b[0m \u001b[38;5;124;03m            weight  1.0     0.8\u001b[39;00m\n\u001b[1;32m   5387\u001b[0m \u001b[38;5;124;03m    \"\"\"\u001b[39;00m\n\u001b[0;32m-> 5388\u001b[0m     \u001b[38;5;28;01mreturn\u001b[39;00m \u001b[38;5;28;43msuper\u001b[39;49m\u001b[43m(\u001b[49m\u001b[43m)\u001b[49m\u001b[38;5;241;43m.\u001b[39;49m\u001b[43mdrop\u001b[49m\u001b[43m(\u001b[49m\n\u001b[1;32m   5389\u001b[0m \u001b[43m        \u001b[49m\u001b[43mlabels\u001b[49m\u001b[38;5;241;43m=\u001b[39;49m\u001b[43mlabels\u001b[49m\u001b[43m,\u001b[49m\n\u001b[1;32m   5390\u001b[0m \u001b[43m        \u001b[49m\u001b[43maxis\u001b[49m\u001b[38;5;241;43m=\u001b[39;49m\u001b[43maxis\u001b[49m\u001b[43m,\u001b[49m\n\u001b[1;32m   5391\u001b[0m \u001b[43m        \u001b[49m\u001b[43mindex\u001b[49m\u001b[38;5;241;43m=\u001b[39;49m\u001b[43mindex\u001b[49m\u001b[43m,\u001b[49m\n\u001b[1;32m   5392\u001b[0m \u001b[43m        \u001b[49m\u001b[43mcolumns\u001b[49m\u001b[38;5;241;43m=\u001b[39;49m\u001b[43mcolumns\u001b[49m\u001b[43m,\u001b[49m\n\u001b[1;32m   5393\u001b[0m \u001b[43m        \u001b[49m\u001b[43mlevel\u001b[49m\u001b[38;5;241;43m=\u001b[39;49m\u001b[43mlevel\u001b[49m\u001b[43m,\u001b[49m\n\u001b[1;32m   5394\u001b[0m \u001b[43m        \u001b[49m\u001b[43minplace\u001b[49m\u001b[38;5;241;43m=\u001b[39;49m\u001b[43minplace\u001b[49m\u001b[43m,\u001b[49m\n\u001b[1;32m   5395\u001b[0m \u001b[43m        \u001b[49m\u001b[43merrors\u001b[49m\u001b[38;5;241;43m=\u001b[39;49m\u001b[43merrors\u001b[49m\u001b[43m,\u001b[49m\n\u001b[1;32m   5396\u001b[0m \u001b[43m    \u001b[49m\u001b[43m)\u001b[49m\n",
      "File \u001b[0;32m/opt/anaconda3/envs/iron/lib/python3.9/site-packages/pandas/util/_decorators.py:331\u001b[0m, in \u001b[0;36mdeprecate_nonkeyword_arguments.<locals>.decorate.<locals>.wrapper\u001b[0;34m(*args, **kwargs)\u001b[0m\n\u001b[1;32m    325\u001b[0m \u001b[38;5;28;01mif\u001b[39;00m \u001b[38;5;28mlen\u001b[39m(args) \u001b[38;5;241m>\u001b[39m num_allow_args:\n\u001b[1;32m    326\u001b[0m     warnings\u001b[38;5;241m.\u001b[39mwarn(\n\u001b[1;32m    327\u001b[0m         msg\u001b[38;5;241m.\u001b[39mformat(arguments\u001b[38;5;241m=\u001b[39m_format_argument_list(allow_args)),\n\u001b[1;32m    328\u001b[0m         \u001b[38;5;167;01mFutureWarning\u001b[39;00m,\n\u001b[1;32m    329\u001b[0m         stacklevel\u001b[38;5;241m=\u001b[39mfind_stack_level(),\n\u001b[1;32m    330\u001b[0m     )\n\u001b[0;32m--> 331\u001b[0m \u001b[38;5;28;01mreturn\u001b[39;00m \u001b[43mfunc\u001b[49m\u001b[43m(\u001b[49m\u001b[38;5;241;43m*\u001b[39;49m\u001b[43margs\u001b[49m\u001b[43m,\u001b[49m\u001b[43m \u001b[49m\u001b[38;5;241;43m*\u001b[39;49m\u001b[38;5;241;43m*\u001b[39;49m\u001b[43mkwargs\u001b[49m\u001b[43m)\u001b[49m\n",
      "File \u001b[0;32m/opt/anaconda3/envs/iron/lib/python3.9/site-packages/pandas/core/generic.py:4505\u001b[0m, in \u001b[0;36mNDFrame.drop\u001b[0;34m(self, labels, axis, index, columns, level, inplace, errors)\u001b[0m\n\u001b[1;32m   4503\u001b[0m \u001b[38;5;28;01mfor\u001b[39;00m axis, labels \u001b[38;5;129;01min\u001b[39;00m axes\u001b[38;5;241m.\u001b[39mitems():\n\u001b[1;32m   4504\u001b[0m     \u001b[38;5;28;01mif\u001b[39;00m labels \u001b[38;5;129;01mis\u001b[39;00m \u001b[38;5;129;01mnot\u001b[39;00m \u001b[38;5;28;01mNone\u001b[39;00m:\n\u001b[0;32m-> 4505\u001b[0m         obj \u001b[38;5;241m=\u001b[39m \u001b[43mobj\u001b[49m\u001b[38;5;241;43m.\u001b[39;49m\u001b[43m_drop_axis\u001b[49m\u001b[43m(\u001b[49m\u001b[43mlabels\u001b[49m\u001b[43m,\u001b[49m\u001b[43m \u001b[49m\u001b[43maxis\u001b[49m\u001b[43m,\u001b[49m\u001b[43m \u001b[49m\u001b[43mlevel\u001b[49m\u001b[38;5;241;43m=\u001b[39;49m\u001b[43mlevel\u001b[49m\u001b[43m,\u001b[49m\u001b[43m \u001b[49m\u001b[43merrors\u001b[49m\u001b[38;5;241;43m=\u001b[39;49m\u001b[43merrors\u001b[49m\u001b[43m)\u001b[49m\n\u001b[1;32m   4507\u001b[0m \u001b[38;5;28;01mif\u001b[39;00m inplace:\n\u001b[1;32m   4508\u001b[0m     \u001b[38;5;28mself\u001b[39m\u001b[38;5;241m.\u001b[39m_update_inplace(obj)\n",
      "File \u001b[0;32m/opt/anaconda3/envs/iron/lib/python3.9/site-packages/pandas/core/generic.py:4546\u001b[0m, in \u001b[0;36mNDFrame._drop_axis\u001b[0;34m(self, labels, axis, level, errors, only_slice)\u001b[0m\n\u001b[1;32m   4544\u001b[0m         new_axis \u001b[38;5;241m=\u001b[39m axis\u001b[38;5;241m.\u001b[39mdrop(labels, level\u001b[38;5;241m=\u001b[39mlevel, errors\u001b[38;5;241m=\u001b[39merrors)\n\u001b[1;32m   4545\u001b[0m     \u001b[38;5;28;01melse\u001b[39;00m:\n\u001b[0;32m-> 4546\u001b[0m         new_axis \u001b[38;5;241m=\u001b[39m \u001b[43maxis\u001b[49m\u001b[38;5;241;43m.\u001b[39;49m\u001b[43mdrop\u001b[49m\u001b[43m(\u001b[49m\u001b[43mlabels\u001b[49m\u001b[43m,\u001b[49m\u001b[43m \u001b[49m\u001b[43merrors\u001b[49m\u001b[38;5;241;43m=\u001b[39;49m\u001b[43merrors\u001b[49m\u001b[43m)\u001b[49m\n\u001b[1;32m   4547\u001b[0m     indexer \u001b[38;5;241m=\u001b[39m axis\u001b[38;5;241m.\u001b[39mget_indexer(new_axis)\n\u001b[1;32m   4549\u001b[0m \u001b[38;5;66;03m# Case for non-unique axis\u001b[39;00m\n\u001b[1;32m   4550\u001b[0m \u001b[38;5;28;01melse\u001b[39;00m:\n",
      "File \u001b[0;32m/opt/anaconda3/envs/iron/lib/python3.9/site-packages/pandas/core/indexes/base.py:6975\u001b[0m, in \u001b[0;36mIndex.drop\u001b[0;34m(self, labels, errors)\u001b[0m\n\u001b[1;32m   6973\u001b[0m \u001b[38;5;28;01mif\u001b[39;00m mask\u001b[38;5;241m.\u001b[39many():\n\u001b[1;32m   6974\u001b[0m     \u001b[38;5;28;01mif\u001b[39;00m errors \u001b[38;5;241m!=\u001b[39m \u001b[38;5;124m\"\u001b[39m\u001b[38;5;124mignore\u001b[39m\u001b[38;5;124m\"\u001b[39m:\n\u001b[0;32m-> 6975\u001b[0m         \u001b[38;5;28;01mraise\u001b[39;00m \u001b[38;5;167;01mKeyError\u001b[39;00m(\u001b[38;5;124mf\u001b[39m\u001b[38;5;124m\"\u001b[39m\u001b[38;5;132;01m{\u001b[39;00m\u001b[38;5;28mlist\u001b[39m(labels[mask])\u001b[38;5;132;01m}\u001b[39;00m\u001b[38;5;124m not found in axis\u001b[39m\u001b[38;5;124m\"\u001b[39m)\n\u001b[1;32m   6976\u001b[0m     indexer \u001b[38;5;241m=\u001b[39m indexer[\u001b[38;5;241m~\u001b[39mmask]\n\u001b[1;32m   6977\u001b[0m \u001b[38;5;28;01mreturn\u001b[39;00m \u001b[38;5;28mself\u001b[39m\u001b[38;5;241m.\u001b[39mdelete(indexer)\n",
      "\u001b[0;31mKeyError\u001b[0m: \"['countries', 'country codes alpha 3', 'speakers'] not found in axis\""
     ]
    }
   ],
   "source": [
    "df_usa=df_usa.drop(labels=['countries','country codes alpha 3','speakers'], axis=1)"
   ]
  },
  {
   "cell_type": "code",
   "execution_count": 45,
   "metadata": {},
   "outputs": [
    {
     "data": {
      "text/html": [
       "<div>\n",
       "<style scoped>\n",
       "    .dataframe tbody tr th:only-of-type {\n",
       "        vertical-align: middle;\n",
       "    }\n",
       "\n",
       "    .dataframe tbody tr th {\n",
       "        vertical-align: top;\n",
       "    }\n",
       "\n",
       "    .dataframe thead th {\n",
       "        text-align: right;\n",
       "    }\n",
       "</style>\n",
       "<table border=\"1\" class=\"dataframe\">\n",
       "  <thead>\n",
       "    <tr style=\"text-align: right;\">\n",
       "      <th></th>\n",
       "      <th>name</th>\n",
       "      <th>endangerment</th>\n",
       "      <th>latitude</th>\n",
       "      <th>longitude</th>\n",
       "    </tr>\n",
       "  </thead>\n",
       "  <tbody>\n",
       "    <tr>\n",
       "      <th>156</th>\n",
       "      <td>Navajo</td>\n",
       "      <td>Vulnerable</td>\n",
       "      <td>35.8044</td>\n",
       "      <td>-108.4750</td>\n",
       "    </tr>\n",
       "    <tr>\n",
       "      <th>359</th>\n",
       "      <td>Sioux</td>\n",
       "      <td>Vulnerable</td>\n",
       "      <td>43.0588</td>\n",
       "      <td>-102.5244</td>\n",
       "    </tr>\n",
       "  </tbody>\n",
       "</table>\n",
       "</div>"
      ],
      "text/plain": [
       "       name endangerment  latitude  longitude\n",
       "156  Navajo   Vulnerable   35.8044  -108.4750\n",
       "359   Sioux   Vulnerable   43.0588  -102.5244"
      ]
     },
     "execution_count": 45,
     "metadata": {},
     "output_type": "execute_result"
    }
   ],
   "source": [
    "df_usa.head(2)"
   ]
  },
  {
   "cell_type": "code",
   "execution_count": 46,
   "metadata": {},
   "outputs": [
    {
     "data": {
      "text/plain": [
       "(227, 4)"
      ]
     },
     "execution_count": 46,
     "metadata": {},
     "output_type": "execute_result"
    }
   ],
   "source": [
    "df_usa.shape"
   ]
  },
  {
   "cell_type": "code",
   "execution_count": 56,
   "metadata": {},
   "outputs": [
    {
     "data": {
      "image/png": "[encoded data removed]",
      "text/plain": [
       "<Figure size 800x500 with 1 Axes>"
      ]
     },
     "metadata": {},
     "output_type": "display_data"
    }
   ],
   "source": [
    "plt.figure(figsize = (8,5)) # para establecer el tamaño de la figura. Este tamaño solo se aplicará a esta figura \n",
    "\n",
    "plt.hist(df_usa[\"endangerment\"], edgecolor = \"black\", \n",
    "                        facecolor = \"orange\", \n",
    "                        bins = 10)\n",
    "plt.xticks(rotation=45);"
   ]
  },
  {
   "cell_type": "code",
   "execution_count": 57,
   "metadata": {},
   "outputs": [],
   "source": [
    "#df_usa.to_csv('df_usa.csv', sep=',', index=True)"
   ]
  },
  {
   "cell_type": "code",
   "execution_count": null,
   "metadata": {},
   "outputs": [],
   "source": []
  },
  {
   "cell_type": "code",
   "execution_count": null,
   "metadata": {},
   "outputs": [],
   "source": []
  },
  {
   "cell_type": "code",
   "execution_count": null,
   "metadata": {},
   "outputs": [],
   "source": []
  },
  {
   "cell_type": "markdown",
   "metadata": {},
   "source": [
    "### MEXICO"
   ]
  },
  {
   "cell_type": "code",
   "execution_count": null,
   "metadata": {},
   "outputs": [],
   "source": [
    "df_mex=df_new[df_new['countries'].str.contains('Mexico')]\n",
    "df_mex.head(3)"
   ]
  },
  {
   "cell_type": "code",
   "execution_count": null,
   "metadata": {},
   "outputs": [],
   "source": [
    "fig = px.pie(df_mex, values='speakers', names='', title='endangerment MX')\n",
    "fig.show()"
   ]
  },
  {
   "cell_type": "markdown",
   "metadata": {},
   "source": [
    "### CHINA"
   ]
  },
  {
   "cell_type": "code",
   "execution_count": null,
   "metadata": {},
   "outputs": [],
   "source": [
    "df_india=df_new[df_new['countries'].str.contains('India')]\n",
    "df_india.head(3)"
   ]
  },
  {
   "cell_type": "code",
   "execution_count": null,
   "metadata": {},
   "outputs": [],
   "source": [
    "fig = px.pie(df_india, values='speakers', names='endangerment', title='endangerment INDIA')\n",
    "fig.show()"
   ]
  },
  {
   "cell_type": "code",
   "execution_count": null,
   "metadata": {},
   "outputs": [],
   "source": []
  },
  {
   "cell_type": "code",
   "execution_count": null,
   "metadata": {},
   "outputs": [],
   "source": []
  },
  {
   "cell_type": "markdown",
   "metadata": {},
   "source": [
    "## most spoken "
   ]
  },
  {
   "cell_type": "code",
   "execution_count": 59,
   "metadata": {},
   "outputs": [
    {
     "data": {
      "text/html": [
       "<div>\n",
       "<style scoped>\n",
       "    .dataframe tbody tr th:only-of-type {\n",
       "        vertical-align: middle;\n",
       "    }\n",
       "\n",
       "    .dataframe tbody tr th {\n",
       "        vertical-align: top;\n",
       "    }\n",
       "\n",
       "    .dataframe thead th {\n",
       "        text-align: right;\n",
       "    }\n",
       "</style>\n",
       "<table border=\"1\" class=\"dataframe\">\n",
       "  <thead>\n",
       "    <tr style=\"text-align: right;\">\n",
       "      <th></th>\n",
       "      <th>Language</th>\n",
       "      <th>Total Speakers</th>\n",
       "      <th>Native Speakers</th>\n",
       "      <th>Origin</th>\n",
       "    </tr>\n",
       "  </thead>\n",
       "  <tbody>\n",
       "    <tr>\n",
       "      <th>0</th>\n",
       "      <td>English</td>\n",
       "      <td>1132366680</td>\n",
       "      <td>379007140.0</td>\n",
       "      <td>Indo-European</td>\n",
       "    </tr>\n",
       "    <tr>\n",
       "      <th>1</th>\n",
       "      <td>Mandarin Chinese</td>\n",
       "      <td>1116596640</td>\n",
       "      <td>917868640.0</td>\n",
       "      <td>Sino-Tibetan</td>\n",
       "    </tr>\n",
       "    <tr>\n",
       "      <th>2</th>\n",
       "      <td>Hindi</td>\n",
       "      <td>615475540</td>\n",
       "      <td>341208640.0</td>\n",
       "      <td>Indo-European</td>\n",
       "    </tr>\n",
       "    <tr>\n",
       "      <th>3</th>\n",
       "      <td>Spanish</td>\n",
       "      <td>534335730</td>\n",
       "      <td>460093030.0</td>\n",
       "      <td>Indo-European</td>\n",
       "    </tr>\n",
       "    <tr>\n",
       "      <th>4</th>\n",
       "      <td>French</td>\n",
       "      <td>279821930</td>\n",
       "      <td>77177210.0</td>\n",
       "      <td>Indo-European</td>\n",
       "    </tr>\n",
       "  </tbody>\n",
       "</table>\n",
       "</div>"
      ],
      "text/plain": [
       "           Language  Total Speakers  Native Speakers         Origin\n",
       "0           English      1132366680      379007140.0  Indo-European\n",
       "1  Mandarin Chinese      1116596640      917868640.0   Sino-Tibetan\n",
       "2             Hindi       615475540      341208640.0  Indo-European\n",
       "3           Spanish       534335730      460093030.0  Indo-European\n",
       "4            French       279821930       77177210.0  Indo-European"
      ]
     },
     "execution_count": 59,
     "metadata": {},
     "output_type": "execute_result"
    }
   ],
   "source": [
    "df_top= pd.read_csv(\"top_languages.csv\")\n",
    "df_top.head(5)"
   ]
  },
  {
   "cell_type": "code",
   "execution_count": null,
   "metadata": {},
   "outputs": [],
   "source": [
    "df_top.isnull().sum()"
   ]
  },
  {
   "cell_type": "code",
   "execution_count": null,
   "metadata": {},
   "outputs": [],
   "source": [
    "df_top.shape"
   ]
  },
  {
   "cell_type": "code",
   "execution_count": null,
   "metadata": {},
   "outputs": [],
   "source": [
    "counts= df_top[\"Total Speakers\"].value_counts()\n",
    "df_sort= counts.sort_values(ascending=False)\n",
    "df_sort"
   ]
  },
  {
   "cell_type": "code",
   "execution_count": null,
   "metadata": {},
   "outputs": [],
   "source": [
    "fig = px.pie(df_top, values='Total Speakers', names='Origin', title=\"Percentage Breakdown of Language Groups\")\n",
    "fig.show()"
   ]
  },
  {
   "cell_type": "code",
   "execution_count": null,
   "metadata": {},
   "outputs": [],
   "source": []
  },
  {
   "cell_type": "code",
   "execution_count": null,
   "metadata": {},
   "outputs": [],
   "source": []
  },
  {
   "cell_type": "code",
   "execution_count": null,
   "metadata": {},
   "outputs": [],
   "source": []
  },
  {
   "cell_type": "markdown",
   "metadata": {},
   "source": [
    "https://www.census.gov/dataviz/visualizations/045/\n",
    "https://www.census.gov/dataviz/visualizations/045/508.php"
   ]
  }
 ],
 "metadata": {
  "kernelspec": {
   "display_name": "iron",
   "language": "python",
   "name": "iron"
  },
  "language_info": {
   "codemirror_mode": {
    "name": "ipython",
    "version": 3
   },
   "file_extension": ".py",
   "mimetype": "text/x-python",
   "name": "python",
   "nbconvert_exporter": "python",
   "pygments_lexer": "ipython3",
   "version": "3.9.13"
  }
 },
 "nbformat": 4,
 "nbformat_minor": 4
}
