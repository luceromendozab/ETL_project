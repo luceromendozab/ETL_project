{
 "cells": [
  {
   "cell_type": "code",
   "execution_count": 1,
   "metadata": {},
   "outputs": [],
   "source": [
    "import pandas as pd\n",
    "import requests\n",
    "import json"
   ]
  },
  {
   "cell_type": "code",
   "execution_count": 3,
   "metadata": {},
   "outputs": [
    {
     "name": "stdout",
     "output_type": "stream",
     "text": [
      "Requirement already satisfied: python-dotenv in /opt/anaconda3/envs/iron/lib/python3.9/site-packages (0.21.0)\n",
      "Note: you may need to restart the kernel to use updated packages.\n"
     ]
    }
   ],
   "source": [
    "pip install python-dotenv"
   ]
  },
  {
   "cell_type": "code",
   "execution_count": 4,
   "metadata": {},
   "outputs": [
    {
     "data": {
      "text/plain": [
       "False"
      ]
     },
     "execution_count": 4,
     "metadata": {},
     "output_type": "execute_result"
    }
   ],
   "source": [
    "import os \n",
    "from dotenv import load_dotenv\n",
    "load_dotenv()"
   ]
  },
  {
   "cell_type": "code",
   "execution_count": 5,
   "metadata": {},
   "outputs": [
    {
     "name": "stdout",
     "output_type": "stream",
     "text": [
      "None\n"
     ]
    }
   ],
   "source": [
    "token = os.getenv(\"token\") \n",
    "print(token)"
   ]
  },
  {
   "cell_type": "code",
   "execution_count": null,
   "metadata": {},
   "outputs": [],
   "source": [
    ": api.census.gov/data/2019/pep/population "
   ]
  },
  {
   "cell_type": "code",
   "execution_count": null,
   "metadata": {},
   "outputs": [],
   "source": []
  },
  {
   "cell_type": "code",
   "execution_count": null,
   "metadata": {},
   "outputs": [],
   "source": []
  },
  {
   "cell_type": "markdown",
   "metadata": {},
   "source": [
    "\n",
    "Por ejemplo, para obtener los \n",
    "datos de densidad de población de un estado específico en el año 2019, la URL sería algo así:\n",
    "    \n",
    "    \n",
    "    https://api.census.gov/data/2019/pep/population?get=NAME,DENSITY&for=STATE:XX\n",
    "    \n",
    "También puedes acceder a los datos históricos de población y densidad de población para todos los estados de Estados Unidos desde los años 1910 hasta 2019.\n",
    "\n",
    "https://api.census.gov/data/timeseries/pep/population\n",
    "El año de los datos que deseas obtener, utilizando el parámetro \"time\". Por ejemplo, \"time=2010\" para obtener los datos de 2010.\n",
    "\n",
    "El nivel geográfico para los datos que deseas obtener, utilizando el parámetro \"for\". Por ejemplo, \"for=STATE:*\" para obtener los datos para todos los estados.\n",
    "\n",
    "Los campos que deseas obtener, utilizando el parámetro \"get\". Por ejemplo, \"get=NAME,POP,DENSITY\" para obtener el nombre del estado, la población y la densidad de población\n",
    "\n",
    "-------------\n",
    "\n",
    "https://api.census.gov/data/timeseries/pep/population?get=NAME,POP,DENSITY&time=from+1910&for=STATE:*&key=YOUR_API_KEY\n",
    "\n",
    "https://api.census.gov/data/timeseries/pep/population es la URL base para acceder a los datos históricos de población y densidad de población.\n",
    "get=NAME,POP,DENSITY especifica los campos que deseas obtener, en este caso el nombre del estado, la población y la densidad de población.\n",
    "time=from+1910 especifica el rango de tiempo para los datos, en este caso desde el año 1910 hasta la fecha actual.\n",
    "for=STATE:* especifica el nivel geográfico para los datos, en este caso todos los estados.\n",
    "key=YOUR_API_KEY especifica tu clave de acceso a la API.\n",
    "\n",
    "\n",
    "Composición étnica de la población\n",
    "natalidad, mortalidad migracion \n",
    "\n",
    "Para obtener estos datos, debes especificar los campos que deseas obtener en el parámetro \"get\" en la URL de la API. Por ejemplo, si quieres obtener datos sobre la natalidad, debes incluir el campo \"BIRTHS\" en el parámetro \"get\".\n",
    "\n",
    "https://api.census.gov/data/timeseries/pep/population?get=NAME,BIRTHS&time=from+1910&for=STATE:*&key=YOUR_API_KEY\n",
    "\n",
    "\"NAME\" (nombre del estado)\n",
    "\"NAME_WHITE\" (población blanca)\n",
    "\"NAME_BLACK\" (población negra)\n",
    "\"NAME_AMIN\" (población indígena americana)\n",
    "\"NAME_ASIAN\" (población asiática)\n",
    "\"NAME_NHOPI\" (población nativa hawaiana y de otras islas del Pacífico)\n",
    "\"NAME_OTHER\" (población de otra raza)\n",
    "\"NAME_2MORE\" (población de dos o más razas)\n",
    "\n",
    "https://api.census.gov/data/timeseries/pep/population?get=NAME,NAME_WHITE,NAME_BLACK&time=from+1910&for=STATE:*&key=YOUR_API_KEY"
   ]
  }
 ],
 "metadata": {
  "kernelspec": {
   "display_name": "iron",
   "language": "python",
   "name": "iron"
  },
  "language_info": {
   "codemirror_mode": {
    "name": "ipython",
    "version": 3
   },
   "file_extension": ".py",
   "mimetype": "text/x-python",
   "name": "python",
   "nbconvert_exporter": "python",
   "pygments_lexer": "ipython3",
   "version": "3.9.13"
  }
 },
 "nbformat": 4,
 "nbformat_minor": 4
}
