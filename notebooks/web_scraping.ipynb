{
 "cells": [
  {
   "cell_type": "code",
   "execution_count": 1,
   "metadata": {},
   "outputs": [],
   "source": [
    "import requests\n",
    "import re\n",
    "import pandas as pd\n",
    "import numpy as np\n",
    "from bs4 import BeautifulSoup"
   ]
  },
  {
   "cell_type": "markdown",
   "metadata": {},
   "source": [
    "## Population by states"
   ]
  },
  {
   "cell_type": "code",
   "execution_count": null,
   "metadata": {},
   "outputs": [],
   "source": [
    "url_pop=\"https://en.wikipedia.org/wiki/List_of_U.S._states_and_territories_by_historical_population\"\n",
    "html_pop= requests.get(url_pop)"
   ]
  },
  {
   "cell_type": "code",
   "execution_count": null,
   "metadata": {},
   "outputs": [],
   "source": [
    "html_pop.status_code"
   ]
  },
  {
   "cell_type": "code",
   "execution_count": null,
   "metadata": {},
   "outputs": [],
   "source": [
    "soup_pop = BeautifulSoup(html_pop.content, \"html.parser\")\n"
   ]
  },
  {
   "cell_type": "code",
   "execution_count": null,
   "metadata": {},
   "outputs": [],
   "source": [
    "pop = soup_pop.find_all(\"table\")"
   ]
  },
  {
   "cell_type": "code",
   "execution_count": null,
   "metadata": {},
   "outputs": [],
   "source": [
    "len(pop)"
   ]
  },
  {
   "cell_type": "code",
   "execution_count": null,
   "metadata": {},
   "outputs": [],
   "source": [
    "population=pop[3]"
   ]
  },
  {
   "cell_type": "code",
   "execution_count": null,
   "metadata": {},
   "outputs": [],
   "source": [
    "len(population.find_all(\"tr\"))"
   ]
  },
  {
   "cell_type": "code",
   "execution_count": null,
   "metadata": {},
   "outputs": [],
   "source": [
    "len(population.find_all(\"td\"))"
   ]
  },
  {
   "cell_type": "code",
   "execution_count": null,
   "metadata": {},
   "outputs": [],
   "source": [
    "len(population.find_all(\"th\"))"
   ]
  },
  {
   "cell_type": "code",
   "execution_count": null,
   "metadata": {},
   "outputs": [],
   "source": [
    "#columnas \n",
    "population.find_all(\"tr\")[0]"
   ]
  },
  {
   "cell_type": "code",
   "execution_count": null,
   "metadata": {},
   "outputs": [],
   "source": [
    "population.find_all(\"tr\")[1]"
   ]
  },
  {
   "cell_type": "code",
   "execution_count": null,
   "metadata": {},
   "outputs": [],
   "source": [
    "population.find_all(\"tr\")[2]"
   ]
  },
  {
   "cell_type": "code",
   "execution_count": null,
   "metadata": {},
   "outputs": [],
   "source": [
    "population.find_all(\"tr\")[3]"
   ]
  },
  {
   "cell_type": "code",
   "execution_count": null,
   "metadata": {},
   "outputs": [],
   "source": [
    "population.find_all(\"tr\")[7]"
   ]
  },
  {
   "cell_type": "code",
   "execution_count": null,
   "metadata": {},
   "outputs": [],
   "source": [
    "#filas \n",
    "population.find_all(\"td\")[0]"
   ]
  },
  {
   "cell_type": "code",
   "execution_count": null,
   "metadata": {},
   "outputs": [],
   "source": [
    "population.find_all(\"td\")[1]"
   ]
  },
  {
   "cell_type": "code",
   "execution_count": null,
   "metadata": {},
   "outputs": [],
   "source": [
    "population.find_all(\"td\")[8]"
   ]
  },
  {
   "cell_type": "code",
   "execution_count": null,
   "metadata": {},
   "outputs": [],
   "source": [
    "#fila 2 columna 2 \n",
    "population.find_all(\"tr\")[1].find_all(\"td\")[1]"
   ]
  },
  {
   "cell_type": "code",
   "execution_count": null,
   "metadata": {},
   "outputs": [],
   "source": [
    "# sacamos el texto de ese elemento \n",
    "population.find_all(\"tr\")[1].find_all(\"td\")[1].getText()"
   ]
  },
  {
   "cell_type": "code",
   "execution_count": null,
   "metadata": {},
   "outputs": [],
   "source": [
    "# Creamos un diccionario \n",
    "dic = {\"state\": [], \n",
    "               \"1960\": [], \n",
    "               \"1970\":[], \n",
    "               \"1980\": [],\n",
    "               \"1990\":[],\n",
    "               \"2000\":[],\n",
    "               \"2010\":[],\n",
    "               \"2020\":[]}"
   ]
  },
  {
   "cell_type": "code",
   "execution_count": null,
   "metadata": {},
   "outputs": [],
   "source": [
    "'''for row in population.find_all(\"tr\")[1:]:\n",
    "    column = [element for element in row.find_all(\"td\")]\n",
    "  \n",
    "    print(column[0].getText())'''"
   ]
  },
  {
   "cell_type": "code",
   "execution_count": null,
   "metadata": {},
   "outputs": [],
   "source": [
    "for row in population.find_all(\"tr\")[1:]:\n",
    "    column = [element for element in row.find_all(\"td\")]\n",
    "    dic[\"state\"].append(column[0].getText())\n",
    "    dic[\"1960\"].append(column[1].getText())\n",
    "    dic[\"1970\"].append(column[2].getText())\n",
    "    dic[\"1980\"].append(column[3].getText())\n",
    "    dic[\"1990\"].append(column[4].getText())\n",
    "    dic[\"2000\"].append(column[5].getText())\n",
    "    dic[\"2010\"].append(column[6].getText())\n",
    "    dic[\"2020\"].append(column[7].getText())\n",
    "    "
   ]
  },
  {
   "cell_type": "code",
   "execution_count": null,
   "metadata": {},
   "outputs": [],
   "source": [
    "df_pop=pd.DataFrame(dic)\n",
    "df_pop.head()"
   ]
  },
  {
   "cell_type": "code",
   "execution_count": null,
   "metadata": {},
   "outputs": [],
   "source": [
    "#df_pop.to_csv('df_population_usa.csv', sep=',', index=True)"
   ]
  },
  {
   "cell_type": "code",
   "execution_count": null,
   "metadata": {},
   "outputs": [],
   "source": [
    "df_pop=df_pop.replace('[^/n]', '', regex=True)"
   ]
  },
  {
   "cell_type": "code",
   "execution_count": null,
   "metadata": {},
   "outputs": [],
   "source": [
    "# eliminamos de las columnas años, todo lo que no sea numero ni coma\n",
    "df_pop.iloc[:, 1:8] = df_pop.iloc[:, 1:].replace( '[^0-9,]', '', regex=True )"
   ]
  },
  {
   "cell_type": "code",
   "execution_count": null,
   "metadata": {},
   "outputs": [],
   "source": [
    "df_pop.head()"
   ]
  },
  {
   "cell_type": "code",
   "execution_count": null,
   "metadata": {},
   "outputs": [],
   "source": [
    "\n",
    "df_pop.head()"
   ]
  },
  {
   "cell_type": "code",
   "execution_count": null,
   "metadata": {},
   "outputs": [],
   "source": [
    "df_p=df_pop.copy()"
   ]
  },
  {
   "cell_type": "code",
   "execution_count": null,
   "metadata": {},
   "outputs": [],
   "source": [
    "df_p.iloc[:, 1:8].replace({',':''}, regex=True)"
   ]
  },
  {
   "cell_type": "code",
   "execution_count": null,
   "metadata": {},
   "outputs": [],
   "source": [
    "df_p.iloc[:, 1:8] = df_p.iloc[:, 1:8].apply(lambda x: int(x))\n"
   ]
  },
  {
   "cell_type": "code",
   "execution_count": null,
   "metadata": {},
   "outputs": [],
   "source": [
    "df_p[\"1970\"] = df_p[\"1970\"].apply(lambda x: int(x))\n"
   ]
  },
  {
   "cell_type": "code",
   "execution_count": null,
   "metadata": {},
   "outputs": [],
   "source": [
    "type(df_p[\"1960\"][0])"
   ]
  },
  {
   "cell_type": "code",
   "execution_count": null,
   "metadata": {},
   "outputs": [],
   "source": [
    "df_p"
   ]
  },
  {
   "cell_type": "code",
   "execution_count": null,
   "metadata": {},
   "outputs": [],
   "source": [
    "df_p[\"1990\"][0]"
   ]
  },
  {
   "cell_type": "code",
   "execution_count": null,
   "metadata": {},
   "outputs": [],
   "source": [
    "float(df_p[\"1990\"][0])"
   ]
  },
  {
   "cell_type": "code",
   "execution_count": null,
   "metadata": {},
   "outputs": [],
   "source": [
    "df_p.iloc[:, 1:] = df_p.iloc[:, 1:].astype(int)"
   ]
  },
  {
   "cell_type": "code",
   "execution_count": null,
   "metadata": {},
   "outputs": [],
   "source": [
    "df_p.info()"
   ]
  },
  {
   "cell_type": "code",
   "execution_count": null,
   "metadata": {},
   "outputs": [],
   "source": [
    "df_prueba=df_pop.copy()"
   ]
  },
  {
   "cell_type": "code",
   "execution_count": null,
   "metadata": {},
   "outputs": [],
   "source": [
    "df_prueba.iloc[:, 1:8].replace({',':'.'}, regex=True)"
   ]
  },
  {
   "cell_type": "code",
   "execution_count": null,
   "metadata": {},
   "outputs": [],
   "source": [
    "df_prueba"
   ]
  },
  {
   "cell_type": "code",
   "execution_count": null,
   "metadata": {},
   "outputs": [],
   "source": [
    "df_prueba[\"1960\"]= pd.to_numeric(df_prueba[\"1960\"])\n"
   ]
  },
  {
   "cell_type": "code",
   "execution_count": null,
   "metadata": {},
   "outputs": [],
   "source": [
    "df_prueba.iloc[:, 1:] = df_prueba.iloc[:, 1:].astype(int)"
   ]
  },
  {
   "cell_type": "code",
   "execution_count": null,
   "metadata": {},
   "outputs": [],
   "source": [
    "float(df_prueba[\"1990\"][0])"
   ]
  },
  {
   "cell_type": "code",
   "execution_count": null,
   "metadata": {},
   "outputs": [],
   "source": []
  },
  {
   "cell_type": "code",
   "execution_count": null,
   "metadata": {},
   "outputs": [],
   "source": []
  },
  {
   "cell_type": "code",
   "execution_count": null,
   "metadata": {},
   "outputs": [],
   "source": []
  },
  {
   "cell_type": "code",
   "execution_count": null,
   "metadata": {},
   "outputs": [],
   "source": []
  },
  {
   "cell_type": "code",
   "execution_count": null,
   "metadata": {},
   "outputs": [],
   "source": [
    "url_pop2=\"https://www.census.gov/data/tables/time-series/dec/popchange-data-text.html\"\n",
    "html_pop2= requests.get(url_pop2)"
   ]
  },
  {
   "cell_type": "code",
   "execution_count": null,
   "metadata": {},
   "outputs": [],
   "source": [
    "html_pop2.status_code"
   ]
  },
  {
   "cell_type": "code",
   "execution_count": null,
   "metadata": {},
   "outputs": [],
   "source": [
    "soup_pop2 = BeautifulSoup(html_pop2.content, \"html.parser\")"
   ]
  },
  {
   "cell_type": "code",
   "execution_count": null,
   "metadata": {},
   "outputs": [],
   "source": [
    "pop2 = soup_pop2.find_all(\"table\")"
   ]
  },
  {
   "cell_type": "code",
   "execution_count": null,
   "metadata": {},
   "outputs": [],
   "source": [
    "len(pop2)"
   ]
  },
  {
   "cell_type": "code",
   "execution_count": null,
   "metadata": {},
   "outputs": [],
   "source": [
    "population2=pop2[0]\n",
    "population2"
   ]
  },
  {
   "cell_type": "code",
   "execution_count": null,
   "metadata": {},
   "outputs": [],
   "source": [
    "population2.find_all(\"tr\")[0]"
   ]
  },
  {
   "cell_type": "code",
   "execution_count": null,
   "metadata": {},
   "outputs": [],
   "source": [
    "population2.find_all(\"td\")[1]"
   ]
  },
  {
   "cell_type": "code",
   "execution_count": null,
   "metadata": {},
   "outputs": [],
   "source": [
    "population2.find_all(\"th\")[0]"
   ]
  },
  {
   "cell_type": "markdown",
   "metadata": {},
   "source": [
    "### ethnic popolation "
   ]
  },
  {
   "cell_type": "code",
   "execution_count": 2,
   "metadata": {},
   "outputs": [],
   "source": [
    "url_eth=\"https://en.wikipedia.org/wiki/Historical_racial_and_ethnic_demographics_of_the_United_States\"\n",
    "html_eth= requests.get(url_eth)"
   ]
  },
  {
   "cell_type": "code",
   "execution_count": 3,
   "metadata": {},
   "outputs": [
    {
     "data": {
      "text/plain": [
       "200"
      ]
     },
     "execution_count": 3,
     "metadata": {},
     "output_type": "execute_result"
    }
   ],
   "source": [
    "html_eth.status_code"
   ]
  },
  {
   "cell_type": "code",
   "execution_count": 4,
   "metadata": {},
   "outputs": [],
   "source": [
    "soup_eth = BeautifulSoup(html_eth.content, \"html.parser\")"
   ]
  },
  {
   "cell_type": "code",
   "execution_count": 5,
   "metadata": {},
   "outputs": [],
   "source": [
    "eth = soup_eth.find_all(\"table\")"
   ]
  },
  {
   "cell_type": "code",
   "execution_count": 6,
   "metadata": {},
   "outputs": [
    {
     "data": {
      "text/plain": [
       "43"
      ]
     },
     "execution_count": 6,
     "metadata": {},
     "output_type": "execute_result"
    }
   ],
   "source": [
    "len(eth)"
   ]
  },
  {
   "cell_type": "code",
   "execution_count": 8,
   "metadata": {},
   "outputs": [],
   "source": [
    "ethnic=eth[-13]"
   ]
  },
  {
   "cell_type": "code",
   "execution_count": null,
   "metadata": {},
   "outputs": [],
   "source": [
    "#columnas \n",
    "ethnic.find_all(\"tr\")[0]"
   ]
  },
  {
   "cell_type": "code",
   "execution_count": null,
   "metadata": {},
   "outputs": [],
   "source": [
    "#filas \n",
    "ethnic.find_all(\"td\")[0]"
   ]
  },
  {
   "cell_type": "code",
   "execution_count": 9,
   "metadata": {},
   "outputs": [],
   "source": [
    "# Creamos un diccionario \n",
    "dic_eth = {\"state\": [], \n",
    "               \"1890\":[],\n",
    "               \"1900\":[],\n",
    "                \"1910\":[],\n",
    "                \"1920\":[],\n",
    "               \"1930\": [], \n",
    "               \"1940\":[], \n",
    "               \"1950\":[],\n",
    "               \"1960\": [], \n",
    "               \"1970\":[], \n",
    "               \"1980\": [],\n",
    "               \"1990\":[],\n",
    "               \"2000\":[],\n",
    "               \"2010\":[],\n",
    "               \"2020\":[]}"
   ]
  },
  {
   "cell_type": "code",
   "execution_count": 28,
   "metadata": {},
   "outputs": [],
   "source": [
    "dctt= {\"state\": [],  \n",
    "               \"1970\":[], \n",
    "               \"1980\": [],\n",
    "               \"1990\":[],\n",
    "               \"2000\":[],\n",
    "               \"2010\":[],\n",
    "               \"2020\":[]}"
   ]
  },
  {
   "cell_type": "code",
   "execution_count": 27,
   "metadata": {},
   "outputs": [
    {
     "data": {
      "text/plain": [
       "[<td style=\"background:#9bddff;\">0.4%\n",
       " </td>,\n",
       " <td style=\"background:#9bddff;\">0.6%\n",
       " </td>,\n",
       " <td style=\"background:#9bddff;\">0.8%\n",
       " </td>,\n",
       " <td style=\"background:#9bddff;\">0.9%\n",
       " </td>,\n",
       " <td style=\"background:#9bddff;\">0.9%\n",
       " </td>,\n",
       " <td style=\"background:#9bddff;\">1.1%\n",
       " </td>]"
      ]
     },
     "execution_count": 27,
     "metadata": {},
     "output_type": "execute_result"
    }
   ],
   "source": [
    "\n",
    "\n",
    "ethnic.find_all(\"tr\")[1].find_all(\"td\")[9:]\n"
   ]
  },
  {
   "cell_type": "code",
   "execution_count": 31,
   "metadata": {},
   "outputs": [],
   "source": [
    "for row in ethnic.find_all(\"tr\")[1:]:\n",
    "    columns = [element for element in row.find_all(\"td\")[8:]]\n",
    "    dctt[\"state\"].append(columns[0].getText())\n",
    "    dctt[\"1970\"].append(columns[2].getText())\n",
    "    dctt[\"1980\"].append(columns[2].getText())\n",
    "    dctt[\"1990\"].append(columns[3].getText())\n",
    "    dctt[\"2000\"].append(columns[4].getText())\n",
    "    dctt[\"2010\"].append(columns[5].getText())\n",
    "    dctt[\"2020\"].append(columns[6].getText())"
   ]
  },
  {
   "cell_type": "code",
   "execution_count": 10,
   "metadata": {},
   "outputs": [],
   "source": [
    "for row in ethnic.find_all(\"tr\")[1:]:\n",
    "    columns = [element for element in row.find_all(\"td\")]\n",
    "    dic_eth[\"state\"].append(columns[0].getText())\n",
    "    dic_eth[\"1890\"].append(columns[1].getText())\n",
    "    dic_eth[\"1900\"].append(columns[1].getText())\n",
    "    dic_eth[\"1910\"].append(columns[1].getText())\n",
    "    dic_eth[\"1920\"].append(columns[1].getText())\n",
    "    dic_eth[\"1930\"].append(columns[1].getText())\n",
    "    dic_eth[\"1940\"].append(columns[1].getText())\n",
    "    dic_eth[\"1950\"].append(columns[1].getText())\n",
    "    dic_eth[\"1960\"].append(columns[1].getText())\n",
    "    dic_eth[\"1970\"].append(columns[2].getText())\n",
    "    dic_eth[\"1980\"].append(columns[3].getText())\n",
    "    dic_eth[\"1990\"].append(columns[4].getText())\n",
    "    dic_eth[\"2000\"].append(columns[5].getText())\n",
    "    dic_eth[\"2010\"].append(columns[6].getText())\n",
    "    dic_eth[\"2020\"].append(columns[7].getText())\n",
    "    "
   ]
  },
  {
   "cell_type": "code",
   "execution_count": 14,
   "metadata": {},
   "outputs": [
    {
     "data": {
      "text/plain": [
       "{'state': ['United States\\n',\n",
       "  'Alabama\\n',\n",
       "  'Alaska\\n',\n",
       "  'Arizona\\n',\n",
       "  'Arkansas\\n',\n",
       "  'California\\n',\n",
       "  'Colorado\\n',\n",
       "  'Connecticut\\n',\n",
       "  'Delaware\\n',\n",
       "  'District of Columbia\\n',\n",
       "  'Florida\\n',\n",
       "  'Georgia\\n',\n",
       "  'Hawaii\\n',\n",
       "  'Idaho\\n',\n",
       "  'Illinois\\n',\n",
       "  'Indiana\\n',\n",
       "  'Iowa\\n',\n",
       "  'Kansas\\n',\n",
       "  'Kentucky\\n',\n",
       "  'Louisiana\\n',\n",
       "  'Maine\\n',\n",
       "  'Maryland\\n',\n",
       "  'Massachusetts\\n',\n",
       "  'Michigan\\n',\n",
       "  'Minnesota\\n',\n",
       "  'Mississippi\\n',\n",
       "  'Missouri\\n',\n",
       "  'Montana\\n',\n",
       "  'Nebraska\\n',\n",
       "  'Nevada\\n',\n",
       "  'New Hampshire\\n',\n",
       "  'New Jersey\\n',\n",
       "  'New Mexico\\n',\n",
       "  'New York\\n',\n",
       "  'North Carolina\\n',\n",
       "  'North Dakota\\n',\n",
       "  'Ohio\\n',\n",
       "  'Oklahoma\\n',\n",
       "  'Oregon\\n',\n",
       "  'Pennsylvania\\n',\n",
       "  'Rhode Island\\n',\n",
       "  'South Carolina\\n',\n",
       "  'South Dakota\\n',\n",
       "  'Tennessee\\n',\n",
       "  'Texas\\n',\n",
       "  'Utah\\n',\n",
       "  'Vermont\\n',\n",
       "  'Virginia\\n',\n",
       "  'Washington\\n',\n",
       "  'West Virginia\\n',\n",
       "  'Wisconsin\\n',\n",
       "  'Wyoming\\n',\n",
       "  'Puerto Rico\\n'],\n",
       " '1890': ['0.4%\\n',\n",
       "  '0.1%\\n',\n",
       "  '\\n',\n",
       "  '34.0%\\n',\n",
       "  '0.0%\\n',\n",
       "  '1.4%\\n',\n",
       "  '0.3%\\n',\n",
       "  '0.0%\\n',\n",
       "  '0.0%\\n',\n",
       "  '0.0%\\n',\n",
       "  '0.0%\\n',\n",
       "  '0.0%\\n',\n",
       "  '\\n',\n",
       "  '4.8%\\n',\n",
       "  '0.0%\\n',\n",
       "  '0.0%\\n',\n",
       "  '0.0%\\n',\n",
       "  '0.1%\\n',\n",
       "  '0.0%\\n',\n",
       "  '0.1%\\n',\n",
       "  '0.1%\\n',\n",
       "  '0.0%\\n',\n",
       "  '0.0%\\n',\n",
       "  '0.3%\\n',\n",
       "  '0.8%\\n',\n",
       "  '0.2%\\n',\n",
       "  '0.0%\\n',\n",
       "  '7.8%\\n',\n",
       "  '0.6%\\n',\n",
       "  '10.9%\\n',\n",
       "  '0.0%\\n',\n",
       "  '0.0%\\n',\n",
       "  '9.4%\\n',\n",
       "  '0.1%\\n',\n",
       "  '0.1%\\n',\n",
       "  '4.3%\\n',\n",
       "  '0.0%\\n',\n",
       "  '24.9%\\n',\n",
       "  '1.6%\\n',\n",
       "  '0.0%\\n',\n",
       "  '0.1%\\n',\n",
       "  '0.0%\\n',\n",
       "  '5.7%\\n',\n",
       "  '0.0%\\n',\n",
       "  '0.0%\\n',\n",
       "  '1.6%\\n',\n",
       "  '0.0%\\n',\n",
       "  '0.0%\\n',\n",
       "  '3.1%\\n',\n",
       "  '0.0%\\n',\n",
       "  '0.6%\\n',\n",
       "  '2.9%\\n',\n",
       "  '\\n'],\n",
       " '1900': ['0.4%\\n',\n",
       "  '0.1%\\n',\n",
       "  '\\n',\n",
       "  '34.0%\\n',\n",
       "  '0.0%\\n',\n",
       "  '1.4%\\n',\n",
       "  '0.3%\\n',\n",
       "  '0.0%\\n',\n",
       "  '0.0%\\n',\n",
       "  '0.0%\\n',\n",
       "  '0.0%\\n',\n",
       "  '0.0%\\n',\n",
       "  '\\n',\n",
       "  '4.8%\\n',\n",
       "  '0.0%\\n',\n",
       "  '0.0%\\n',\n",
       "  '0.0%\\n',\n",
       "  '0.1%\\n',\n",
       "  '0.0%\\n',\n",
       "  '0.1%\\n',\n",
       "  '0.1%\\n',\n",
       "  '0.0%\\n',\n",
       "  '0.0%\\n',\n",
       "  '0.3%\\n',\n",
       "  '0.8%\\n',\n",
       "  '0.2%\\n',\n",
       "  '0.0%\\n',\n",
       "  '7.8%\\n',\n",
       "  '0.6%\\n',\n",
       "  '10.9%\\n',\n",
       "  '0.0%\\n',\n",
       "  '0.0%\\n',\n",
       "  '9.4%\\n',\n",
       "  '0.1%\\n',\n",
       "  '0.1%\\n',\n",
       "  '4.3%\\n',\n",
       "  '0.0%\\n',\n",
       "  '24.9%\\n',\n",
       "  '1.6%\\n',\n",
       "  '0.0%\\n',\n",
       "  '0.1%\\n',\n",
       "  '0.0%\\n',\n",
       "  '5.7%\\n',\n",
       "  '0.0%\\n',\n",
       "  '0.0%\\n',\n",
       "  '1.6%\\n',\n",
       "  '0.0%\\n',\n",
       "  '0.0%\\n',\n",
       "  '3.1%\\n',\n",
       "  '0.0%\\n',\n",
       "  '0.6%\\n',\n",
       "  '2.9%\\n',\n",
       "  '\\n'],\n",
       " '1910': ['0.4%\\n',\n",
       "  '0.1%\\n',\n",
       "  '\\n',\n",
       "  '34.0%\\n',\n",
       "  '0.0%\\n',\n",
       "  '1.4%\\n',\n",
       "  '0.3%\\n',\n",
       "  '0.0%\\n',\n",
       "  '0.0%\\n',\n",
       "  '0.0%\\n',\n",
       "  '0.0%\\n',\n",
       "  '0.0%\\n',\n",
       "  '\\n',\n",
       "  '4.8%\\n',\n",
       "  '0.0%\\n',\n",
       "  '0.0%\\n',\n",
       "  '0.0%\\n',\n",
       "  '0.1%\\n',\n",
       "  '0.0%\\n',\n",
       "  '0.1%\\n',\n",
       "  '0.1%\\n',\n",
       "  '0.0%\\n',\n",
       "  '0.0%\\n',\n",
       "  '0.3%\\n',\n",
       "  '0.8%\\n',\n",
       "  '0.2%\\n',\n",
       "  '0.0%\\n',\n",
       "  '7.8%\\n',\n",
       "  '0.6%\\n',\n",
       "  '10.9%\\n',\n",
       "  '0.0%\\n',\n",
       "  '0.0%\\n',\n",
       "  '9.4%\\n',\n",
       "  '0.1%\\n',\n",
       "  '0.1%\\n',\n",
       "  '4.3%\\n',\n",
       "  '0.0%\\n',\n",
       "  '24.9%\\n',\n",
       "  '1.6%\\n',\n",
       "  '0.0%\\n',\n",
       "  '0.1%\\n',\n",
       "  '0.0%\\n',\n",
       "  '5.7%\\n',\n",
       "  '0.0%\\n',\n",
       "  '0.0%\\n',\n",
       "  '1.6%\\n',\n",
       "  '0.0%\\n',\n",
       "  '0.0%\\n',\n",
       "  '3.1%\\n',\n",
       "  '0.0%\\n',\n",
       "  '0.6%\\n',\n",
       "  '2.9%\\n',\n",
       "  '\\n'],\n",
       " '1920': ['0.4%\\n',\n",
       "  '0.1%\\n',\n",
       "  '\\n',\n",
       "  '34.0%\\n',\n",
       "  '0.0%\\n',\n",
       "  '1.4%\\n',\n",
       "  '0.3%\\n',\n",
       "  '0.0%\\n',\n",
       "  '0.0%\\n',\n",
       "  '0.0%\\n',\n",
       "  '0.0%\\n',\n",
       "  '0.0%\\n',\n",
       "  '\\n',\n",
       "  '4.8%\\n',\n",
       "  '0.0%\\n',\n",
       "  '0.0%\\n',\n",
       "  '0.0%\\n',\n",
       "  '0.1%\\n',\n",
       "  '0.0%\\n',\n",
       "  '0.1%\\n',\n",
       "  '0.1%\\n',\n",
       "  '0.0%\\n',\n",
       "  '0.0%\\n',\n",
       "  '0.3%\\n',\n",
       "  '0.8%\\n',\n",
       "  '0.2%\\n',\n",
       "  '0.0%\\n',\n",
       "  '7.8%\\n',\n",
       "  '0.6%\\n',\n",
       "  '10.9%\\n',\n",
       "  '0.0%\\n',\n",
       "  '0.0%\\n',\n",
       "  '9.4%\\n',\n",
       "  '0.1%\\n',\n",
       "  '0.1%\\n',\n",
       "  '4.3%\\n',\n",
       "  '0.0%\\n',\n",
       "  '24.9%\\n',\n",
       "  '1.6%\\n',\n",
       "  '0.0%\\n',\n",
       "  '0.1%\\n',\n",
       "  '0.0%\\n',\n",
       "  '5.7%\\n',\n",
       "  '0.0%\\n',\n",
       "  '0.0%\\n',\n",
       "  '1.6%\\n',\n",
       "  '0.0%\\n',\n",
       "  '0.0%\\n',\n",
       "  '3.1%\\n',\n",
       "  '0.0%\\n',\n",
       "  '0.6%\\n',\n",
       "  '2.9%\\n',\n",
       "  '\\n'],\n",
       " '1930': ['0.4%\\n',\n",
       "  '0.1%\\n',\n",
       "  '\\n',\n",
       "  '34.0%\\n',\n",
       "  '0.0%\\n',\n",
       "  '1.4%\\n',\n",
       "  '0.3%\\n',\n",
       "  '0.0%\\n',\n",
       "  '0.0%\\n',\n",
       "  '0.0%\\n',\n",
       "  '0.0%\\n',\n",
       "  '0.0%\\n',\n",
       "  '\\n',\n",
       "  '4.8%\\n',\n",
       "  '0.0%\\n',\n",
       "  '0.0%\\n',\n",
       "  '0.0%\\n',\n",
       "  '0.1%\\n',\n",
       "  '0.0%\\n',\n",
       "  '0.1%\\n',\n",
       "  '0.1%\\n',\n",
       "  '0.0%\\n',\n",
       "  '0.0%\\n',\n",
       "  '0.3%\\n',\n",
       "  '0.8%\\n',\n",
       "  '0.2%\\n',\n",
       "  '0.0%\\n',\n",
       "  '7.8%\\n',\n",
       "  '0.6%\\n',\n",
       "  '10.9%\\n',\n",
       "  '0.0%\\n',\n",
       "  '0.0%\\n',\n",
       "  '9.4%\\n',\n",
       "  '0.1%\\n',\n",
       "  '0.1%\\n',\n",
       "  '4.3%\\n',\n",
       "  '0.0%\\n',\n",
       "  '24.9%\\n',\n",
       "  '1.6%\\n',\n",
       "  '0.0%\\n',\n",
       "  '0.1%\\n',\n",
       "  '0.0%\\n',\n",
       "  '5.7%\\n',\n",
       "  '0.0%\\n',\n",
       "  '0.0%\\n',\n",
       "  '1.6%\\n',\n",
       "  '0.0%\\n',\n",
       "  '0.0%\\n',\n",
       "  '3.1%\\n',\n",
       "  '0.0%\\n',\n",
       "  '0.6%\\n',\n",
       "  '2.9%\\n',\n",
       "  '\\n'],\n",
       " '1940': ['0.4%\\n',\n",
       "  '0.1%\\n',\n",
       "  '\\n',\n",
       "  '34.0%\\n',\n",
       "  '0.0%\\n',\n",
       "  '1.4%\\n',\n",
       "  '0.3%\\n',\n",
       "  '0.0%\\n',\n",
       "  '0.0%\\n',\n",
       "  '0.0%\\n',\n",
       "  '0.0%\\n',\n",
       "  '0.0%\\n',\n",
       "  '\\n',\n",
       "  '4.8%\\n',\n",
       "  '0.0%\\n',\n",
       "  '0.0%\\n',\n",
       "  '0.0%\\n',\n",
       "  '0.1%\\n',\n",
       "  '0.0%\\n',\n",
       "  '0.1%\\n',\n",
       "  '0.1%\\n',\n",
       "  '0.0%\\n',\n",
       "  '0.0%\\n',\n",
       "  '0.3%\\n',\n",
       "  '0.8%\\n',\n",
       "  '0.2%\\n',\n",
       "  '0.0%\\n',\n",
       "  '7.8%\\n',\n",
       "  '0.6%\\n',\n",
       "  '10.9%\\n',\n",
       "  '0.0%\\n',\n",
       "  '0.0%\\n',\n",
       "  '9.4%\\n',\n",
       "  '0.1%\\n',\n",
       "  '0.1%\\n',\n",
       "  '4.3%\\n',\n",
       "  '0.0%\\n',\n",
       "  '24.9%\\n',\n",
       "  '1.6%\\n',\n",
       "  '0.0%\\n',\n",
       "  '0.1%\\n',\n",
       "  '0.0%\\n',\n",
       "  '5.7%\\n',\n",
       "  '0.0%\\n',\n",
       "  '0.0%\\n',\n",
       "  '1.6%\\n',\n",
       "  '0.0%\\n',\n",
       "  '0.0%\\n',\n",
       "  '3.1%\\n',\n",
       "  '0.0%\\n',\n",
       "  '0.6%\\n',\n",
       "  '2.9%\\n',\n",
       "  '\\n'],\n",
       " '1950': ['0.4%\\n',\n",
       "  '0.1%\\n',\n",
       "  '\\n',\n",
       "  '34.0%\\n',\n",
       "  '0.0%\\n',\n",
       "  '1.4%\\n',\n",
       "  '0.3%\\n',\n",
       "  '0.0%\\n',\n",
       "  '0.0%\\n',\n",
       "  '0.0%\\n',\n",
       "  '0.0%\\n',\n",
       "  '0.0%\\n',\n",
       "  '\\n',\n",
       "  '4.8%\\n',\n",
       "  '0.0%\\n',\n",
       "  '0.0%\\n',\n",
       "  '0.0%\\n',\n",
       "  '0.1%\\n',\n",
       "  '0.0%\\n',\n",
       "  '0.1%\\n',\n",
       "  '0.1%\\n',\n",
       "  '0.0%\\n',\n",
       "  '0.0%\\n',\n",
       "  '0.3%\\n',\n",
       "  '0.8%\\n',\n",
       "  '0.2%\\n',\n",
       "  '0.0%\\n',\n",
       "  '7.8%\\n',\n",
       "  '0.6%\\n',\n",
       "  '10.9%\\n',\n",
       "  '0.0%\\n',\n",
       "  '0.0%\\n',\n",
       "  '9.4%\\n',\n",
       "  '0.1%\\n',\n",
       "  '0.1%\\n',\n",
       "  '4.3%\\n',\n",
       "  '0.0%\\n',\n",
       "  '24.9%\\n',\n",
       "  '1.6%\\n',\n",
       "  '0.0%\\n',\n",
       "  '0.1%\\n',\n",
       "  '0.0%\\n',\n",
       "  '5.7%\\n',\n",
       "  '0.0%\\n',\n",
       "  '0.0%\\n',\n",
       "  '1.6%\\n',\n",
       "  '0.0%\\n',\n",
       "  '0.0%\\n',\n",
       "  '3.1%\\n',\n",
       "  '0.0%\\n',\n",
       "  '0.6%\\n',\n",
       "  '2.9%\\n',\n",
       "  '\\n'],\n",
       " '1960': ['0.4%\\n',\n",
       "  '0.1%\\n',\n",
       "  '\\n',\n",
       "  '34.0%\\n',\n",
       "  '0.0%\\n',\n",
       "  '1.4%\\n',\n",
       "  '0.3%\\n',\n",
       "  '0.0%\\n',\n",
       "  '0.0%\\n',\n",
       "  '0.0%\\n',\n",
       "  '0.0%\\n',\n",
       "  '0.0%\\n',\n",
       "  '\\n',\n",
       "  '4.8%\\n',\n",
       "  '0.0%\\n',\n",
       "  '0.0%\\n',\n",
       "  '0.0%\\n',\n",
       "  '0.1%\\n',\n",
       "  '0.0%\\n',\n",
       "  '0.1%\\n',\n",
       "  '0.1%\\n',\n",
       "  '0.0%\\n',\n",
       "  '0.0%\\n',\n",
       "  '0.3%\\n',\n",
       "  '0.8%\\n',\n",
       "  '0.2%\\n',\n",
       "  '0.0%\\n',\n",
       "  '7.8%\\n',\n",
       "  '0.6%\\n',\n",
       "  '10.9%\\n',\n",
       "  '0.0%\\n',\n",
       "  '0.0%\\n',\n",
       "  '9.4%\\n',\n",
       "  '0.1%\\n',\n",
       "  '0.1%\\n',\n",
       "  '4.3%\\n',\n",
       "  '0.0%\\n',\n",
       "  '24.9%\\n',\n",
       "  '1.6%\\n',\n",
       "  '0.0%\\n',\n",
       "  '0.1%\\n',\n",
       "  '0.0%\\n',\n",
       "  '5.7%\\n',\n",
       "  '0.0%\\n',\n",
       "  '0.0%\\n',\n",
       "  '1.6%\\n',\n",
       "  '0.0%\\n',\n",
       "  '0.0%\\n',\n",
       "  '3.1%\\n',\n",
       "  '0.0%\\n',\n",
       "  '0.6%\\n',\n",
       "  '2.9%\\n',\n",
       "  '\\n'],\n",
       " '1970': ['0.3%\\n',\n",
       "  '0.0%\\n',\n",
       "  '\\n',\n",
       "  '21.5%\\n',\n",
       "  '0.0%\\n',\n",
       "  '1.0%\\n',\n",
       "  '0.3%\\n',\n",
       "  '0.0%\\n',\n",
       "  '0.0%\\n',\n",
       "  '0.0%\\n',\n",
       "  '0.1%\\n',\n",
       "  '0.0%\\n',\n",
       "  '\\n',\n",
       "  '2.6%\\n',\n",
       "  '0.0%\\n',\n",
       "  '0.0%\\n',\n",
       "  '0.0%\\n',\n",
       "  '0.1%\\n',\n",
       "  '0.0%\\n',\n",
       "  '0.0%\\n',\n",
       "  '0.1%\\n',\n",
       "  '0.0%\\n',\n",
       "  '0.0%\\n',\n",
       "  '0.3%\\n',\n",
       "  '0.5%\\n',\n",
       "  '0.1%\\n',\n",
       "  '0.0%\\n',\n",
       "  '4.7%\\n',\n",
       "  '0.3%\\n',\n",
       "  '12.3%\\n',\n",
       "  '0.0%\\n',\n",
       "  '0.0%\\n',\n",
       "  '6.7%\\n',\n",
       "  '0.1%\\n',\n",
       "  '0.3%\\n',\n",
       "  '2.2%\\n',\n",
       "  '0.0%\\n',\n",
       "  '8.2%\\n',\n",
       "  '1.2%\\n',\n",
       "  '0.0%\\n',\n",
       "  '0.0%\\n',\n",
       "  '0.0%\\n',\n",
       "  '5.0%\\n',\n",
       "  '0.0%\\n',\n",
       "  '0.0%\\n',\n",
       "  '0.9%\\n',\n",
       "  '0.0%\\n',\n",
       "  '0.0%\\n',\n",
       "  '1.9%\\n',\n",
       "  '0.0%\\n',\n",
       "  '0.4%\\n',\n",
       "  '1.8%\\n',\n",
       "  '\\n'],\n",
       " '1980': ['0.3%\\n',\n",
       "  '0.0%\\n',\n",
       "  '\\n',\n",
       "  '14.3%\\n',\n",
       "  '0.0%\\n',\n",
       "  '0.7%\\n',\n",
       "  '0.2%\\n',\n",
       "  '0.0%\\n',\n",
       "  '0.0%\\n',\n",
       "  '0.0%\\n',\n",
       "  '0.0%\\n',\n",
       "  '0.0%\\n',\n",
       "  '\\n',\n",
       "  '1.1%\\n',\n",
       "  '0.0%\\n',\n",
       "  '0.0%\\n',\n",
       "  '0.0%\\n',\n",
       "  '0.1%\\n',\n",
       "  '0.0%\\n',\n",
       "  '0.0%\\n',\n",
       "  '0.1%\\n',\n",
       "  '0.0%\\n',\n",
       "  '0.0%\\n',\n",
       "  '0.3%\\n',\n",
       "  '0.4%\\n',\n",
       "  '0.1%\\n',\n",
       "  '0.0%\\n',\n",
       "  '0.8%\\n',\n",
       "  '0.3%\\n',\n",
       "  '6.4%\\n',\n",
       "  '0.0%\\n',\n",
       "  '0.0%\\n',\n",
       "  '6.3%\\n',\n",
       "  '0.1%\\n',\n",
       "  '0.4%\\n',\n",
       "  '1.1%\\n',\n",
       "  '0.0%\\n',\n",
       "  '4.5%\\n',\n",
       "  '0.8%\\n',\n",
       "  '0.0%\\n',\n",
       "  '0.1%\\n',\n",
       "  '0.0%\\n',\n",
       "  '3.3%\\n',\n",
       "  '0.0%\\n',\n",
       "  '0.0%\\n',\n",
       "  '0.8%\\n',\n",
       "  '0.0%\\n',\n",
       "  '0.0%\\n',\n",
       "  '1.0%\\n',\n",
       "  '0.0%\\n',\n",
       "  '0.4%\\n',\n",
       "  '1.0%\\n',\n",
       "  '\\n'],\n",
       " '1990': ['0.2%\\n',\n",
       "  '0.0%\\n',\n",
       "  '\\n',\n",
       "  '9.9%\\n',\n",
       "  '0.0%\\n',\n",
       "  '0.5%\\n',\n",
       "  '0.1%\\n',\n",
       "  '0.0%\\n',\n",
       "  '0.0%\\n',\n",
       "  '0.0%\\n',\n",
       "  '0.1%\\n',\n",
       "  '0.0%\\n',\n",
       "  '\\n',\n",
       "  '0.7%\\n',\n",
       "  '0.0%\\n',\n",
       "  '0.0%\\n',\n",
       "  '0.0%\\n',\n",
       "  '0.1%\\n',\n",
       "  '0.0%\\n',\n",
       "  '0.1%\\n',\n",
       "  '0.1%\\n',\n",
       "  '0.0%\\n',\n",
       "  '0.0%\\n',\n",
       "  '0.2%\\n',\n",
       "  '0.4%\\n',\n",
       "  '0.1%\\n',\n",
       "  '0.0%\\n',\n",
       "  '2.0%\\n',\n",
       "  '0.2%\\n',\n",
       "  '6.3%\\n',\n",
       "  '0.0%\\n',\n",
       "  '0.0%\\n',\n",
       "  '5.4%\\n',\n",
       "  '0.1%\\n',\n",
       "  '0.5%\\n',\n",
       "  '1.0%\\n',\n",
       "  '0.0%\\n',\n",
       "  '2.8%\\n',\n",
       "  '0.6%\\n',\n",
       "  '0.0%\\n',\n",
       "  '0.0%\\n',\n",
       "  '0.0%\\n',\n",
       "  '2.6%\\n',\n",
       "  '0.0%\\n',\n",
       "  '0.0%\\n',\n",
       "  '0.6%\\n',\n",
       "  '0.0%\\n',\n",
       "  '0.0%\\n',\n",
       "  '0.7%\\n',\n",
       "  '0.0%\\n',\n",
       "  '0.4%\\n',\n",
       "  '0.7%\\n',\n",
       "  '\\n'],\n",
       " '2000': ['0.3%\\n',\n",
       "  '0.0%\\n',\n",
       "  '\\n',\n",
       "  '10.0%\\n',\n",
       "  '0.0%\\n',\n",
       "  '0.3%\\n',\n",
       "  '0.1%\\n',\n",
       "  '0.0%\\n',\n",
       "  '0.0%\\n',\n",
       "  '0.0%\\n',\n",
       "  '0.0%\\n',\n",
       "  '0.0%\\n',\n",
       "  '\\n',\n",
       "  '0.8%\\n',\n",
       "  '0.0%\\n',\n",
       "  '0.0%\\n',\n",
       "  '0.0%\\n',\n",
       "  '0.1%\\n',\n",
       "  '0.0%\\n',\n",
       "  '0.1%\\n',\n",
       "  '0.1%\\n',\n",
       "  '0.0%\\n',\n",
       "  '0.0%\\n',\n",
       "  '0.1%\\n',\n",
       "  '0.4%\\n',\n",
       "  '0.1%\\n',\n",
       "  '0.0%\\n',\n",
       "  '2.8%\\n',\n",
       "  '0.2%\\n',\n",
       "  '5.3%\\n',\n",
       "  '0.0%\\n',\n",
       "  '0.0%\\n',\n",
       "  '6.8%\\n',\n",
       "  '0.1%\\n',\n",
       "  '0.5%\\n',\n",
       "  '1.2%\\n',\n",
       "  '0.0%\\n',\n",
       "  '3.9%\\n',\n",
       "  '0.5%\\n',\n",
       "  '0.0%\\n',\n",
       "  '0.0%\\n',\n",
       "  '0.1%\\n',\n",
       "  '3.2%\\n',\n",
       "  '0.0%\\n',\n",
       "  '0.0%\\n',\n",
       "  '0.6%\\n',\n",
       "  '0.0%\\n',\n",
       "  '0.0%\\n',\n",
       "  '0.7%\\n',\n",
       "  '0.0%\\n',\n",
       "  '0.4%\\n',\n",
       "  '0.8%\\n',\n",
       "  '\\n'],\n",
       " '2010': ['0.3%\\n',\n",
       "  '0.0%\\n',\n",
       "  '\\n',\n",
       "  '11.0%\\n',\n",
       "  '0.0%\\n',\n",
       "  '0.3%\\n',\n",
       "  '0.1%\\n',\n",
       "  '0.0%\\n',\n",
       "  '0.0%\\n',\n",
       "  '0.0%\\n',\n",
       "  '0.0%\\n',\n",
       "  '0.0%\\n',\n",
       "  '\\n',\n",
       "  '0.7%\\n',\n",
       "  '0.0%\\n',\n",
       "  '0.0%\\n',\n",
       "  '0.0%\\n',\n",
       "  '0.1%\\n',\n",
       "  '0.0%\\n',\n",
       "  '0.1%\\n',\n",
       "  '0.1%\\n',\n",
       "  '0.0%\\n',\n",
       "  '0.0%\\n',\n",
       "  '0.1%\\n',\n",
       "  '0.4%\\n',\n",
       "  '0.1%\\n',\n",
       "  '0.0%\\n',\n",
       "  '3.0%\\n',\n",
       "  '0.3%\\n',\n",
       "  '4.3%\\n',\n",
       "  '0.0%\\n',\n",
       "  '0.0%\\n',\n",
       "  '6.5%\\n',\n",
       "  '0.1%\\n',\n",
       "  '0.6%\\n',\n",
       "  '1.6%\\n',\n",
       "  '0.0%\\n',\n",
       "  '2.7%\\n',\n",
       "  '0.4%\\n',\n",
       "  '0.0%\\n',\n",
       "  '0.0%\\n',\n",
       "  '0.1%\\n',\n",
       "  '3.6%\\n',\n",
       "  '0.0%\\n',\n",
       "  '0.0%\\n',\n",
       "  '0.7%\\n',\n",
       "  '0.0%\\n',\n",
       "  '0.0%\\n',\n",
       "  '0.7%\\n',\n",
       "  '0.0%\\n',\n",
       "  '0.4%\\n',\n",
       "  '0.9%\\n',\n",
       "  '\\n'],\n",
       " '2020': ['0.2%\\n',\n",
       "  '0.0%\\n',\n",
       "  '\\n',\n",
       "  '8.8%\\n',\n",
       "  '0.0%\\n',\n",
       "  '0.2%\\n',\n",
       "  '0.1%\\n',\n",
       "  '0.0%\\n',\n",
       "  '0.0%\\n',\n",
       "  '0.0%\\n',\n",
       "  '0.0%\\n',\n",
       "  '0.0%\\n',\n",
       "  '\\n',\n",
       "  '0.6%\\n',\n",
       "  '0.0%\\n',\n",
       "  '0.0%\\n',\n",
       "  '0.0%\\n',\n",
       "  '0.1%\\n',\n",
       "  '0.0%\\n',\n",
       "  '0.0%\\n',\n",
       "  '0.2%\\n',\n",
       "  '0.0%\\n',\n",
       "  '0.0%\\n',\n",
       "  '0.1%\\n',\n",
       "  '0.4%\\n',\n",
       "  '0.1%\\n',\n",
       "  '0.0%\\n',\n",
       "  '2.8%\\n',\n",
       "  '0.3%\\n',\n",
       "  '3.1%\\n',\n",
       "  '0.0%\\n',\n",
       "  '0.0%\\n',\n",
       "  '6.2%\\n',\n",
       "  '0.1%\\n',\n",
       "  '0.1%\\n',\n",
       "  '1.7%\\n',\n",
       "  '0.0%\\n',\n",
       "  '2.4%\\n',\n",
       "  '0.4%\\n',\n",
       "  '0.0%\\n',\n",
       "  '0.0%\\n',\n",
       "  '\\n',\n",
       "  '3.6%\\n',\n",
       "  '0.0%\\n',\n",
       "  '0.0%\\n',\n",
       "  '0.6%\\n',\n",
       "  '0.0%\\n',\n",
       "  '0.0%\\n',\n",
       "  '0.6%\\n',\n",
       "  '0.0%\\n',\n",
       "  '0.4%\\n',\n",
       "  '1.1%\\n',\n",
       "  '\\n']}"
      ]
     },
     "execution_count": 14,
     "metadata": {},
     "output_type": "execute_result"
    }
   ],
   "source": [
    "dic_eth"
   ]
  },
  {
   "cell_type": "code",
   "execution_count": 34,
   "metadata": {},
   "outputs": [
    {
     "data": {
      "text/plain": [
       "15"
      ]
     },
     "execution_count": 34,
     "metadata": {},
     "output_type": "execute_result"
    }
   ],
   "source": [
    "len(dic_eth)"
   ]
  },
  {
   "cell_type": "code",
   "execution_count": 11,
   "metadata": {},
   "outputs": [
    {
     "data": {
      "text/plain": [
       "15"
      ]
     },
     "execution_count": 11,
     "metadata": {},
     "output_type": "execute_result"
    }
   ],
   "source": [
    "len(dic_eth)"
   ]
  },
  {
   "cell_type": "code",
   "execution_count": 12,
   "metadata": {},
   "outputs": [],
   "source": [
    "df_eth=pd.DataFrame(dic_eth)"
   ]
  },
  {
   "cell_type": "code",
   "execution_count": 13,
   "metadata": {},
   "outputs": [
    {
     "data": {
      "text/html": [
       "<div>\n",
       "<style scoped>\n",
       "    .dataframe tbody tr th:only-of-type {\n",
       "        vertical-align: middle;\n",
       "    }\n",
       "\n",
       "    .dataframe tbody tr th {\n",
       "        vertical-align: top;\n",
       "    }\n",
       "\n",
       "    .dataframe thead th {\n",
       "        text-align: right;\n",
       "    }\n",
       "</style>\n",
       "<table border=\"1\" class=\"dataframe\">\n",
       "  <thead>\n",
       "    <tr style=\"text-align: right;\">\n",
       "      <th></th>\n",
       "      <th>state</th>\n",
       "      <th>1890</th>\n",
       "      <th>1900</th>\n",
       "      <th>1910</th>\n",
       "      <th>1920</th>\n",
       "      <th>1930</th>\n",
       "      <th>1940</th>\n",
       "      <th>1950</th>\n",
       "      <th>1960</th>\n",
       "      <th>1970</th>\n",
       "      <th>1980</th>\n",
       "      <th>1990</th>\n",
       "      <th>2000</th>\n",
       "      <th>2010</th>\n",
       "      <th>2020</th>\n",
       "    </tr>\n",
       "  </thead>\n",
       "  <tbody>\n",
       "    <tr>\n",
       "      <th>0</th>\n",
       "      <td>United States\\n</td>\n",
       "      <td>0.4%\\n</td>\n",
       "      <td>0.4%\\n</td>\n",
       "      <td>0.4%\\n</td>\n",
       "      <td>0.4%\\n</td>\n",
       "      <td>0.4%\\n</td>\n",
       "      <td>0.4%\\n</td>\n",
       "      <td>0.4%\\n</td>\n",
       "      <td>0.4%\\n</td>\n",
       "      <td>0.3%\\n</td>\n",
       "      <td>0.3%\\n</td>\n",
       "      <td>0.2%\\n</td>\n",
       "      <td>0.3%\\n</td>\n",
       "      <td>0.3%\\n</td>\n",
       "      <td>0.2%\\n</td>\n",
       "    </tr>\n",
       "    <tr>\n",
       "      <th>1</th>\n",
       "      <td>Alabama\\n</td>\n",
       "      <td>0.1%\\n</td>\n",
       "      <td>0.1%\\n</td>\n",
       "      <td>0.1%\\n</td>\n",
       "      <td>0.1%\\n</td>\n",
       "      <td>0.1%\\n</td>\n",
       "      <td>0.1%\\n</td>\n",
       "      <td>0.1%\\n</td>\n",
       "      <td>0.1%\\n</td>\n",
       "      <td>0.0%\\n</td>\n",
       "      <td>0.0%\\n</td>\n",
       "      <td>0.0%\\n</td>\n",
       "      <td>0.0%\\n</td>\n",
       "      <td>0.0%\\n</td>\n",
       "      <td>0.0%\\n</td>\n",
       "    </tr>\n",
       "    <tr>\n",
       "      <th>2</th>\n",
       "      <td>Alaska\\n</td>\n",
       "      <td>\\n</td>\n",
       "      <td>\\n</td>\n",
       "      <td>\\n</td>\n",
       "      <td>\\n</td>\n",
       "      <td>\\n</td>\n",
       "      <td>\\n</td>\n",
       "      <td>\\n</td>\n",
       "      <td>\\n</td>\n",
       "      <td>\\n</td>\n",
       "      <td>\\n</td>\n",
       "      <td>\\n</td>\n",
       "      <td>\\n</td>\n",
       "      <td>\\n</td>\n",
       "      <td>\\n</td>\n",
       "    </tr>\n",
       "    <tr>\n",
       "      <th>3</th>\n",
       "      <td>Arizona\\n</td>\n",
       "      <td>34.0%\\n</td>\n",
       "      <td>34.0%\\n</td>\n",
       "      <td>34.0%\\n</td>\n",
       "      <td>34.0%\\n</td>\n",
       "      <td>34.0%\\n</td>\n",
       "      <td>34.0%\\n</td>\n",
       "      <td>34.0%\\n</td>\n",
       "      <td>34.0%\\n</td>\n",
       "      <td>21.5%\\n</td>\n",
       "      <td>14.3%\\n</td>\n",
       "      <td>9.9%\\n</td>\n",
       "      <td>10.0%\\n</td>\n",
       "      <td>11.0%\\n</td>\n",
       "      <td>8.8%\\n</td>\n",
       "    </tr>\n",
       "    <tr>\n",
       "      <th>4</th>\n",
       "      <td>Arkansas\\n</td>\n",
       "      <td>0.0%\\n</td>\n",
       "      <td>0.0%\\n</td>\n",
       "      <td>0.0%\\n</td>\n",
       "      <td>0.0%\\n</td>\n",
       "      <td>0.0%\\n</td>\n",
       "      <td>0.0%\\n</td>\n",
       "      <td>0.0%\\n</td>\n",
       "      <td>0.0%\\n</td>\n",
       "      <td>0.0%\\n</td>\n",
       "      <td>0.0%\\n</td>\n",
       "      <td>0.0%\\n</td>\n",
       "      <td>0.0%\\n</td>\n",
       "      <td>0.0%\\n</td>\n",
       "      <td>0.0%\\n</td>\n",
       "    </tr>\n",
       "  </tbody>\n",
       "</table>\n",
       "</div>"
      ],
      "text/plain": [
       "             state     1890     1900     1910     1920     1930     1940  \\\n",
       "0  United States\\n   0.4%\\n   0.4%\\n   0.4%\\n   0.4%\\n   0.4%\\n   0.4%\\n   \n",
       "1        Alabama\\n   0.1%\\n   0.1%\\n   0.1%\\n   0.1%\\n   0.1%\\n   0.1%\\n   \n",
       "2         Alaska\\n       \\n       \\n       \\n       \\n       \\n       \\n   \n",
       "3        Arizona\\n  34.0%\\n  34.0%\\n  34.0%\\n  34.0%\\n  34.0%\\n  34.0%\\n   \n",
       "4       Arkansas\\n   0.0%\\n   0.0%\\n   0.0%\\n   0.0%\\n   0.0%\\n   0.0%\\n   \n",
       "\n",
       "      1950     1960     1970     1980    1990     2000     2010    2020  \n",
       "0   0.4%\\n   0.4%\\n   0.3%\\n   0.3%\\n  0.2%\\n   0.3%\\n   0.3%\\n  0.2%\\n  \n",
       "1   0.1%\\n   0.1%\\n   0.0%\\n   0.0%\\n  0.0%\\n   0.0%\\n   0.0%\\n  0.0%\\n  \n",
       "2       \\n       \\n       \\n       \\n      \\n       \\n       \\n      \\n  \n",
       "3  34.0%\\n  34.0%\\n  21.5%\\n  14.3%\\n  9.9%\\n  10.0%\\n  11.0%\\n  8.8%\\n  \n",
       "4   0.0%\\n   0.0%\\n   0.0%\\n   0.0%\\n  0.0%\\n   0.0%\\n   0.0%\\n  0.0%\\n  "
      ]
     },
     "execution_count": 13,
     "metadata": {},
     "output_type": "execute_result"
    }
   ],
   "source": [
    "df_eth.head()"
   ]
  },
  {
   "cell_type": "code",
   "execution_count": null,
   "metadata": {},
   "outputs": [],
   "source": [
    "dataa=pd.DataFrame(dctt)"
   ]
  },
  {
   "cell_type": "code",
   "execution_count": null,
   "metadata": {},
   "outputs": [],
   "source": [
    "dctt"
   ]
  },
  {
   "cell_type": "code",
   "execution_count": null,
   "metadata": {},
   "outputs": [],
   "source": [
    "dataa"
   ]
  },
  {
   "cell_type": "code",
   "execution_count": 38,
   "metadata": {},
   "outputs": [],
   "source": [
    "#df_eth.to_csv('df_eth_usa.csv', sep=',', index=True)"
   ]
  },
  {
   "cell_type": "markdown",
   "metadata": {},
   "source": [
    "## Vital statistics of racial and ethnic groups "
   ]
  },
  {
   "cell_type": "markdown",
   "metadata": {},
   "source": [
    "------------------"
   ]
  },
  {
   "cell_type": "markdown",
   "metadata": {},
   "source": [
    "https://www.cdc.gov/nchs/pressroom/sosmap/fertility_rate/fertility_rates.htm"
   ]
  }
 ],
 "metadata": {
  "kernelspec": {
   "display_name": "iron",
   "language": "python",
   "name": "iron"
  },
  "language_info": {
   "codemirror_mode": {
    "name": "ipython",
    "version": 3
   },
   "file_extension": ".py",
   "mimetype": "text/x-python",
   "name": "python",
   "nbconvert_exporter": "python",
   "pygments_lexer": "ipython3",
   "version": "3.9.13"
  }
 },
 "nbformat": 4,
 "nbformat_minor": 4
}
