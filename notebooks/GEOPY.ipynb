{
 "cells": [
  {
   "cell_type": "code",
   "execution_count": null,
   "metadata": {},
   "outputs": [],
   "source": [
    "#pip install geopy"
   ]
  },
  {
   "cell_type": "code",
   "execution_count": 1,
   "metadata": {},
   "outputs": [],
   "source": [
    "from geopy.geocoders import Nominatim"
   ]
  },
  {
   "cell_type": "code",
   "execution_count": 2,
   "metadata": {},
   "outputs": [],
   "source": [
    "import pandas as pd"
   ]
  },
  {
   "cell_type": "code",
   "execution_count": 3,
   "metadata": {},
   "outputs": [
    {
     "data": {
      "text/html": [
       "<div>\n",
       "<style scoped>\n",
       "    .dataframe tbody tr th:only-of-type {\n",
       "        vertical-align: middle;\n",
       "    }\n",
       "\n",
       "    .dataframe tbody tr th {\n",
       "        vertical-align: top;\n",
       "    }\n",
       "\n",
       "    .dataframe thead th {\n",
       "        text-align: right;\n",
       "    }\n",
       "</style>\n",
       "<table border=\"1\" class=\"dataframe\">\n",
       "  <thead>\n",
       "    <tr style=\"text-align: right;\">\n",
       "      <th></th>\n",
       "      <th>Unnamed: 0</th>\n",
       "      <th>language</th>\n",
       "      <th>endangerment</th>\n",
       "      <th>latitude</th>\n",
       "      <th>longitude</th>\n",
       "    </tr>\n",
       "  </thead>\n",
       "  <tbody>\n",
       "    <tr>\n",
       "      <th>0</th>\n",
       "      <td>156</td>\n",
       "      <td>Navajo</td>\n",
       "      <td>Vulnerable</td>\n",
       "      <td>35.8044</td>\n",
       "      <td>-108.4750</td>\n",
       "    </tr>\n",
       "    <tr>\n",
       "      <th>1</th>\n",
       "      <td>359</td>\n",
       "      <td>Sioux</td>\n",
       "      <td>Vulnerable</td>\n",
       "      <td>43.0588</td>\n",
       "      <td>-102.5244</td>\n",
       "    </tr>\n",
       "    <tr>\n",
       "      <th>2</th>\n",
       "      <td>443</td>\n",
       "      <td>O'odham (Akimel)</td>\n",
       "      <td>Definitely endangered</td>\n",
       "      <td>33.0590</td>\n",
       "      <td>-112.0479</td>\n",
       "    </tr>\n",
       "    <tr>\n",
       "      <th>3</th>\n",
       "      <td>444</td>\n",
       "      <td>O'odham (Tohono)</td>\n",
       "      <td>Definitely endangered</td>\n",
       "      <td>31.9186</td>\n",
       "      <td>-111.8798</td>\n",
       "    </tr>\n",
       "  </tbody>\n",
       "</table>\n",
       "</div>"
      ],
      "text/plain": [
       "   Unnamed: 0          language           endangerment  latitude  longitude\n",
       "0         156            Navajo             Vulnerable   35.8044  -108.4750\n",
       "1         359             Sioux             Vulnerable   43.0588  -102.5244\n",
       "2         443  O'odham (Akimel)  Definitely endangered   33.0590  -112.0479\n",
       "3         444  O'odham (Tohono)  Definitely endangered   31.9186  -111.8798"
      ]
     },
     "execution_count": 3,
     "metadata": {},
     "output_type": "execute_result"
    }
   ],
   "source": [
    "df= pd.read_csv(\"df_usa.csv\")\n",
    "df.head(4)"
   ]
  },
  {
   "cell_type": "code",
   "execution_count": 4,
   "metadata": {},
   "outputs": [
    {
     "name": "stdout",
     "output_type": "stream",
     "text": [
      "Fort Defiance Agency / Tséhootsooí  Bił Hahoodzo biyiʼdi, Apache County, Arizona, United States\n"
     ]
    }
   ],
   "source": [
    "geolocator = Nominatim(user_agent=\"usa\")\n",
    "location = geolocator.reverse(\"35.8044, -108.4750\")\n",
    "print(location.address)\n"
   ]
  },
  {
   "cell_type": "code",
   "execution_count": 6,
   "metadata": {},
   "outputs": [],
   "source": [
    "geolocator = Nominatim(user_agent=\"geoapiExercises\")\n",
    "\n",
    "def obtener_estado(row):\n",
    "    # Obtener la localización completa a partir de las coordenadas\n",
    "    location = geolocator.reverse(f\"{row['latitude']}, {row['longitude']}\", exactly_one=True)\n",
    "    # Obtener el estado a partir de la localización completa\n",
    "    try:\n",
    "        state = location.raw['address']['state']\n",
    "    except (KeyError, TypeError):\n",
    "        state = None\n",
    "    return state\n",
    "\n",
    "# Aplicar la función obtener_estado a cada fila del DataFrame\n",
    "#df[\"estado\"] = df.apply(obtener_estado, axis=1)"
   ]
  },
  {
   "cell_type": "code",
   "execution_count": 7,
   "metadata": {},
   "outputs": [],
   "source": [
    "df[\"state\"] = df.apply(obtener_estado, axis=1)"
   ]
  },
  {
   "cell_type": "code",
   "execution_count": 8,
   "metadata": {},
   "outputs": [
    {
     "data": {
      "text/html": [
       "<div>\n",
       "<style scoped>\n",
       "    .dataframe tbody tr th:only-of-type {\n",
       "        vertical-align: middle;\n",
       "    }\n",
       "\n",
       "    .dataframe tbody tr th {\n",
       "        vertical-align: top;\n",
       "    }\n",
       "\n",
       "    .dataframe thead th {\n",
       "        text-align: right;\n",
       "    }\n",
       "</style>\n",
       "<table border=\"1\" class=\"dataframe\">\n",
       "  <thead>\n",
       "    <tr style=\"text-align: right;\">\n",
       "      <th></th>\n",
       "      <th>Unnamed: 0</th>\n",
       "      <th>language</th>\n",
       "      <th>endangerment</th>\n",
       "      <th>latitude</th>\n",
       "      <th>longitude</th>\n",
       "      <th>state</th>\n",
       "    </tr>\n",
       "  </thead>\n",
       "  <tbody>\n",
       "    <tr>\n",
       "      <th>0</th>\n",
       "      <td>156</td>\n",
       "      <td>Navajo</td>\n",
       "      <td>Vulnerable</td>\n",
       "      <td>35.8044</td>\n",
       "      <td>-108.4750</td>\n",
       "      <td>Arizona</td>\n",
       "    </tr>\n",
       "    <tr>\n",
       "      <th>1</th>\n",
       "      <td>359</td>\n",
       "      <td>Sioux</td>\n",
       "      <td>Vulnerable</td>\n",
       "      <td>43.0588</td>\n",
       "      <td>-102.5244</td>\n",
       "      <td>South Dakota</td>\n",
       "    </tr>\n",
       "    <tr>\n",
       "      <th>2</th>\n",
       "      <td>443</td>\n",
       "      <td>O'odham (Akimel)</td>\n",
       "      <td>Definitely endangered</td>\n",
       "      <td>33.0590</td>\n",
       "      <td>-112.0479</td>\n",
       "      <td>Arizona</td>\n",
       "    </tr>\n",
       "    <tr>\n",
       "      <th>3</th>\n",
       "      <td>444</td>\n",
       "      <td>O'odham (Tohono)</td>\n",
       "      <td>Definitely endangered</td>\n",
       "      <td>31.9186</td>\n",
       "      <td>-111.8798</td>\n",
       "      <td>Arizona</td>\n",
       "    </tr>\n",
       "    <tr>\n",
       "      <th>4</th>\n",
       "      <td>502</td>\n",
       "      <td>Central Alaskan Yupik (2)</td>\n",
       "      <td>Vulnerable</td>\n",
       "      <td>61.4387</td>\n",
       "      <td>-160.4882</td>\n",
       "      <td>Alaska</td>\n",
       "    </tr>\n",
       "  </tbody>\n",
       "</table>\n",
       "</div>"
      ],
      "text/plain": [
       "   Unnamed: 0                   language           endangerment  latitude  \\\n",
       "0         156                     Navajo             Vulnerable   35.8044   \n",
       "1         359                      Sioux             Vulnerable   43.0588   \n",
       "2         443           O'odham (Akimel)  Definitely endangered   33.0590   \n",
       "3         444           O'odham (Tohono)  Definitely endangered   31.9186   \n",
       "4         502  Central Alaskan Yupik (2)             Vulnerable   61.4387   \n",
       "\n",
       "   longitude         state  \n",
       "0  -108.4750       Arizona  \n",
       "1  -102.5244  South Dakota  \n",
       "2  -112.0479       Arizona  \n",
       "3  -111.8798       Arizona  \n",
       "4  -160.4882        Alaska  "
      ]
     },
     "execution_count": 8,
     "metadata": {},
     "output_type": "execute_result"
    }
   ],
   "source": [
    "df.head()"
   ]
  },
  {
   "cell_type": "code",
   "execution_count": 9,
   "metadata": {},
   "outputs": [
    {
     "data": {
      "text/plain": [
       "array(['Arizona', 'South Dakota', 'Alaska', 'Oklahoma', 'Louisiana',\n",
       "       'Mississippi', 'New Mexico', 'Massachusetts', 'Minnesota',\n",
       "       'Montana', 'Québec', 'Idaho', 'Utah', 'Wyoming', 'North Carolina',\n",
       "       'Hawaii', 'Maine', 'Florida', 'Colorado', 'Michigan', None,\n",
       "       'Kansas', 'Nevada', 'Oregon', 'Nebraska', 'Wisconsin',\n",
       "       'North Dakota', 'Iowa', 'California', 'New York', 'Washington',\n",
       "       'South Carolina', 'British Columbia', 'Pennsylvania', 'Maryland',\n",
       "       'New Hampshire'], dtype=object)"
      ]
     },
     "execution_count": 9,
     "metadata": {},
     "output_type": "execute_result"
    }
   ],
   "source": [
    "df[\"state\"].unique()"
   ]
  },
  {
   "cell_type": "code",
   "execution_count": 8,
   "metadata": {},
   "outputs": [],
   "source": [
    "#df.to_csv('df_usa_states.csv', sep=',', index=True)"
   ]
  },
  {
   "cell_type": "code",
   "execution_count": null,
   "metadata": {},
   "outputs": [],
   "source": []
  }
 ],
 "metadata": {
  "kernelspec": {
   "display_name": "iron",
   "language": "python",
   "name": "iron"
  },
  "language_info": {
   "codemirror_mode": {
    "name": "ipython",
    "version": 3
   },
   "file_extension": ".py",
   "mimetype": "text/x-python",
   "name": "python",
   "nbconvert_exporter": "python",
   "pygments_lexer": "ipython3",
   "version": "3.9.13"
  }
 },
 "nbformat": 4,
 "nbformat_minor": 4
}
