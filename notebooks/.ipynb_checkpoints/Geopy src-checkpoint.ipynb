{
 "cells": [
  {
   "cell_type": "code",
   "execution_count": 1,
   "metadata": {},
   "outputs": [],
   "source": [
    "import pandas as pd"
   ]
  },
  {
   "cell_type": "code",
   "execution_count": 3,
   "metadata": {},
   "outputs": [
    {
     "ename": "ModuleNotFoundError",
     "evalue": "No module named 'src'",
     "output_type": "error",
     "traceback": [
      "\u001b[0;31m---------------------------------------------------------------------------\u001b[0m",
      "\u001b[0;31mModuleNotFoundError\u001b[0m                       Traceback (most recent call last)",
      "Cell \u001b[0;32mIn [3], line 3\u001b[0m\n\u001b[1;32m      1\u001b[0m \u001b[38;5;28;01mimport\u001b[39;00m \u001b[38;5;21;01msys\u001b[39;00m \n\u001b[1;32m      2\u001b[0m sys\u001b[38;5;241m.\u001b[39mpath\u001b[38;5;241m.\u001b[39mappend(\u001b[38;5;124m\"\u001b[39m\u001b[38;5;124m../src/soporte.py\u001b[39m\u001b[38;5;124m\"\u001b[39m)\n\u001b[0;32m----> 3\u001b[0m \u001b[38;5;28;01mimport\u001b[39;00m \u001b[38;5;21;01msrc\u001b[39;00m\u001b[38;5;21;01m.\u001b[39;00m\u001b[38;5;21;01msoporte\u001b[39;00m \u001b[38;5;28;01mas\u001b[39;00m \u001b[38;5;21;01msp\u001b[39;00m\n",
      "\u001b[0;31mModuleNotFoundError\u001b[0m: No module named 'src'"
     ]
    }
   ],
   "source": [
    "import sys \n",
    "sys.path.append(\"../src/soporte.py\")\n",
    "import src.soporte as sp "
   ]
  },
  {
   "cell_type": "code",
   "execution_count": 3,
   "metadata": {},
   "outputs": [
    {
     "data": {
      "text/html": [
       "<div>\n",
       "<style scoped>\n",
       "    .dataframe tbody tr th:only-of-type {\n",
       "        vertical-align: middle;\n",
       "    }\n",
       "\n",
       "    .dataframe tbody tr th {\n",
       "        vertical-align: top;\n",
       "    }\n",
       "\n",
       "    .dataframe thead th {\n",
       "        text-align: right;\n",
       "    }\n",
       "</style>\n",
       "<table border=\"1\" class=\"dataframe\">\n",
       "  <thead>\n",
       "    <tr style=\"text-align: right;\">\n",
       "      <th></th>\n",
       "      <th>Unnamed: 0</th>\n",
       "      <th>language</th>\n",
       "      <th>endangerment</th>\n",
       "      <th>speakers</th>\n",
       "      <th>latitude</th>\n",
       "      <th>longitude</th>\n",
       "    </tr>\n",
       "  </thead>\n",
       "  <tbody>\n",
       "    <tr>\n",
       "      <th>0</th>\n",
       "      <td>156</td>\n",
       "      <td>Navajo</td>\n",
       "      <td>Vulnerable</td>\n",
       "      <td>120000.0</td>\n",
       "      <td>35.8044</td>\n",
       "      <td>-108.4750</td>\n",
       "    </tr>\n",
       "    <tr>\n",
       "      <th>1</th>\n",
       "      <td>359</td>\n",
       "      <td>Sioux</td>\n",
       "      <td>Vulnerable</td>\n",
       "      <td>25000.0</td>\n",
       "      <td>43.0588</td>\n",
       "      <td>-102.5244</td>\n",
       "    </tr>\n",
       "    <tr>\n",
       "      <th>2</th>\n",
       "      <td>443</td>\n",
       "      <td>O'odham (Akimel)</td>\n",
       "      <td>Definitely endangered</td>\n",
       "      <td>15000.0</td>\n",
       "      <td>33.0590</td>\n",
       "      <td>-112.0479</td>\n",
       "    </tr>\n",
       "    <tr>\n",
       "      <th>3</th>\n",
       "      <td>444</td>\n",
       "      <td>O'odham (Tohono)</td>\n",
       "      <td>Definitely endangered</td>\n",
       "      <td>15000.0</td>\n",
       "      <td>31.9186</td>\n",
       "      <td>-111.8798</td>\n",
       "    </tr>\n",
       "  </tbody>\n",
       "</table>\n",
       "</div>"
      ],
      "text/plain": [
       "   Unnamed: 0          language           endangerment  speakers  latitude  \\\n",
       "0         156            Navajo             Vulnerable  120000.0   35.8044   \n",
       "1         359             Sioux             Vulnerable   25000.0   43.0588   \n",
       "2         443  O'odham (Akimel)  Definitely endangered   15000.0   33.0590   \n",
       "3         444  O'odham (Tohono)  Definitely endangered   15000.0   31.9186   \n",
       "\n",
       "   longitude  \n",
       "0  -108.4750  \n",
       "1  -102.5244  \n",
       "2  -112.0479  \n",
       "3  -111.8798  "
      ]
     },
     "execution_count": 3,
     "metadata": {},
     "output_type": "execute_result"
    }
   ],
   "source": [
    "df= pd.read_csv(\"clean_data/df_usa_languages.csv\")\n",
    "df.head(4)"
   ]
  },
  {
   "cell_type": "code",
   "execution_count": 4,
   "metadata": {},
   "outputs": [],
   "source": [
    "df[\"state\"] = df.apply(sp.obtener_estado, axis=1)"
   ]
  },
  {
   "cell_type": "code",
   "execution_count": 5,
   "metadata": {},
   "outputs": [
    {
     "data": {
      "text/html": [
       "<div>\n",
       "<style scoped>\n",
       "    .dataframe tbody tr th:only-of-type {\n",
       "        vertical-align: middle;\n",
       "    }\n",
       "\n",
       "    .dataframe tbody tr th {\n",
       "        vertical-align: top;\n",
       "    }\n",
       "\n",
       "    .dataframe thead th {\n",
       "        text-align: right;\n",
       "    }\n",
       "</style>\n",
       "<table border=\"1\" class=\"dataframe\">\n",
       "  <thead>\n",
       "    <tr style=\"text-align: right;\">\n",
       "      <th></th>\n",
       "      <th>Unnamed: 0</th>\n",
       "      <th>language</th>\n",
       "      <th>endangerment</th>\n",
       "      <th>speakers</th>\n",
       "      <th>latitude</th>\n",
       "      <th>longitude</th>\n",
       "      <th>state</th>\n",
       "    </tr>\n",
       "  </thead>\n",
       "  <tbody>\n",
       "    <tr>\n",
       "      <th>0</th>\n",
       "      <td>156</td>\n",
       "      <td>Navajo</td>\n",
       "      <td>Vulnerable</td>\n",
       "      <td>120000.0</td>\n",
       "      <td>35.8044</td>\n",
       "      <td>-108.4750</td>\n",
       "      <td>Arizona</td>\n",
       "    </tr>\n",
       "    <tr>\n",
       "      <th>1</th>\n",
       "      <td>359</td>\n",
       "      <td>Sioux</td>\n",
       "      <td>Vulnerable</td>\n",
       "      <td>25000.0</td>\n",
       "      <td>43.0588</td>\n",
       "      <td>-102.5244</td>\n",
       "      <td>South Dakota</td>\n",
       "    </tr>\n",
       "    <tr>\n",
       "      <th>2</th>\n",
       "      <td>443</td>\n",
       "      <td>O'odham (Akimel)</td>\n",
       "      <td>Definitely endangered</td>\n",
       "      <td>15000.0</td>\n",
       "      <td>33.0590</td>\n",
       "      <td>-112.0479</td>\n",
       "      <td>Arizona</td>\n",
       "    </tr>\n",
       "    <tr>\n",
       "      <th>3</th>\n",
       "      <td>444</td>\n",
       "      <td>O'odham (Tohono)</td>\n",
       "      <td>Definitely endangered</td>\n",
       "      <td>15000.0</td>\n",
       "      <td>31.9186</td>\n",
       "      <td>-111.8798</td>\n",
       "      <td>Arizona</td>\n",
       "    </tr>\n",
       "    <tr>\n",
       "      <th>4</th>\n",
       "      <td>502</td>\n",
       "      <td>Central Alaskan Yupik (2)</td>\n",
       "      <td>Vulnerable</td>\n",
       "      <td>10400.0</td>\n",
       "      <td>61.4387</td>\n",
       "      <td>-160.4882</td>\n",
       "      <td>Alaska</td>\n",
       "    </tr>\n",
       "  </tbody>\n",
       "</table>\n",
       "</div>"
      ],
      "text/plain": [
       "   Unnamed: 0                   language           endangerment  speakers  \\\n",
       "0         156                     Navajo             Vulnerable  120000.0   \n",
       "1         359                      Sioux             Vulnerable   25000.0   \n",
       "2         443           O'odham (Akimel)  Definitely endangered   15000.0   \n",
       "3         444           O'odham (Tohono)  Definitely endangered   15000.0   \n",
       "4         502  Central Alaskan Yupik (2)             Vulnerable   10400.0   \n",
       "\n",
       "   latitude  longitude         state  \n",
       "0   35.8044  -108.4750       Arizona  \n",
       "1   43.0588  -102.5244  South Dakota  \n",
       "2   33.0590  -112.0479       Arizona  \n",
       "3   31.9186  -111.8798       Arizona  \n",
       "4   61.4387  -160.4882        Alaska  "
      ]
     },
     "execution_count": 5,
     "metadata": {},
     "output_type": "execute_result"
    }
   ],
   "source": [
    "df.head()"
   ]
  },
  {
   "cell_type": "code",
   "execution_count": 6,
   "metadata": {},
   "outputs": [
    {
     "data": {
      "text/plain": [
       "array(['Arizona', 'South Dakota', 'Alaska', 'Oklahoma', 'Louisiana',\n",
       "       'Mississippi', 'New Mexico', 'Massachusetts', 'Minnesota',\n",
       "       'Montana', 'Québec', 'Idaho', 'Utah', 'Wyoming', 'North Carolina',\n",
       "       'Hawaii', 'Maine', 'Florida', 'Colorado', 'Michigan', None,\n",
       "       'Kansas', 'Nevada', 'Oregon', 'Nebraska', 'Wisconsin',\n",
       "       'North Dakota', 'Iowa', 'California', 'New York', 'Washington',\n",
       "       'South Carolina', 'British Columbia', 'Pennsylvania', 'Maryland',\n",
       "       'New Hampshire'], dtype=object)"
      ]
     },
     "execution_count": 6,
     "metadata": {},
     "output_type": "execute_result"
    }
   ],
   "source": [
    "df[\"state\"].unique()"
   ]
  },
  {
   "cell_type": "code",
   "execution_count": 10,
   "metadata": {},
   "outputs": [
    {
     "data": {
      "text/plain": [
       "0      120000.0\n",
       "1       25000.0\n",
       "2       15000.0\n",
       "3       15000.0\n",
       "4       10400.0\n",
       "         ...   \n",
       "211         0.0\n",
       "212         0.0\n",
       "213         0.0\n",
       "214         0.0\n",
       "215         0.0\n",
       "Name: speakers, Length: 216, dtype: float64"
      ]
     },
     "execution_count": 10,
     "metadata": {},
     "output_type": "execute_result"
    }
   ],
   "source": [
    "df[\"speakers\"]"
   ]
  },
  {
   "cell_type": "code",
   "execution_count": 8,
   "metadata": {},
   "outputs": [
    {
     "name": "stdout",
     "output_type": "stream",
     "text": [
      "<class 'pandas.core.frame.DataFrame'>\n",
      "RangeIndex: 216 entries, 0 to 215\n",
      "Data columns (total 7 columns):\n",
      " #   Column        Non-Null Count  Dtype  \n",
      "---  ------        --------------  -----  \n",
      " 0   Unnamed: 0    216 non-null    int64  \n",
      " 1   language      216 non-null    object \n",
      " 2   endangerment  216 non-null    object \n",
      " 3   speakers      216 non-null    float64\n",
      " 4   latitude      216 non-null    float64\n",
      " 5   longitude     216 non-null    float64\n",
      " 6   state         213 non-null    object \n",
      "dtypes: float64(3), int64(1), object(3)\n",
      "memory usage: 11.9+ KB\n"
     ]
    }
   ],
   "source": [
    "df.info()"
   ]
  },
  {
   "cell_type": "code",
   "execution_count": 11,
   "metadata": {},
   "outputs": [],
   "source": [
    "df_copy=df.copy()"
   ]
  },
  {
   "cell_type": "code",
   "execution_count": null,
   "metadata": {},
   "outputs": [],
   "source": []
  },
  {
   "cell_type": "code",
   "execution_count": 7,
   "metadata": {},
   "outputs": [],
   "source": [
    "#df.to_csv('clean_data/df_usa_languages_states.csv', sep=',', index=True)"
   ]
  }
 ],
 "metadata": {
  "kernelspec": {
   "display_name": "iron",
   "language": "python",
   "name": "iron"
  },
  "language_info": {
   "codemirror_mode": {
    "name": "ipython",
    "version": 3
   },
   "file_extension": ".py",
   "mimetype": "text/x-python",
   "name": "python",
   "nbconvert_exporter": "python",
   "pygments_lexer": "ipython3",
   "version": "3.9.13"
  }
 },
 "nbformat": 4,
 "nbformat_minor": 4
}
