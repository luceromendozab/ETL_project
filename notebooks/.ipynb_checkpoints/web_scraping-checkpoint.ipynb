{
 "cells": [
  {
   "cell_type": "code",
   "execution_count": 2,
   "metadata": {},
   "outputs": [],
   "source": [
    "import requests\n",
    "import re\n",
    "import pandas as pd\n",
    "import numpy as np\n",
    "from bs4 import BeautifulSoup"
   ]
  },
  {
   "cell_type": "markdown",
   "metadata": {},
   "source": [
    "# Historical population by states"
   ]
  },
  {
   "cell_type": "code",
   "execution_count": 3,
   "metadata": {},
   "outputs": [],
   "source": [
    "url_pop=\"https://en.wikipedia.org/wiki/List_of_U.S._states_and_territories_by_historical_population\"\n",
    "html_pop= requests.get(url_pop)"
   ]
  },
  {
   "cell_type": "code",
   "execution_count": 4,
   "metadata": {},
   "outputs": [
    {
     "data": {
      "text/plain": [
       "200"
      ]
     },
     "execution_count": 4,
     "metadata": {},
     "output_type": "execute_result"
    }
   ],
   "source": [
    "html_pop.status_code"
   ]
  },
  {
   "cell_type": "code",
   "execution_count": 5,
   "metadata": {},
   "outputs": [],
   "source": [
    "soup_pop = BeautifulSoup(html_pop.content, \"html.parser\")"
   ]
  },
  {
   "cell_type": "code",
   "execution_count": 6,
   "metadata": {},
   "outputs": [],
   "source": [
    "pop = soup_pop.find_all(\"table\")"
   ]
  },
  {
   "cell_type": "code",
   "execution_count": 7,
   "metadata": {},
   "outputs": [
    {
     "data": {
      "text/plain": [
       "9"
      ]
     },
     "execution_count": 7,
     "metadata": {},
     "output_type": "execute_result"
    }
   ],
   "source": [
    "len(pop)"
   ]
  },
  {
   "cell_type": "code",
   "execution_count": 8,
   "metadata": {},
   "outputs": [],
   "source": [
    "population=pop[3]"
   ]
  },
  {
   "cell_type": "code",
   "execution_count": 9,
   "metadata": {},
   "outputs": [
    {
     "data": {
      "text/plain": [
       "58"
      ]
     },
     "execution_count": 9,
     "metadata": {},
     "output_type": "execute_result"
    }
   ],
   "source": [
    "len(population.find_all(\"tr\"))"
   ]
  },
  {
   "cell_type": "code",
   "execution_count": 10,
   "metadata": {},
   "outputs": [
    {
     "data": {
      "text/plain": [
       "456"
      ]
     },
     "execution_count": 10,
     "metadata": {},
     "output_type": "execute_result"
    }
   ],
   "source": [
    "len(population.find_all(\"td\"))"
   ]
  },
  {
   "cell_type": "code",
   "execution_count": 11,
   "metadata": {},
   "outputs": [
    {
     "data": {
      "text/plain": [
       "8"
      ]
     },
     "execution_count": 11,
     "metadata": {},
     "output_type": "execute_result"
    }
   ],
   "source": [
    "len(population.find_all(\"th\"))"
   ]
  },
  {
   "cell_type": "code",
   "execution_count": 12,
   "metadata": {},
   "outputs": [
    {
     "data": {
      "text/plain": [
       "<tr>\n",
       "<th>Name\n",
       "</th>\n",
       "<th>1960\n",
       "</th>\n",
       "<th>1970\n",
       "</th>\n",
       "<th>1980\n",
       "</th>\n",
       "<th>1990\n",
       "</th>\n",
       "<th>2000\n",
       "</th>\n",
       "<th>2010\n",
       "</th>\n",
       "<th>2020\n",
       "</th></tr>"
      ]
     },
     "execution_count": 12,
     "metadata": {},
     "output_type": "execute_result"
    }
   ],
   "source": [
    "#columnas \n",
    "population.find_all(\"tr\")[0]"
   ]
  },
  {
   "cell_type": "code",
   "execution_count": 13,
   "metadata": {},
   "outputs": [
    {
     "data": {
      "text/plain": [
       "<tr>\n",
       "<td align=\"left\" height=\"13\"><b><span class=\"flagicon\"><img alt=\"\" class=\"thumbborder\" data-file-height=\"400\" data-file-width=\"600\" decoding=\"async\" height=\"15\" src=\"//upload.wikimedia.org/wikipedia/commons/thumb/5/5c/Flag_of_Alabama.svg/23px-Flag_of_Alabama.svg.png\" srcset=\"//upload.wikimedia.org/wikipedia/commons/thumb/5/5c/Flag_of_Alabama.svg/35px-Flag_of_Alabama.svg.png 1.5x, //upload.wikimedia.org/wikipedia/commons/thumb/5/5c/Flag_of_Alabama.svg/45px-Flag_of_Alabama.svg.png 2x\" width=\"23\"/> </span><a href=\"/wiki/Alabama\" title=\"Alabama\">Alabama</a></b>\n",
       "</td>\n",
       "<td>3,266,740\n",
       "</td>\n",
       "<td>3,444,165\n",
       "</td>\n",
       "<td>3,893,888\n",
       "</td>\n",
       "<td>4,040,587\n",
       "</td>\n",
       "<td>4,447,100\n",
       "</td>\n",
       "<td>4,779,736\n",
       "</td>\n",
       "<td>5,024,279\n",
       "</td></tr>"
      ]
     },
     "execution_count": 13,
     "metadata": {},
     "output_type": "execute_result"
    }
   ],
   "source": [
    "population.find_all(\"tr\")[1]"
   ]
  },
  {
   "cell_type": "code",
   "execution_count": 14,
   "metadata": {},
   "outputs": [
    {
     "data": {
      "text/plain": [
       "<td align=\"left\" height=\"13\"><b><span class=\"flagicon\"><img alt=\"\" class=\"thumbborder\" data-file-height=\"400\" data-file-width=\"600\" decoding=\"async\" height=\"15\" src=\"//upload.wikimedia.org/wikipedia/commons/thumb/5/5c/Flag_of_Alabama.svg/23px-Flag_of_Alabama.svg.png\" srcset=\"//upload.wikimedia.org/wikipedia/commons/thumb/5/5c/Flag_of_Alabama.svg/35px-Flag_of_Alabama.svg.png 1.5x, //upload.wikimedia.org/wikipedia/commons/thumb/5/5c/Flag_of_Alabama.svg/45px-Flag_of_Alabama.svg.png 2x\" width=\"23\"/> </span><a href=\"/wiki/Alabama\" title=\"Alabama\">Alabama</a></b>\n",
       "</td>"
      ]
     },
     "execution_count": 14,
     "metadata": {},
     "output_type": "execute_result"
    }
   ],
   "source": [
    "#filas \n",
    "population.find_all(\"td\")[0]"
   ]
  },
  {
   "cell_type": "code",
   "execution_count": 15,
   "metadata": {},
   "outputs": [
    {
     "data": {
      "text/plain": [
       "<td>3,266,740\n",
       "</td>"
      ]
     },
     "execution_count": 15,
     "metadata": {},
     "output_type": "execute_result"
    }
   ],
   "source": [
    "population.find_all(\"td\")[1]"
   ]
  },
  {
   "cell_type": "code",
   "execution_count": 16,
   "metadata": {},
   "outputs": [
    {
     "data": {
      "text/plain": [
       "<td>3,266,740\n",
       "</td>"
      ]
     },
     "execution_count": 16,
     "metadata": {},
     "output_type": "execute_result"
    }
   ],
   "source": [
    "#fila 2 columna 2 \n",
    "population.find_all(\"tr\")[1].find_all(\"td\")[1]"
   ]
  },
  {
   "cell_type": "code",
   "execution_count": 17,
   "metadata": {},
   "outputs": [
    {
     "data": {
      "text/plain": [
       "'3,266,740\\n'"
      ]
     },
     "execution_count": 17,
     "metadata": {},
     "output_type": "execute_result"
    }
   ],
   "source": [
    "# sacamos el texto de ese elemento \n",
    "population.find_all(\"tr\")[1].find_all(\"td\")[1].getText()"
   ]
  },
  {
   "cell_type": "code",
   "execution_count": 18,
   "metadata": {},
   "outputs": [],
   "source": [
    "# Creamos un diccionario \n",
    "dic = {\"state\": [], \n",
    "               \"1960\": [], \n",
    "               \"1970\":[], \n",
    "               \"1980\": [],\n",
    "               \"1990\":[],\n",
    "               \"2000\":[],\n",
    "               \"2010\":[],\n",
    "               \"2020\":[]}"
   ]
  },
  {
   "cell_type": "code",
   "execution_count": 19,
   "metadata": {},
   "outputs": [],
   "source": [
    "for row in population.find_all(\"tr\")[1:]:\n",
    "    column = [element for element in row.find_all(\"td\")]\n",
    "    dic[\"state\"].append(column[0].getText())\n",
    "    dic[\"1960\"].append(column[1].getText())\n",
    "    dic[\"1970\"].append(column[2].getText())\n",
    "    dic[\"1980\"].append(column[3].getText())\n",
    "    dic[\"1990\"].append(column[4].getText())\n",
    "    dic[\"2000\"].append(column[5].getText())\n",
    "    dic[\"2010\"].append(column[6].getText())\n",
    "    dic[\"2020\"].append(column[7].getText())\n",
    "    "
   ]
  },
  {
   "cell_type": "code",
   "execution_count": 20,
   "metadata": {},
   "outputs": [
    {
     "data": {
      "text/html": [
       "<div>\n",
       "<style scoped>\n",
       "    .dataframe tbody tr th:only-of-type {\n",
       "        vertical-align: middle;\n",
       "    }\n",
       "\n",
       "    .dataframe tbody tr th {\n",
       "        vertical-align: top;\n",
       "    }\n",
       "\n",
       "    .dataframe thead th {\n",
       "        text-align: right;\n",
       "    }\n",
       "</style>\n",
       "<table border=\"1\" class=\"dataframe\">\n",
       "  <thead>\n",
       "    <tr style=\"text-align: right;\">\n",
       "      <th></th>\n",
       "      <th>state</th>\n",
       "      <th>1960</th>\n",
       "      <th>1970</th>\n",
       "      <th>1980</th>\n",
       "      <th>1990</th>\n",
       "      <th>2000</th>\n",
       "      <th>2010</th>\n",
       "      <th>2020</th>\n",
       "    </tr>\n",
       "  </thead>\n",
       "  <tbody>\n",
       "    <tr>\n",
       "      <th>0</th>\n",
       "      <td>Alabama\\n</td>\n",
       "      <td>3,266,740\\n</td>\n",
       "      <td>3,444,165\\n</td>\n",
       "      <td>3,893,888\\n</td>\n",
       "      <td>4,040,587\\n</td>\n",
       "      <td>4,447,100\\n</td>\n",
       "      <td>4,779,736\\n</td>\n",
       "      <td>5,024,279\\n</td>\n",
       "    </tr>\n",
       "    <tr>\n",
       "      <th>1</th>\n",
       "      <td>Alaska\\n</td>\n",
       "      <td>226,167\\n</td>\n",
       "      <td>300,382\\n</td>\n",
       "      <td>401,851\\n</td>\n",
       "      <td>550,043\\n</td>\n",
       "      <td>626,932\\n</td>\n",
       "      <td>710,231\\n</td>\n",
       "      <td>733,391\\n</td>\n",
       "    </tr>\n",
       "    <tr>\n",
       "      <th>2</th>\n",
       "      <td>American Samoa\\n</td>\n",
       "      <td>20,051\\n</td>\n",
       "      <td>27,159\\n</td>\n",
       "      <td>32,297\\n</td>\n",
       "      <td>46,773\\n</td>\n",
       "      <td>57,291\\n</td>\n",
       "      <td>55,519\\n</td>\n",
       "      <td>49,710\\n</td>\n",
       "    </tr>\n",
       "    <tr>\n",
       "      <th>3</th>\n",
       "      <td>Arizona\\n</td>\n",
       "      <td>1,302,161\\n</td>\n",
       "      <td>1,770,900\\n</td>\n",
       "      <td>2,718,215\\n</td>\n",
       "      <td>3,665,228\\n</td>\n",
       "      <td>5,130,632\\n</td>\n",
       "      <td>6,392,017\\n</td>\n",
       "      <td>7,151,502\\n</td>\n",
       "    </tr>\n",
       "    <tr>\n",
       "      <th>4</th>\n",
       "      <td>Arkansas\\n</td>\n",
       "      <td>1,786,272\\n</td>\n",
       "      <td>1,923,295\\n</td>\n",
       "      <td>2,286,435\\n</td>\n",
       "      <td>2,350,725\\n</td>\n",
       "      <td>2,673,400\\n</td>\n",
       "      <td>2,915,918\\n</td>\n",
       "      <td>3,011,524\\n</td>\n",
       "    </tr>\n",
       "  </tbody>\n",
       "</table>\n",
       "</div>"
      ],
      "text/plain": [
       "               state         1960         1970         1980         1990  \\\n",
       "0          Alabama\\n  3,266,740\\n  3,444,165\\n  3,893,888\\n  4,040,587\\n   \n",
       "1           Alaska\\n    226,167\\n    300,382\\n    401,851\\n    550,043\\n   \n",
       "2   American Samoa\\n     20,051\\n     27,159\\n     32,297\\n     46,773\\n   \n",
       "3          Arizona\\n  1,302,161\\n  1,770,900\\n  2,718,215\\n  3,665,228\\n   \n",
       "4         Arkansas\\n  1,786,272\\n  1,923,295\\n  2,286,435\\n  2,350,725\\n   \n",
       "\n",
       "          2000         2010         2020  \n",
       "0  4,447,100\\n  4,779,736\\n  5,024,279\\n  \n",
       "1    626,932\\n    710,231\\n    733,391\\n  \n",
       "2     57,291\\n     55,519\\n     49,710\\n  \n",
       "3  5,130,632\\n  6,392,017\\n  7,151,502\\n  \n",
       "4  2,673,400\\n  2,915,918\\n  3,011,524\\n  "
      ]
     },
     "execution_count": 20,
     "metadata": {},
     "output_type": "execute_result"
    }
   ],
   "source": [
    "df_pop=pd.DataFrame(dic)\n",
    "df_pop.head()"
   ]
  },
  {
   "cell_type": "code",
   "execution_count": 38,
   "metadata": {},
   "outputs": [],
   "source": [
    "#df_pop.to_csv('../data/web_scraping/df_population_usa.csv', sep=',', index=True)"
   ]
  },
  {
   "cell_type": "markdown",
   "metadata": {},
   "source": [
    "# Historical ethnic popolation by state"
   ]
  },
  {
   "cell_type": "code",
   "execution_count": 21,
   "metadata": {},
   "outputs": [],
   "source": [
    "url_eth=\"https://en.wikipedia.org/wiki/Historical_racial_and_ethnic_demographics_of_the_United_States\"\n",
    "html_eth= requests.get(url_eth)"
   ]
  },
  {
   "cell_type": "code",
   "execution_count": 22,
   "metadata": {},
   "outputs": [
    {
     "data": {
      "text/plain": [
       "200"
      ]
     },
     "execution_count": 22,
     "metadata": {},
     "output_type": "execute_result"
    }
   ],
   "source": [
    "html_eth.status_code"
   ]
  },
  {
   "cell_type": "code",
   "execution_count": 23,
   "metadata": {},
   "outputs": [],
   "source": [
    "soup_eth = BeautifulSoup(html_eth.content, \"html.parser\")"
   ]
  },
  {
   "cell_type": "code",
   "execution_count": 24,
   "metadata": {},
   "outputs": [],
   "source": [
    "eth = soup_eth.find_all(\"table\")"
   ]
  },
  {
   "cell_type": "code",
   "execution_count": 25,
   "metadata": {},
   "outputs": [
    {
     "data": {
      "text/plain": [
       "43"
      ]
     },
     "execution_count": 25,
     "metadata": {},
     "output_type": "execute_result"
    }
   ],
   "source": [
    "len(eth)"
   ]
  },
  {
   "cell_type": "code",
   "execution_count": 26,
   "metadata": {},
   "outputs": [],
   "source": [
    "ethnic=eth[-13]"
   ]
  },
  {
   "cell_type": "code",
   "execution_count": 27,
   "metadata": {},
   "outputs": [
    {
     "data": {
      "text/plain": [
       "<tr>\n",
       "<th>State/Territory</th>\n",
       "<th>1890</th>\n",
       "<th>1900</th>\n",
       "<th>1910</th>\n",
       "<th>1920</th>\n",
       "<th>1930</th>\n",
       "<th>1940</th>\n",
       "<th>1950</th>\n",
       "<th>1960</th>\n",
       "<th>1970</th>\n",
       "<th>1980</th>\n",
       "<th>1990</th>\n",
       "<th>2000<sup class=\"reference\" id=\"cite_ref-38\"><a href=\"#cite_note-38\">[34]</a></sup></th>\n",
       "<th>2010<sup class=\"reference\" id=\"cite_ref-39\"><a href=\"#cite_note-39\">[35]</a></sup></th>\n",
       "<th>2020<sup class=\"reference\" id=\"cite_ref-autogenerated2_34-1\"><a href=\"#cite_note-autogenerated2-34\">[30]</a></sup>\n",
       "</th></tr>"
      ]
     },
     "execution_count": 27,
     "metadata": {},
     "output_type": "execute_result"
    }
   ],
   "source": [
    "#columnas \n",
    "ethnic.find_all(\"tr\")[0]"
   ]
  },
  {
   "cell_type": "code",
   "execution_count": 28,
   "metadata": {},
   "outputs": [
    {
     "data": {
      "text/plain": [
       "<td style=\"background:#9bddff;\">United States\n",
       "</td>"
      ]
     },
     "execution_count": 28,
     "metadata": {},
     "output_type": "execute_result"
    }
   ],
   "source": [
    "#filas \n",
    "ethnic.find_all(\"td\")[0]"
   ]
  },
  {
   "cell_type": "code",
   "execution_count": 33,
   "metadata": {},
   "outputs": [],
   "source": [
    "# Creamos un diccionario \n",
    "dic_eth = {\"state\": [], \n",
    "               \"1890\":[],\n",
    "               \"1900\":[],\n",
    "                \"1910\":[],\n",
    "                \"1920\":[],\n",
    "               \"1930\": [], \n",
    "               \"1940\":[], \n",
    "               \"1950\":[],\n",
    "               \"1960\": [], \n",
    "               \"1970\":[], \n",
    "               \"1980\": [],\n",
    "               \"1990\":[],\n",
    "               \"2000\":[],\n",
    "               \"2010\":[],\n",
    "               \"2020\":[]}"
   ]
  },
  {
   "cell_type": "code",
   "execution_count": 34,
   "metadata": {},
   "outputs": [],
   "source": [
    "for row in ethnic.find_all(\"tr\")[1:]:\n",
    "    columns = [element for element in row.find_all(\"td\")]\n",
    "    dic_eth[\"state\"].append(columns[0].getText())\n",
    "    dic_eth[\"1890\"].append(columns[1].getText())\n",
    "    dic_eth[\"1900\"].append(columns[1].getText())\n",
    "    dic_eth[\"1910\"].append(columns[1].getText())\n",
    "    dic_eth[\"1920\"].append(columns[1].getText())\n",
    "    dic_eth[\"1930\"].append(columns[1].getText())\n",
    "    dic_eth[\"1940\"].append(columns[1].getText())\n",
    "    dic_eth[\"1950\"].append(columns[1].getText())\n",
    "    dic_eth[\"1960\"].append(columns[1].getText())\n",
    "    dic_eth[\"1970\"].append(columns[2].getText())\n",
    "    dic_eth[\"1980\"].append(columns[3].getText())\n",
    "    dic_eth[\"1990\"].append(columns[4].getText())\n",
    "    dic_eth[\"2000\"].append(columns[5].getText())\n",
    "    dic_eth[\"2010\"].append(columns[6].getText())\n",
    "    dic_eth[\"2020\"].append(columns[7].getText())\n",
    "    "
   ]
  },
  {
   "cell_type": "code",
   "execution_count": 35,
   "metadata": {},
   "outputs": [
    {
     "data": {
      "text/plain": [
       "15"
      ]
     },
     "execution_count": 35,
     "metadata": {},
     "output_type": "execute_result"
    }
   ],
   "source": [
    "len(dic_eth)"
   ]
  },
  {
   "cell_type": "code",
   "execution_count": 36,
   "metadata": {},
   "outputs": [],
   "source": [
    "df_eth=pd.DataFrame(dic_eth)"
   ]
  },
  {
   "cell_type": "code",
   "execution_count": 37,
   "metadata": {},
   "outputs": [
    {
     "data": {
      "text/html": [
       "<div>\n",
       "<style scoped>\n",
       "    .dataframe tbody tr th:only-of-type {\n",
       "        vertical-align: middle;\n",
       "    }\n",
       "\n",
       "    .dataframe tbody tr th {\n",
       "        vertical-align: top;\n",
       "    }\n",
       "\n",
       "    .dataframe thead th {\n",
       "        text-align: right;\n",
       "    }\n",
       "</style>\n",
       "<table border=\"1\" class=\"dataframe\">\n",
       "  <thead>\n",
       "    <tr style=\"text-align: right;\">\n",
       "      <th></th>\n",
       "      <th>state</th>\n",
       "      <th>1890</th>\n",
       "      <th>1900</th>\n",
       "      <th>1910</th>\n",
       "      <th>1920</th>\n",
       "      <th>1930</th>\n",
       "      <th>1940</th>\n",
       "      <th>1950</th>\n",
       "      <th>1960</th>\n",
       "      <th>1970</th>\n",
       "      <th>1980</th>\n",
       "      <th>1990</th>\n",
       "      <th>2000</th>\n",
       "      <th>2010</th>\n",
       "      <th>2020</th>\n",
       "    </tr>\n",
       "  </thead>\n",
       "  <tbody>\n",
       "    <tr>\n",
       "      <th>0</th>\n",
       "      <td>United States\\n</td>\n",
       "      <td>0.4%\\n</td>\n",
       "      <td>0.4%\\n</td>\n",
       "      <td>0.4%\\n</td>\n",
       "      <td>0.4%\\n</td>\n",
       "      <td>0.4%\\n</td>\n",
       "      <td>0.4%\\n</td>\n",
       "      <td>0.4%\\n</td>\n",
       "      <td>0.4%\\n</td>\n",
       "      <td>0.3%\\n</td>\n",
       "      <td>0.3%\\n</td>\n",
       "      <td>0.2%\\n</td>\n",
       "      <td>0.3%\\n</td>\n",
       "      <td>0.3%\\n</td>\n",
       "      <td>0.2%\\n</td>\n",
       "    </tr>\n",
       "    <tr>\n",
       "      <th>1</th>\n",
       "      <td>Alabama\\n</td>\n",
       "      <td>0.1%\\n</td>\n",
       "      <td>0.1%\\n</td>\n",
       "      <td>0.1%\\n</td>\n",
       "      <td>0.1%\\n</td>\n",
       "      <td>0.1%\\n</td>\n",
       "      <td>0.1%\\n</td>\n",
       "      <td>0.1%\\n</td>\n",
       "      <td>0.1%\\n</td>\n",
       "      <td>0.0%\\n</td>\n",
       "      <td>0.0%\\n</td>\n",
       "      <td>0.0%\\n</td>\n",
       "      <td>0.0%\\n</td>\n",
       "      <td>0.0%\\n</td>\n",
       "      <td>0.0%\\n</td>\n",
       "    </tr>\n",
       "    <tr>\n",
       "      <th>2</th>\n",
       "      <td>Alaska\\n</td>\n",
       "      <td>\\n</td>\n",
       "      <td>\\n</td>\n",
       "      <td>\\n</td>\n",
       "      <td>\\n</td>\n",
       "      <td>\\n</td>\n",
       "      <td>\\n</td>\n",
       "      <td>\\n</td>\n",
       "      <td>\\n</td>\n",
       "      <td>\\n</td>\n",
       "      <td>\\n</td>\n",
       "      <td>\\n</td>\n",
       "      <td>\\n</td>\n",
       "      <td>\\n</td>\n",
       "      <td>\\n</td>\n",
       "    </tr>\n",
       "    <tr>\n",
       "      <th>3</th>\n",
       "      <td>Arizona\\n</td>\n",
       "      <td>34.0%\\n</td>\n",
       "      <td>34.0%\\n</td>\n",
       "      <td>34.0%\\n</td>\n",
       "      <td>34.0%\\n</td>\n",
       "      <td>34.0%\\n</td>\n",
       "      <td>34.0%\\n</td>\n",
       "      <td>34.0%\\n</td>\n",
       "      <td>34.0%\\n</td>\n",
       "      <td>21.5%\\n</td>\n",
       "      <td>14.3%\\n</td>\n",
       "      <td>9.9%\\n</td>\n",
       "      <td>10.0%\\n</td>\n",
       "      <td>11.0%\\n</td>\n",
       "      <td>8.8%\\n</td>\n",
       "    </tr>\n",
       "    <tr>\n",
       "      <th>4</th>\n",
       "      <td>Arkansas\\n</td>\n",
       "      <td>0.0%\\n</td>\n",
       "      <td>0.0%\\n</td>\n",
       "      <td>0.0%\\n</td>\n",
       "      <td>0.0%\\n</td>\n",
       "      <td>0.0%\\n</td>\n",
       "      <td>0.0%\\n</td>\n",
       "      <td>0.0%\\n</td>\n",
       "      <td>0.0%\\n</td>\n",
       "      <td>0.0%\\n</td>\n",
       "      <td>0.0%\\n</td>\n",
       "      <td>0.0%\\n</td>\n",
       "      <td>0.0%\\n</td>\n",
       "      <td>0.0%\\n</td>\n",
       "      <td>0.0%\\n</td>\n",
       "    </tr>\n",
       "  </tbody>\n",
       "</table>\n",
       "</div>"
      ],
      "text/plain": [
       "             state     1890     1900     1910     1920     1930     1940  \\\n",
       "0  United States\\n   0.4%\\n   0.4%\\n   0.4%\\n   0.4%\\n   0.4%\\n   0.4%\\n   \n",
       "1        Alabama\\n   0.1%\\n   0.1%\\n   0.1%\\n   0.1%\\n   0.1%\\n   0.1%\\n   \n",
       "2         Alaska\\n       \\n       \\n       \\n       \\n       \\n       \\n   \n",
       "3        Arizona\\n  34.0%\\n  34.0%\\n  34.0%\\n  34.0%\\n  34.0%\\n  34.0%\\n   \n",
       "4       Arkansas\\n   0.0%\\n   0.0%\\n   0.0%\\n   0.0%\\n   0.0%\\n   0.0%\\n   \n",
       "\n",
       "      1950     1960     1970     1980    1990     2000     2010    2020  \n",
       "0   0.4%\\n   0.4%\\n   0.3%\\n   0.3%\\n  0.2%\\n   0.3%\\n   0.3%\\n  0.2%\\n  \n",
       "1   0.1%\\n   0.1%\\n   0.0%\\n   0.0%\\n  0.0%\\n   0.0%\\n   0.0%\\n  0.0%\\n  \n",
       "2       \\n       \\n       \\n       \\n      \\n       \\n       \\n      \\n  \n",
       "3  34.0%\\n  34.0%\\n  21.5%\\n  14.3%\\n  9.9%\\n  10.0%\\n  11.0%\\n  8.8%\\n  \n",
       "4   0.0%\\n   0.0%\\n   0.0%\\n   0.0%\\n  0.0%\\n   0.0%\\n   0.0%\\n  0.0%\\n  "
      ]
     },
     "execution_count": 37,
     "metadata": {},
     "output_type": "execute_result"
    }
   ],
   "source": [
    "df_eth.head()"
   ]
  },
  {
   "cell_type": "code",
   "execution_count": 40,
   "metadata": {},
   "outputs": [],
   "source": [
    "#df_eth.to_csv('../data/web_scraping/df_ethpop_usa.csv', sep=',', index=True)"
   ]
  },
  {
   "cell_type": "markdown",
   "metadata": {},
   "source": [
    "## Vital statistics of racial and ethnic groups "
   ]
  },
  {
   "cell_type": "markdown",
   "metadata": {},
   "source": [
    "------------------"
   ]
  },
  {
   "cell_type": "markdown",
   "metadata": {},
   "source": [
    "https://www.cdc.gov/nchs/pressroom/sosmap/fertility_rate/fertility_rates.htm"
   ]
  }
 ],
 "metadata": {
  "kernelspec": {
   "display_name": "iron",
   "language": "python",
   "name": "iron"
  },
  "language_info": {
   "codemirror_mode": {
    "name": "ipython",
    "version": 3
   },
   "file_extension": ".py",
   "mimetype": "text/x-python",
   "name": "python",
   "nbconvert_exporter": "python",
   "pygments_lexer": "ipython3",
   "version": "3.9.13"
  }
 },
 "nbformat": 4,
 "nbformat_minor": 4
}
