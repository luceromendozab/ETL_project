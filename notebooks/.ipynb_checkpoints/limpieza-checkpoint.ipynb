{
 "cells": [
  {
   "cell_type": "code",
   "execution_count": 2,
   "metadata": {},
   "outputs": [],
   "source": [
    "import pandas as pd\n",
    "import numpy as np\n",
    "import re\n",
    "import sys \n",
    "sys.path.append(\"../\")\n",
    "import src.df_functions as sp "
   ]
  },
  {
   "cell_type": "markdown",
   "metadata": {},
   "source": [
    "\n",
    "<center> <h1>CSV Clean </h1></center>"
   ]
  },
  {
   "cell_type": "markdown",
   "metadata": {},
   "source": [
    "## - ENDANGERMENT LANGUAGES"
   ]
  },
  {
   "cell_type": "code",
   "execution_count": 3,
   "metadata": {},
   "outputs": [
    {
     "data": {
      "text/html": [
       "<div>\n",
       "<style scoped>\n",
       "    .dataframe tbody tr th:only-of-type {\n",
       "        vertical-align: middle;\n",
       "    }\n",
       "\n",
       "    .dataframe tbody tr th {\n",
       "        vertical-align: top;\n",
       "    }\n",
       "\n",
       "    .dataframe thead th {\n",
       "        text-align: right;\n",
       "    }\n",
       "</style>\n",
       "<table border=\"1\" class=\"dataframe\">\n",
       "  <thead>\n",
       "    <tr style=\"text-align: right;\">\n",
       "      <th></th>\n",
       "      <th>ID</th>\n",
       "      <th>Name in English</th>\n",
       "      <th>Name in French</th>\n",
       "      <th>Name in Spanish</th>\n",
       "      <th>Countries</th>\n",
       "      <th>Country codes alpha 3</th>\n",
       "      <th>ISO639-3 codes</th>\n",
       "      <th>Degree of endangerment</th>\n",
       "      <th>Alternate names</th>\n",
       "      <th>Name in the language</th>\n",
       "      <th>Number of speakers</th>\n",
       "      <th>Sources</th>\n",
       "      <th>Latitude</th>\n",
       "      <th>Longitude</th>\n",
       "      <th>Description of the location</th>\n",
       "    </tr>\n",
       "  </thead>\n",
       "  <tbody>\n",
       "    <tr>\n",
       "      <th>0</th>\n",
       "      <td>1022</td>\n",
       "      <td>South Italian</td>\n",
       "      <td>italien du sud</td>\n",
       "      <td>napolitano-calabrés</td>\n",
       "      <td>Italy</td>\n",
       "      <td>ITA</td>\n",
       "      <td>nap</td>\n",
       "      <td>Vulnerable</td>\n",
       "      <td>Neapolitan; Neapolitan-Calabrese; неаполитанск...</td>\n",
       "      <td>NaN</td>\n",
       "      <td>7500000.0</td>\n",
       "      <td>NaN</td>\n",
       "      <td>40.9798</td>\n",
       "      <td>15.2490</td>\n",
       "      <td>Campania, Lucania (Basilicata), Abruzzi (Abruz...</td>\n",
       "    </tr>\n",
       "    <tr>\n",
       "      <th>1</th>\n",
       "      <td>1023</td>\n",
       "      <td>Sicilian</td>\n",
       "      <td>sicilien</td>\n",
       "      <td>siciliano</td>\n",
       "      <td>Italy</td>\n",
       "      <td>ITA</td>\n",
       "      <td>scn</td>\n",
       "      <td>Vulnerable</td>\n",
       "      <td>NaN</td>\n",
       "      <td>NaN</td>\n",
       "      <td>5000000.0</td>\n",
       "      <td>NaN</td>\n",
       "      <td>37.4399</td>\n",
       "      <td>14.5019</td>\n",
       "      <td>Sicily (Sicilia), southern and central Calabri...</td>\n",
       "    </tr>\n",
       "  </tbody>\n",
       "</table>\n",
       "</div>"
      ],
      "text/plain": [
       "     ID Name in English  Name in French      Name in Spanish Countries  \\\n",
       "0  1022   South Italian  italien du sud  napolitano-calabrés     Italy   \n",
       "1  1023        Sicilian        sicilien            siciliano     Italy   \n",
       "\n",
       "  Country codes alpha 3 ISO639-3 codes Degree of endangerment  \\\n",
       "0                   ITA            nap             Vulnerable   \n",
       "1                   ITA            scn             Vulnerable   \n",
       "\n",
       "                                     Alternate names Name in the language  \\\n",
       "0  Neapolitan; Neapolitan-Calabrese; неаполитанск...                  NaN   \n",
       "1                                                NaN                  NaN   \n",
       "\n",
       "   Number of speakers Sources  Latitude  Longitude  \\\n",
       "0           7500000.0     NaN   40.9798    15.2490   \n",
       "1           5000000.0     NaN   37.4399    14.5019   \n",
       "\n",
       "                         Description of the location  \n",
       "0  Campania, Lucania (Basilicata), Abruzzi (Abruz...  \n",
       "1  Sicily (Sicilia), southern and central Calabri...  "
      ]
     },
     "execution_count": 3,
     "metadata": {},
     "output_type": "execute_result"
    }
   ],
   "source": [
    "# cargamos el csv \n",
    "df= pd.read_csv(\"../data/Kaggle/data.csv\")\n",
    "df.head(2)"
   ]
  },
  {
   "cell_type": "code",
   "execution_count": 6,
   "metadata": {},
   "outputs": [],
   "source": [
    "# drop columns  \n",
    "df=df.drop(labels=['ID','Name in French', 'Name in Spanish','Country codes alpha 3','ISO639-3 codes','Alternate names','Name in the language','Sources','Description of the location'], axis=1)"
   ]
  },
  {
   "cell_type": "code",
   "execution_count": 7,
   "metadata": {},
   "outputs": [
    {
     "data": {
      "text/html": [
       "<div>\n",
       "<style scoped>\n",
       "    .dataframe tbody tr th:only-of-type {\n",
       "        vertical-align: middle;\n",
       "    }\n",
       "\n",
       "    .dataframe tbody tr th {\n",
       "        vertical-align: top;\n",
       "    }\n",
       "\n",
       "    .dataframe thead th {\n",
       "        text-align: right;\n",
       "    }\n",
       "</style>\n",
       "<table border=\"1\" class=\"dataframe\">\n",
       "  <thead>\n",
       "    <tr style=\"text-align: right;\">\n",
       "      <th></th>\n",
       "      <th>Name in English</th>\n",
       "      <th>Countries</th>\n",
       "      <th>Degree of endangerment</th>\n",
       "      <th>Number of speakers</th>\n",
       "      <th>Latitude</th>\n",
       "      <th>Longitude</th>\n",
       "    </tr>\n",
       "  </thead>\n",
       "  <tbody>\n",
       "    <tr>\n",
       "      <th>0</th>\n",
       "      <td>South Italian</td>\n",
       "      <td>Italy</td>\n",
       "      <td>Vulnerable</td>\n",
       "      <td>7500000.0</td>\n",
       "      <td>40.9798</td>\n",
       "      <td>15.2490</td>\n",
       "    </tr>\n",
       "    <tr>\n",
       "      <th>1</th>\n",
       "      <td>Sicilian</td>\n",
       "      <td>Italy</td>\n",
       "      <td>Vulnerable</td>\n",
       "      <td>5000000.0</td>\n",
       "      <td>37.4399</td>\n",
       "      <td>14.5019</td>\n",
       "    </tr>\n",
       "  </tbody>\n",
       "</table>\n",
       "</div>"
      ],
      "text/plain": [
       "  Name in English Countries Degree of endangerment  Number of speakers  \\\n",
       "0   South Italian     Italy             Vulnerable           7500000.0   \n",
       "1        Sicilian     Italy             Vulnerable           5000000.0   \n",
       "\n",
       "   Latitude  Longitude  \n",
       "0   40.9798    15.2490  \n",
       "1   37.4399    14.5019  "
      ]
     },
     "execution_count": 7,
     "metadata": {},
     "output_type": "execute_result"
    }
   ],
   "source": [
    "df.head(2)"
   ]
  },
  {
   "cell_type": "code",
   "execution_count": 9,
   "metadata": {},
   "outputs": [
    {
     "data": {
      "text/html": [
       "<div>\n",
       "<style scoped>\n",
       "    .dataframe tbody tr th:only-of-type {\n",
       "        vertical-align: middle;\n",
       "    }\n",
       "\n",
       "    .dataframe tbody tr th {\n",
       "        vertical-align: top;\n",
       "    }\n",
       "\n",
       "    .dataframe thead th {\n",
       "        text-align: right;\n",
       "    }\n",
       "</style>\n",
       "<table border=\"1\" class=\"dataframe\">\n",
       "  <thead>\n",
       "    <tr style=\"text-align: right;\">\n",
       "      <th></th>\n",
       "      <th>name in english</th>\n",
       "      <th>countries</th>\n",
       "      <th>degree of endangerment</th>\n",
       "      <th>number of speakers</th>\n",
       "      <th>latitude</th>\n",
       "      <th>longitude</th>\n",
       "    </tr>\n",
       "  </thead>\n",
       "  <tbody>\n",
       "    <tr>\n",
       "      <th>0</th>\n",
       "      <td>South Italian</td>\n",
       "      <td>Italy</td>\n",
       "      <td>Vulnerable</td>\n",
       "      <td>7500000.0</td>\n",
       "      <td>40.9798</td>\n",
       "      <td>15.249</td>\n",
       "    </tr>\n",
       "  </tbody>\n",
       "</table>\n",
       "</div>"
      ],
      "text/plain": [
       "  name in english countries degree of endangerment  number of speakers  \\\n",
       "0   South Italian     Italy             Vulnerable           7500000.0   \n",
       "\n",
       "   latitude  longitude  \n",
       "0   40.9798     15.249  "
      ]
     },
     "execution_count": 9,
     "metadata": {},
     "output_type": "execute_result"
    }
   ],
   "source": [
    "df.columns = df.columns.str.lower()\n",
    "df.head(1)"
   ]
  },
  {
   "cell_type": "code",
   "execution_count": 10,
   "metadata": {},
   "outputs": [
    {
     "data": {
      "text/html": [
       "<div>\n",
       "<style scoped>\n",
       "    .dataframe tbody tr th:only-of-type {\n",
       "        vertical-align: middle;\n",
       "    }\n",
       "\n",
       "    .dataframe tbody tr th {\n",
       "        vertical-align: top;\n",
       "    }\n",
       "\n",
       "    .dataframe thead th {\n",
       "        text-align: right;\n",
       "    }\n",
       "</style>\n",
       "<table border=\"1\" class=\"dataframe\">\n",
       "  <thead>\n",
       "    <tr style=\"text-align: right;\">\n",
       "      <th></th>\n",
       "      <th>language</th>\n",
       "      <th>countries</th>\n",
       "      <th>endangerment</th>\n",
       "      <th>speakers</th>\n",
       "      <th>latitude</th>\n",
       "      <th>longitude</th>\n",
       "    </tr>\n",
       "  </thead>\n",
       "  <tbody>\n",
       "    <tr>\n",
       "      <th>0</th>\n",
       "      <td>South Italian</td>\n",
       "      <td>Italy</td>\n",
       "      <td>Vulnerable</td>\n",
       "      <td>7500000.0</td>\n",
       "      <td>40.9798</td>\n",
       "      <td>15.249</td>\n",
       "    </tr>\n",
       "  </tbody>\n",
       "</table>\n",
       "</div>"
      ],
      "text/plain": [
       "        language countries endangerment   speakers  latitude  longitude\n",
       "0  South Italian     Italy   Vulnerable  7500000.0   40.9798     15.249"
      ]
     },
     "execution_count": 10,
     "metadata": {},
     "output_type": "execute_result"
    }
   ],
   "source": [
    "df= df.rename(columns={'name in english':'language',\n",
    "                                   'ountries':'countries',\n",
    "                               'degree of endangerment':'endangerment',\n",
    "                               'number of speakers': 'speakers'})\n",
    "df.head(1)"
   ]
  },
  {
   "cell_type": "code",
   "execution_count": 11,
   "metadata": {},
   "outputs": [
    {
     "name": "stdout",
     "output_type": "stream",
     "text": [
      "<class 'pandas.core.frame.DataFrame'>\n",
      "RangeIndex: 2722 entries, 0 to 2721\n",
      "Data columns (total 6 columns):\n",
      " #   Column        Non-Null Count  Dtype  \n",
      "---  ------        --------------  -----  \n",
      " 0   language      2722 non-null   object \n",
      " 1   countries     2721 non-null   object \n",
      " 2   endangerment  2722 non-null   object \n",
      " 3   speakers      2539 non-null   float64\n",
      " 4   latitude      2719 non-null   float64\n",
      " 5   longitude     2719 non-null   float64\n",
      "dtypes: float64(3), object(3)\n",
      "memory usage: 127.7+ KB\n"
     ]
    }
   ],
   "source": [
    "sp.exploration_df(df)"
   ]
  },
  {
   "cell_type": "code",
   "execution_count": 13,
   "metadata": {},
   "outputs": [
    {
     "data": {
      "text/plain": [
       "0"
      ]
     },
     "execution_count": 13,
     "metadata": {},
     "output_type": "execute_result"
    }
   ],
   "source": [
    "df.duplicated().sum()"
   ]
  },
  {
   "cell_type": "code",
   "execution_count": 16,
   "metadata": {},
   "outputs": [
    {
     "data": {
      "text/plain": [
       "language          0\n",
       "countries         1\n",
       "endangerment      0\n",
       "speakers        183\n",
       "latitude          3\n",
       "longitude         3\n",
       "dtype: int64"
      ]
     },
     "execution_count": 16,
     "metadata": {},
     "output_type": "execute_result"
    }
   ],
   "source": [
    "#visualizamos los nulos\n",
    "df.isnull().sum()"
   ]
  },
  {
   "cell_type": "code",
   "execution_count": null,
   "metadata": {},
   "outputs": [],
   "source": [
    "df_new['endangerment'].value_counts()"
   ]
  },
  {
   "cell_type": "code",
   "execution_count": 17,
   "metadata": {},
   "outputs": [
    {
     "data": {
      "text/html": [
       "<div>\n",
       "<style scoped>\n",
       "    .dataframe tbody tr th:only-of-type {\n",
       "        vertical-align: middle;\n",
       "    }\n",
       "\n",
       "    .dataframe tbody tr th {\n",
       "        vertical-align: top;\n",
       "    }\n",
       "\n",
       "    .dataframe thead th {\n",
       "        text-align: right;\n",
       "    }\n",
       "</style>\n",
       "<table border=\"1\" class=\"dataframe\">\n",
       "  <thead>\n",
       "    <tr style=\"text-align: right;\">\n",
       "      <th></th>\n",
       "      <th>language</th>\n",
       "      <th>countries</th>\n",
       "      <th>endangerment</th>\n",
       "      <th>speakers</th>\n",
       "      <th>latitude</th>\n",
       "      <th>longitude</th>\n",
       "    </tr>\n",
       "  </thead>\n",
       "  <tbody>\n",
       "    <tr>\n",
       "      <th>2539</th>\n",
       "      <td>A'tong</td>\n",
       "      <td>India</td>\n",
       "      <td>Severely endangered</td>\n",
       "      <td>NaN</td>\n",
       "      <td>25.2844</td>\n",
       "      <td>91.1755</td>\n",
       "    </tr>\n",
       "    <tr>\n",
       "      <th>2540</th>\n",
       "      <td>Aché</td>\n",
       "      <td>Paraguay</td>\n",
       "      <td>Definitely endangered</td>\n",
       "      <td>NaN</td>\n",
       "      <td>-25.6613</td>\n",
       "      <td>-55.6787</td>\n",
       "    </tr>\n",
       "    <tr>\n",
       "      <th>2541</th>\n",
       "      <td>Akie</td>\n",
       "      <td>United Republic of Tanzania</td>\n",
       "      <td>Critically endangered</td>\n",
       "      <td>NaN</td>\n",
       "      <td>-4.7735</td>\n",
       "      <td>37.3315</td>\n",
       "    </tr>\n",
       "    <tr>\n",
       "      <th>2542</th>\n",
       "      <td>Akuriyo</td>\n",
       "      <td>Suriname</td>\n",
       "      <td>Critically endangered</td>\n",
       "      <td>NaN</td>\n",
       "      <td>2.8442</td>\n",
       "      <td>-55.7556</td>\n",
       "    </tr>\n",
       "    <tr>\n",
       "      <th>2543</th>\n",
       "      <td>Alemannic</td>\n",
       "      <td>Germany, Austria, France, Italy, Liechtenstein...</td>\n",
       "      <td>Vulnerable</td>\n",
       "      <td>NaN</td>\n",
       "      <td>47.2792</td>\n",
       "      <td>7.6904</td>\n",
       "    </tr>\n",
       "    <tr>\n",
       "      <th>...</th>\n",
       "      <td>...</td>\n",
       "      <td>...</td>\n",
       "      <td>...</td>\n",
       "      <td>...</td>\n",
       "      <td>...</td>\n",
       "      <td>...</td>\n",
       "    </tr>\n",
       "    <tr>\n",
       "      <th>2717</th>\n",
       "      <td>Yonaguni</td>\n",
       "      <td>Japan</td>\n",
       "      <td>Severely endangered</td>\n",
       "      <td>NaN</td>\n",
       "      <td>24.4580</td>\n",
       "      <td>122.9802</td>\n",
       "    </tr>\n",
       "    <tr>\n",
       "      <th>2718</th>\n",
       "      <td>Yucuna</td>\n",
       "      <td>Colombia</td>\n",
       "      <td>Definitely endangered</td>\n",
       "      <td>NaN</td>\n",
       "      <td>-1.2633</td>\n",
       "      <td>-70.6640</td>\n",
       "    </tr>\n",
       "    <tr>\n",
       "      <th>2719</th>\n",
       "      <td>Yurutí (Colombia)</td>\n",
       "      <td>Colombia</td>\n",
       "      <td>Definitely endangered</td>\n",
       "      <td>NaN</td>\n",
       "      <td>1.1370</td>\n",
       "      <td>-70.2136</td>\n",
       "    </tr>\n",
       "    <tr>\n",
       "      <th>2720</th>\n",
       "      <td>Zangskari</td>\n",
       "      <td>India, Pakistan</td>\n",
       "      <td>Definitely endangered</td>\n",
       "      <td>NaN</td>\n",
       "      <td>34.0833</td>\n",
       "      <td>76.8500</td>\n",
       "    </tr>\n",
       "    <tr>\n",
       "      <th>2721</th>\n",
       "      <td>Zidgali</td>\n",
       "      <td>Oman</td>\n",
       "      <td>Critically endangered</td>\n",
       "      <td>NaN</td>\n",
       "      <td>23.4027</td>\n",
       "      <td>58.0957</td>\n",
       "    </tr>\n",
       "  </tbody>\n",
       "</table>\n",
       "<p>183 rows × 6 columns</p>\n",
       "</div>"
      ],
      "text/plain": [
       "               language                                          countries  \\\n",
       "2539             A'tong                                              India   \n",
       "2540               Aché                                           Paraguay   \n",
       "2541               Akie                        United Republic of Tanzania   \n",
       "2542            Akuriyo                                           Suriname   \n",
       "2543          Alemannic  Germany, Austria, France, Italy, Liechtenstein...   \n",
       "...                 ...                                                ...   \n",
       "2717           Yonaguni                                              Japan   \n",
       "2718             Yucuna                                           Colombia   \n",
       "2719  Yurutí (Colombia)                                           Colombia   \n",
       "2720          Zangskari                                    India, Pakistan   \n",
       "2721            Zidgali                                               Oman   \n",
       "\n",
       "               endangerment  speakers  latitude  longitude  \n",
       "2539    Severely endangered       NaN   25.2844    91.1755  \n",
       "2540  Definitely endangered       NaN  -25.6613   -55.6787  \n",
       "2541  Critically endangered       NaN   -4.7735    37.3315  \n",
       "2542  Critically endangered       NaN    2.8442   -55.7556  \n",
       "2543             Vulnerable       NaN   47.2792     7.6904  \n",
       "...                     ...       ...       ...        ...  \n",
       "2717    Severely endangered       NaN   24.4580   122.9802  \n",
       "2718  Definitely endangered       NaN   -1.2633   -70.6640  \n",
       "2719  Definitely endangered       NaN    1.1370   -70.2136  \n",
       "2720  Definitely endangered       NaN   34.0833    76.8500  \n",
       "2721  Critically endangered       NaN   23.4027    58.0957  \n",
       "\n",
       "[183 rows x 6 columns]"
      ]
     },
     "execution_count": 17,
     "metadata": {},
     "output_type": "execute_result"
    }
   ],
   "source": [
    "df[df['speakers'].isnull()]"
   ]
  },
  {
   "cell_type": "code",
   "execution_count": 20,
   "metadata": {},
   "outputs": [],
   "source": [
    "df['speakers'] = df['speakers'].fillna(0)"
   ]
  },
  {
   "cell_type": "code",
   "execution_count": 21,
   "metadata": {},
   "outputs": [
    {
     "data": {
      "text/html": [
       "<div>\n",
       "<style scoped>\n",
       "    .dataframe tbody tr th:only-of-type {\n",
       "        vertical-align: middle;\n",
       "    }\n",
       "\n",
       "    .dataframe tbody tr th {\n",
       "        vertical-align: top;\n",
       "    }\n",
       "\n",
       "    .dataframe thead th {\n",
       "        text-align: right;\n",
       "    }\n",
       "</style>\n",
       "<table border=\"1\" class=\"dataframe\">\n",
       "  <thead>\n",
       "    <tr style=\"text-align: right;\">\n",
       "      <th></th>\n",
       "      <th>language</th>\n",
       "      <th>countries</th>\n",
       "      <th>endangerment</th>\n",
       "      <th>speakers</th>\n",
       "      <th>latitude</th>\n",
       "      <th>longitude</th>\n",
       "    </tr>\n",
       "  </thead>\n",
       "  <tbody>\n",
       "    <tr>\n",
       "      <th>405</th>\n",
       "      <td>Boro</td>\n",
       "      <td>NaN</td>\n",
       "      <td>Definitely endangered</td>\n",
       "      <td>19878.0</td>\n",
       "      <td>10.3581</td>\n",
       "      <td>35.0024</td>\n",
       "    </tr>\n",
       "  </tbody>\n",
       "</table>\n",
       "</div>"
      ],
      "text/plain": [
       "    language countries           endangerment  speakers  latitude  longitude\n",
       "405     Boro       NaN  Definitely endangered   19878.0   10.3581    35.0024"
      ]
     },
     "execution_count": 21,
     "metadata": {},
     "output_type": "execute_result"
    }
   ],
   "source": [
    "df[df['countries'].isnull()]"
   ]
  },
  {
   "cell_type": "code",
   "execution_count": 22,
   "metadata": {},
   "outputs": [],
   "source": [
    "df= df.dropna()"
   ]
  },
  {
   "cell_type": "code",
   "execution_count": 23,
   "metadata": {},
   "outputs": [
    {
     "data": {
      "text/plain": [
       "language        0\n",
       "countries       0\n",
       "endangerment    0\n",
       "speakers        0\n",
       "latitude        0\n",
       "longitude       0\n",
       "dtype: int64"
      ]
     },
     "execution_count": 23,
     "metadata": {},
     "output_type": "execute_result"
    }
   ],
   "source": [
    "df.isnull().sum()"
   ]
  },
  {
   "cell_type": "code",
   "execution_count": 25,
   "metadata": {},
   "outputs": [
    {
     "name": "stdout",
     "output_type": "stream",
     "text": [
      "<class 'pandas.core.frame.DataFrame'>\n",
      "Int64Index: 2718 entries, 0 to 2721\n",
      "Data columns (total 6 columns):\n",
      " #   Column        Non-Null Count  Dtype  \n",
      "---  ------        --------------  -----  \n",
      " 0   language      2718 non-null   object \n",
      " 1   countries     2718 non-null   object \n",
      " 2   endangerment  2718 non-null   object \n",
      " 3   speakers      2718 non-null   float64\n",
      " 4   latitude      2718 non-null   float64\n",
      " 5   longitude     2718 non-null   float64\n",
      "dtypes: float64(3), object(3)\n",
      "memory usage: 148.6+ KB\n"
     ]
    }
   ],
   "source": [
    "sp.exploration_df(df)"
   ]
  },
  {
   "cell_type": "code",
   "execution_count": 26,
   "metadata": {},
   "outputs": [],
   "source": [
    "df['speakers'] = df['speakers'].astype('int64')"
   ]
  },
  {
   "cell_type": "code",
   "execution_count": 27,
   "metadata": {},
   "outputs": [
    {
     "name": "stdout",
     "output_type": "stream",
     "text": [
      "<class 'pandas.core.frame.DataFrame'>\n",
      "Int64Index: 2718 entries, 0 to 2721\n",
      "Data columns (total 6 columns):\n",
      " #   Column        Non-Null Count  Dtype  \n",
      "---  ------        --------------  -----  \n",
      " 0   language      2718 non-null   object \n",
      " 1   countries     2718 non-null   object \n",
      " 2   endangerment  2718 non-null   object \n",
      " 3   speakers      2718 non-null   int64  \n",
      " 4   latitude      2718 non-null   float64\n",
      " 5   longitude     2718 non-null   float64\n",
      "dtypes: float64(2), int64(1), object(3)\n",
      "memory usage: 148.6+ KB\n"
     ]
    }
   ],
   "source": [
    "sp.exploration_df(df)"
   ]
  },
  {
   "cell_type": "code",
   "execution_count": 29,
   "metadata": {},
   "outputs": [],
   "source": [
    "#df.to_csv('../clean_data/df_languages.csv', sep=',', index=True)"
   ]
  },
  {
   "cell_type": "code",
   "execution_count": 32,
   "metadata": {},
   "outputs": [
    {
     "data": {
      "text/plain": [
       "array(['Vulnerable', 'Definitely endangered', 'Severely endangered',\n",
       "       'Critically endangered', 'Extinct'], dtype=object)"
      ]
     },
     "execution_count": 32,
     "metadata": {},
     "output_type": "execute_result"
    }
   ],
   "source": [
    "df['endangerment'].unique()"
   ]
  },
  {
   "cell_type": "code",
   "execution_count": 33,
   "metadata": {},
   "outputs": [
    {
     "data": {
      "text/plain": [
       "Definitely endangered    679\n",
       "Vulnerable               627\n",
       "Critically endangered    606\n",
       "Severely endangered      554\n",
       "Extinct                  252\n",
       "Name: endangerment, dtype: int64"
      ]
     },
     "execution_count": 33,
     "metadata": {},
     "output_type": "execute_result"
    }
   ],
   "source": [
    "df['endangerment'].value_counts()"
   ]
  },
  {
   "cell_type": "code",
   "execution_count": 35,
   "metadata": {},
   "outputs": [],
   "source": [
    "# Paises en los cuales hay mayor presencia de lenguas en peligro \n",
    "counts= df[\"countries\"].value_counts()"
   ]
  },
  {
   "cell_type": "code",
   "execution_count": 36,
   "metadata": {},
   "outputs": [
    {
     "data": {
      "text/plain": [
       "United States of America    216\n",
       "Brazil                      186\n",
       "India                       163\n",
       "Indonesia                   149\n",
       "Mexico                      143\n",
       "China                       122\n",
       "Russian Federation          119\n",
       "Australia                   108\n",
       "Papua New Guinea             98\n",
       "Canada                       82\n",
       "Name: countries, dtype: int64"
      ]
     },
     "execution_count": 36,
     "metadata": {},
     "output_type": "execute_result"
    }
   ],
   "source": [
    "counts_sort = counts.sort_values(ascending=False)\n",
    "\n",
    "counts_sort.head(10)"
   ]
  },
  {
   "cell_type": "code",
   "execution_count": null,
   "metadata": {},
   "outputs": [],
   "source": [
    "df_peru= df_new[df_new['countries'].str.contains('Peru')]"
   ]
  },
  {
   "cell_type": "code",
   "execution_count": null,
   "metadata": {},
   "outputs": [],
   "source": [
    "fig = px.pie(df_peru, values='speakers', names='endangerment', title='endangerment_peru')\n",
    "fig.show()"
   ]
  },
  {
   "cell_type": "code",
   "execution_count": null,
   "metadata": {},
   "outputs": [],
   "source": [
    "df_new[\"language\"]"
   ]
  },
  {
   "cell_type": "markdown",
   "metadata": {},
   "source": [
    "## - USA ENDANGERMENT LANGUAGES"
   ]
  },
  {
   "cell_type": "code",
   "execution_count": 39,
   "metadata": {},
   "outputs": [
    {
     "data": {
      "text/plain": [
       "227"
      ]
     },
     "execution_count": 39,
     "metadata": {},
     "output_type": "execute_result"
    }
   ],
   "source": [
    "df[\"countries\"].str.contains('United States of America').sum()"
   ]
  },
  {
   "cell_type": "code",
   "execution_count": 40,
   "metadata": {},
   "outputs": [
    {
     "data": {
      "text/html": [
       "<div>\n",
       "<style scoped>\n",
       "    .dataframe tbody tr th:only-of-type {\n",
       "        vertical-align: middle;\n",
       "    }\n",
       "\n",
       "    .dataframe tbody tr th {\n",
       "        vertical-align: top;\n",
       "    }\n",
       "\n",
       "    .dataframe thead th {\n",
       "        text-align: right;\n",
       "    }\n",
       "</style>\n",
       "<table border=\"1\" class=\"dataframe\">\n",
       "  <thead>\n",
       "    <tr style=\"text-align: right;\">\n",
       "      <th></th>\n",
       "      <th>language</th>\n",
       "      <th>countries</th>\n",
       "      <th>endangerment</th>\n",
       "      <th>speakers</th>\n",
       "      <th>latitude</th>\n",
       "      <th>longitude</th>\n",
       "    </tr>\n",
       "  </thead>\n",
       "  <tbody>\n",
       "    <tr>\n",
       "      <th>156</th>\n",
       "      <td>Navajo</td>\n",
       "      <td>United States of America</td>\n",
       "      <td>Vulnerable</td>\n",
       "      <td>120000</td>\n",
       "      <td>35.8044</td>\n",
       "      <td>-108.4750</td>\n",
       "    </tr>\n",
       "    <tr>\n",
       "      <th>359</th>\n",
       "      <td>Sioux</td>\n",
       "      <td>United States of America</td>\n",
       "      <td>Vulnerable</td>\n",
       "      <td>25000</td>\n",
       "      <td>43.0588</td>\n",
       "      <td>-102.5244</td>\n",
       "    </tr>\n",
       "    <tr>\n",
       "      <th>443</th>\n",
       "      <td>O'odham (Akimel)</td>\n",
       "      <td>United States of America</td>\n",
       "      <td>Definitely endangered</td>\n",
       "      <td>15000</td>\n",
       "      <td>33.0590</td>\n",
       "      <td>-112.0479</td>\n",
       "    </tr>\n",
       "  </tbody>\n",
       "</table>\n",
       "</div>"
      ],
      "text/plain": [
       "             language                 countries           endangerment  \\\n",
       "156            Navajo  United States of America             Vulnerable   \n",
       "359             Sioux  United States of America             Vulnerable   \n",
       "443  O'odham (Akimel)  United States of America  Definitely endangered   \n",
       "\n",
       "     speakers  latitude  longitude  \n",
       "156    120000   35.8044  -108.4750  \n",
       "359     25000   43.0588  -102.5244  \n",
       "443     15000   33.0590  -112.0479  "
      ]
     },
     "execution_count": 40,
     "metadata": {},
     "output_type": "execute_result"
    }
   ],
   "source": [
    "df_usa=df[df['countries'].str.contains('United States of America')]\n",
    "df_usa.head(3)"
   ]
  },
  {
   "cell_type": "code",
   "execution_count": 42,
   "metadata": {},
   "outputs": [
    {
     "data": {
      "text/plain": [
       "array(['United States of America', 'Canada, United States of America'],\n",
       "      dtype=object)"
      ]
     },
     "execution_count": 42,
     "metadata": {},
     "output_type": "execute_result"
    }
   ],
   "source": [
    "df_usa[\"countries\"].unique()"
   ]
  },
  {
   "cell_type": "code",
   "execution_count": 43,
   "metadata": {},
   "outputs": [
    {
     "data": {
      "text/plain": [
       "(216, 6)"
      ]
     },
     "execution_count": 43,
     "metadata": {},
     "output_type": "execute_result"
    }
   ],
   "source": [
    "#borramos las filas que contengan Canada \n",
    "remove= df_usa['countries'].str.contains(\"Canada, United States of America\")\n",
    "df_usa= df_usa[~remove]\n",
    "df_usa.shape"
   ]
  },
  {
   "cell_type": "code",
   "execution_count": 44,
   "metadata": {},
   "outputs": [],
   "source": [
    "df_usa=df_usa.drop(labels=['countries'], axis=1)"
   ]
  },
  {
   "cell_type": "code",
   "execution_count": 45,
   "metadata": {},
   "outputs": [
    {
     "data": {
      "text/html": [
       "<div>\n",
       "<style scoped>\n",
       "    .dataframe tbody tr th:only-of-type {\n",
       "        vertical-align: middle;\n",
       "    }\n",
       "\n",
       "    .dataframe tbody tr th {\n",
       "        vertical-align: top;\n",
       "    }\n",
       "\n",
       "    .dataframe thead th {\n",
       "        text-align: right;\n",
       "    }\n",
       "</style>\n",
       "<table border=\"1\" class=\"dataframe\">\n",
       "  <thead>\n",
       "    <tr style=\"text-align: right;\">\n",
       "      <th></th>\n",
       "      <th>language</th>\n",
       "      <th>endangerment</th>\n",
       "      <th>speakers</th>\n",
       "      <th>latitude</th>\n",
       "      <th>longitude</th>\n",
       "    </tr>\n",
       "  </thead>\n",
       "  <tbody>\n",
       "    <tr>\n",
       "      <th>156</th>\n",
       "      <td>Navajo</td>\n",
       "      <td>Vulnerable</td>\n",
       "      <td>120000</td>\n",
       "      <td>35.8044</td>\n",
       "      <td>-108.4750</td>\n",
       "    </tr>\n",
       "    <tr>\n",
       "      <th>359</th>\n",
       "      <td>Sioux</td>\n",
       "      <td>Vulnerable</td>\n",
       "      <td>25000</td>\n",
       "      <td>43.0588</td>\n",
       "      <td>-102.5244</td>\n",
       "    </tr>\n",
       "  </tbody>\n",
       "</table>\n",
       "</div>"
      ],
      "text/plain": [
       "    language endangerment  speakers  latitude  longitude\n",
       "156   Navajo   Vulnerable    120000   35.8044  -108.4750\n",
       "359    Sioux   Vulnerable     25000   43.0588  -102.5244"
      ]
     },
     "execution_count": 45,
     "metadata": {},
     "output_type": "execute_result"
    }
   ],
   "source": [
    "df_usa.head(2)"
   ]
  },
  {
   "cell_type": "code",
   "execution_count": 46,
   "metadata": {},
   "outputs": [
    {
     "name": "stdout",
     "output_type": "stream",
     "text": [
      "<class 'pandas.core.frame.DataFrame'>\n",
      "Int64Index: 216 entries, 156 to 2712\n",
      "Data columns (total 5 columns):\n",
      " #   Column        Non-Null Count  Dtype  \n",
      "---  ------        --------------  -----  \n",
      " 0   language      216 non-null    object \n",
      " 1   endangerment  216 non-null    object \n",
      " 2   speakers      216 non-null    int64  \n",
      " 3   latitude      216 non-null    float64\n",
      " 4   longitude     216 non-null    float64\n",
      "dtypes: float64(2), int64(1), object(2)\n",
      "memory usage: 10.1+ KB\n"
     ]
    }
   ],
   "source": [
    "sp.exploration_df(df_usa)"
   ]
  },
  {
   "cell_type": "code",
   "execution_count": 47,
   "metadata": {},
   "outputs": [],
   "source": [
    "#df_usa.to_csv('../clean_data/df_usa_languages.csv', sep=',', index=True)"
   ]
  },
  {
   "cell_type": "markdown",
   "metadata": {},
   "source": [
    "<center> <h1>Web Scraping Clean </h1></center>"
   ]
  },
  {
   "cell_type": "markdown",
   "metadata": {},
   "source": [
    "## - Historical populaton by state"
   ]
  },
  {
   "cell_type": "code",
   "execution_count": 49,
   "metadata": {},
   "outputs": [
    {
     "data": {
      "text/html": [
       "<div>\n",
       "<style scoped>\n",
       "    .dataframe tbody tr th:only-of-type {\n",
       "        vertical-align: middle;\n",
       "    }\n",
       "\n",
       "    .dataframe tbody tr th {\n",
       "        vertical-align: top;\n",
       "    }\n",
       "\n",
       "    .dataframe thead th {\n",
       "        text-align: right;\n",
       "    }\n",
       "</style>\n",
       "<table border=\"1\" class=\"dataframe\">\n",
       "  <thead>\n",
       "    <tr style=\"text-align: right;\">\n",
       "      <th></th>\n",
       "      <th>state</th>\n",
       "      <th>1960</th>\n",
       "      <th>1970</th>\n",
       "      <th>1980</th>\n",
       "      <th>1990</th>\n",
       "      <th>2000</th>\n",
       "      <th>2010</th>\n",
       "      <th>2020</th>\n",
       "    </tr>\n",
       "  </thead>\n",
       "  <tbody>\n",
       "    <tr>\n",
       "      <th>0</th>\n",
       "      <td>Alabama\\n</td>\n",
       "      <td>3,266,740\\n</td>\n",
       "      <td>3,444,165\\n</td>\n",
       "      <td>3,893,888\\n</td>\n",
       "      <td>4,040,587\\n</td>\n",
       "      <td>4,447,100\\n</td>\n",
       "      <td>4,779,736\\n</td>\n",
       "      <td>5,024,279\\n</td>\n",
       "    </tr>\n",
       "    <tr>\n",
       "      <th>1</th>\n",
       "      <td>Alaska\\n</td>\n",
       "      <td>226,167\\n</td>\n",
       "      <td>300,382\\n</td>\n",
       "      <td>401,851\\n</td>\n",
       "      <td>550,043\\n</td>\n",
       "      <td>626,932\\n</td>\n",
       "      <td>710,231\\n</td>\n",
       "      <td>733,391\\n</td>\n",
       "    </tr>\n",
       "    <tr>\n",
       "      <th>2</th>\n",
       "      <td>American Samoa\\n</td>\n",
       "      <td>20,051\\n</td>\n",
       "      <td>27,159\\n</td>\n",
       "      <td>32,297\\n</td>\n",
       "      <td>46,773\\n</td>\n",
       "      <td>57,291\\n</td>\n",
       "      <td>55,519\\n</td>\n",
       "      <td>49,710\\n</td>\n",
       "    </tr>\n",
       "    <tr>\n",
       "      <th>3</th>\n",
       "      <td>Arizona\\n</td>\n",
       "      <td>1,302,161\\n</td>\n",
       "      <td>1,770,900\\n</td>\n",
       "      <td>2,718,215\\n</td>\n",
       "      <td>3,665,228\\n</td>\n",
       "      <td>5,130,632\\n</td>\n",
       "      <td>6,392,017\\n</td>\n",
       "      <td>7,151,502\\n</td>\n",
       "    </tr>\n",
       "    <tr>\n",
       "      <th>4</th>\n",
       "      <td>Arkansas\\n</td>\n",
       "      <td>1,786,272\\n</td>\n",
       "      <td>1,923,295\\n</td>\n",
       "      <td>2,286,435\\n</td>\n",
       "      <td>2,350,725\\n</td>\n",
       "      <td>2,673,400\\n</td>\n",
       "      <td>2,915,918\\n</td>\n",
       "      <td>3,011,524\\n</td>\n",
       "    </tr>\n",
       "  </tbody>\n",
       "</table>\n",
       "</div>"
      ],
      "text/plain": [
       "               state         1960         1970         1980         1990  \\\n",
       "0          Alabama\\n  3,266,740\\n  3,444,165\\n  3,893,888\\n  4,040,587\\n   \n",
       "1           Alaska\\n    226,167\\n    300,382\\n    401,851\\n    550,043\\n   \n",
       "2   American Samoa\\n     20,051\\n     27,159\\n     32,297\\n     46,773\\n   \n",
       "3          Arizona\\n  1,302,161\\n  1,770,900\\n  2,718,215\\n  3,665,228\\n   \n",
       "4         Arkansas\\n  1,786,272\\n  1,923,295\\n  2,286,435\\n  2,350,725\\n   \n",
       "\n",
       "          2000         2010         2020  \n",
       "0  4,447,100\\n  4,779,736\\n  5,024,279\\n  \n",
       "1    626,932\\n    710,231\\n    733,391\\n  \n",
       "2     57,291\\n     55,519\\n     49,710\\n  \n",
       "3  5,130,632\\n  6,392,017\\n  7,151,502\\n  \n",
       "4  2,673,400\\n  2,915,918\\n  3,011,524\\n  "
      ]
     },
     "execution_count": 49,
     "metadata": {},
     "output_type": "execute_result"
    }
   ],
   "source": [
    "df_pop= pd.read_csv(\"../data/web_scraping/df_population_usa.csv\", index_col=0)\n",
    "df_pop.head(5)"
   ]
  },
  {
   "cell_type": "code",
   "execution_count": 50,
   "metadata": {},
   "outputs": [
    {
     "data": {
      "text/html": [
       "<div>\n",
       "<style scoped>\n",
       "    .dataframe tbody tr th:only-of-type {\n",
       "        vertical-align: middle;\n",
       "    }\n",
       "\n",
       "    .dataframe tbody tr th {\n",
       "        vertical-align: top;\n",
       "    }\n",
       "\n",
       "    .dataframe thead th {\n",
       "        text-align: right;\n",
       "    }\n",
       "</style>\n",
       "<table border=\"1\" class=\"dataframe\">\n",
       "  <thead>\n",
       "    <tr style=\"text-align: right;\">\n",
       "      <th></th>\n",
       "      <th>state</th>\n",
       "      <th>1960</th>\n",
       "      <th>1970</th>\n",
       "      <th>1980</th>\n",
       "      <th>1990</th>\n",
       "      <th>2000</th>\n",
       "      <th>2010</th>\n",
       "      <th>2020</th>\n",
       "    </tr>\n",
       "  </thead>\n",
       "  <tbody>\n",
       "    <tr>\n",
       "      <th>0</th>\n",
       "      <td>Alabama</td>\n",
       "      <td>3,266,740</td>\n",
       "      <td>3,444,165</td>\n",
       "      <td>3,893,888</td>\n",
       "      <td>4,040,587</td>\n",
       "      <td>4,447,100</td>\n",
       "      <td>4,779,736</td>\n",
       "      <td>5,024,279</td>\n",
       "    </tr>\n",
       "  </tbody>\n",
       "</table>\n",
       "</div>"
      ],
      "text/plain": [
       "      state       1960       1970       1980       1990       2000       2010  \\\n",
       "0   Alabama  3,266,740  3,444,165  3,893,888  4,040,587  4,447,100  4,779,736   \n",
       "\n",
       "        2020  \n",
       "0  5,024,279  "
      ]
     },
     "execution_count": 50,
     "metadata": {},
     "output_type": "execute_result"
    }
   ],
   "source": [
    "df_pop=df_pop.replace('\\n','', regex=True)\n",
    "df_pop.head(1)"
   ]
  },
  {
   "cell_type": "code",
   "execution_count": 55,
   "metadata": {},
   "outputs": [],
   "source": [
    "df_1=df_1.drop(df_1.index[-1])"
   ]
  },
  {
   "cell_type": "code",
   "execution_count": 51,
   "metadata": {},
   "outputs": [],
   "source": [
    "df_1=df_pop.copy()"
   ]
  },
  {
   "cell_type": "code",
   "execution_count": 54,
   "metadata": {},
   "outputs": [],
   "source": [
    "columns_to_convert= df_1.columns[1:9]"
   ]
  },
  {
   "cell_type": "code",
   "execution_count": 56,
   "metadata": {},
   "outputs": [],
   "source": [
    "for col in columns_to_convert:\n",
    "    df_1[col] = df_1[col].replace( '[^0-9]', '', regex=True )"
   ]
  },
  {
   "cell_type": "code",
   "execution_count": 57,
   "metadata": {},
   "outputs": [],
   "source": [
    "# Iterate through the list of column names\n",
    "for col in columns_to_convert:\n",
    "    df_1[col] = df_1[col].apply(lambda x: int(x))"
   ]
  },
  {
   "cell_type": "code",
   "execution_count": 58,
   "metadata": {},
   "outputs": [
    {
     "data": {
      "text/html": [
       "<div>\n",
       "<style scoped>\n",
       "    .dataframe tbody tr th:only-of-type {\n",
       "        vertical-align: middle;\n",
       "    }\n",
       "\n",
       "    .dataframe tbody tr th {\n",
       "        vertical-align: top;\n",
       "    }\n",
       "\n",
       "    .dataframe thead th {\n",
       "        text-align: right;\n",
       "    }\n",
       "</style>\n",
       "<table border=\"1\" class=\"dataframe\">\n",
       "  <thead>\n",
       "    <tr style=\"text-align: right;\">\n",
       "      <th></th>\n",
       "      <th>state</th>\n",
       "      <th>1960</th>\n",
       "      <th>1970</th>\n",
       "      <th>1980</th>\n",
       "      <th>1990</th>\n",
       "      <th>2000</th>\n",
       "      <th>2010</th>\n",
       "      <th>2020</th>\n",
       "    </tr>\n",
       "  </thead>\n",
       "  <tbody>\n",
       "    <tr>\n",
       "      <th>0</th>\n",
       "      <td>Alabama</td>\n",
       "      <td>3266740</td>\n",
       "      <td>3444165</td>\n",
       "      <td>3893888</td>\n",
       "      <td>4040587</td>\n",
       "      <td>4447100</td>\n",
       "      <td>4779736</td>\n",
       "      <td>5024279</td>\n",
       "    </tr>\n",
       "  </tbody>\n",
       "</table>\n",
       "</div>"
      ],
      "text/plain": [
       "      state     1960     1970     1980     1990     2000     2010     2020\n",
       "0   Alabama  3266740  3444165  3893888  4040587  4447100  4779736  5024279"
      ]
     },
     "execution_count": 58,
     "metadata": {},
     "output_type": "execute_result"
    }
   ],
   "source": [
    "df_1.head(1)"
   ]
  },
  {
   "cell_type": "code",
   "execution_count": 62,
   "metadata": {},
   "outputs": [
    {
     "data": {
      "text/plain": [
       "'1960'"
      ]
     },
     "execution_count": 62,
     "metadata": {},
     "output_type": "execute_result"
    }
   ],
   "source": [
    "df_1.columns[1]\n"
   ]
  },
  {
   "cell_type": "code",
   "execution_count": 64,
   "metadata": {},
   "outputs": [],
   "source": [
    "df_1=df_1.drop(df_1.columns[1],axis=1)\n"
   ]
  },
  {
   "cell_type": "code",
   "execution_count": 65,
   "metadata": {},
   "outputs": [
    {
     "name": "stdout",
     "output_type": "stream",
     "text": [
      "<class 'pandas.core.frame.DataFrame'>\n",
      "Int64Index: 56 entries, 0 to 55\n",
      "Data columns (total 7 columns):\n",
      " #   Column  Non-Null Count  Dtype \n",
      "---  ------  --------------  ----- \n",
      " 0   state   56 non-null     object\n",
      " 1   1970    56 non-null     int64 \n",
      " 2   1980    56 non-null     int64 \n",
      " 3   1990    56 non-null     int64 \n",
      " 4   2000    56 non-null     int64 \n",
      " 5   2010    56 non-null     int64 \n",
      " 6   2020    56 non-null     int64 \n",
      "dtypes: int64(6), object(1)\n",
      "memory usage: 5.6+ KB\n"
     ]
    }
   ],
   "source": [
    "sp.exploration_df(df_1)"
   ]
  },
  {
   "cell_type": "code",
   "execution_count": 66,
   "metadata": {},
   "outputs": [
    {
     "data": {
      "text/html": [
       "<div>\n",
       "<style scoped>\n",
       "    .dataframe tbody tr th:only-of-type {\n",
       "        vertical-align: middle;\n",
       "    }\n",
       "\n",
       "    .dataframe tbody tr th {\n",
       "        vertical-align: top;\n",
       "    }\n",
       "\n",
       "    .dataframe thead th {\n",
       "        text-align: right;\n",
       "    }\n",
       "</style>\n",
       "<table border=\"1\" class=\"dataframe\">\n",
       "  <thead>\n",
       "    <tr style=\"text-align: right;\">\n",
       "      <th></th>\n",
       "      <th>state</th>\n",
       "      <th>1970</th>\n",
       "      <th>1980</th>\n",
       "      <th>1990</th>\n",
       "      <th>2000</th>\n",
       "      <th>2010</th>\n",
       "      <th>2020</th>\n",
       "    </tr>\n",
       "  </thead>\n",
       "  <tbody>\n",
       "    <tr>\n",
       "      <th>0</th>\n",
       "      <td>Alabama</td>\n",
       "      <td>3444165</td>\n",
       "      <td>3893888</td>\n",
       "      <td>4040587</td>\n",
       "      <td>4447100</td>\n",
       "      <td>4779736</td>\n",
       "      <td>5024279</td>\n",
       "    </tr>\n",
       "  </tbody>\n",
       "</table>\n",
       "</div>"
      ],
      "text/plain": [
       "      state     1970     1980     1990     2000     2010     2020\n",
       "0   Alabama  3444165  3893888  4040587  4447100  4779736  5024279"
      ]
     },
     "execution_count": 66,
     "metadata": {},
     "output_type": "execute_result"
    }
   ],
   "source": [
    "df_1.head(1)"
   ]
  },
  {
   "cell_type": "code",
   "execution_count": 67,
   "metadata": {},
   "outputs": [],
   "source": [
    "#df_1.to_csv('../clean_data/df_usa_pop.csv', sep=',', index=True)"
   ]
  },
  {
   "cell_type": "markdown",
   "metadata": {},
   "source": [
    "## - Historial ethnic population"
   ]
  },
  {
   "cell_type": "code",
   "execution_count": 70,
   "metadata": {},
   "outputs": [
    {
     "data": {
      "text/html": [
       "<div>\n",
       "<style scoped>\n",
       "    .dataframe tbody tr th:only-of-type {\n",
       "        vertical-align: middle;\n",
       "    }\n",
       "\n",
       "    .dataframe tbody tr th {\n",
       "        vertical-align: top;\n",
       "    }\n",
       "\n",
       "    .dataframe thead th {\n",
       "        text-align: right;\n",
       "    }\n",
       "</style>\n",
       "<table border=\"1\" class=\"dataframe\">\n",
       "  <thead>\n",
       "    <tr style=\"text-align: right;\">\n",
       "      <th></th>\n",
       "      <th>state</th>\n",
       "      <th>1890</th>\n",
       "      <th>1900</th>\n",
       "      <th>1910</th>\n",
       "      <th>1920</th>\n",
       "      <th>1930</th>\n",
       "      <th>1940</th>\n",
       "      <th>1950</th>\n",
       "      <th>1960</th>\n",
       "      <th>1970</th>\n",
       "      <th>1980</th>\n",
       "      <th>1990</th>\n",
       "      <th>2000</th>\n",
       "      <th>2010</th>\n",
       "      <th>2020</th>\n",
       "    </tr>\n",
       "  </thead>\n",
       "  <tbody>\n",
       "    <tr>\n",
       "      <th>0</th>\n",
       "      <td>United States\\n</td>\n",
       "      <td>0.4%\\n</td>\n",
       "      <td>0.4%\\n</td>\n",
       "      <td>0.4%\\n</td>\n",
       "      <td>0.4%\\n</td>\n",
       "      <td>0.4%\\n</td>\n",
       "      <td>0.4%\\n</td>\n",
       "      <td>0.4%\\n</td>\n",
       "      <td>0.4%\\n</td>\n",
       "      <td>0.3%\\n</td>\n",
       "      <td>0.3%\\n</td>\n",
       "      <td>0.2%\\n</td>\n",
       "      <td>0.3%\\n</td>\n",
       "      <td>0.3%\\n</td>\n",
       "      <td>0.2%\\n</td>\n",
       "    </tr>\n",
       "    <tr>\n",
       "      <th>1</th>\n",
       "      <td>Alabama\\n</td>\n",
       "      <td>0.1%\\n</td>\n",
       "      <td>0.1%\\n</td>\n",
       "      <td>0.1%\\n</td>\n",
       "      <td>0.1%\\n</td>\n",
       "      <td>0.1%\\n</td>\n",
       "      <td>0.1%\\n</td>\n",
       "      <td>0.1%\\n</td>\n",
       "      <td>0.1%\\n</td>\n",
       "      <td>0.0%\\n</td>\n",
       "      <td>0.0%\\n</td>\n",
       "      <td>0.0%\\n</td>\n",
       "      <td>0.0%\\n</td>\n",
       "      <td>0.0%\\n</td>\n",
       "      <td>0.0%\\n</td>\n",
       "    </tr>\n",
       "    <tr>\n",
       "      <th>2</th>\n",
       "      <td>Alaska\\n</td>\n",
       "      <td>\\n</td>\n",
       "      <td>\\n</td>\n",
       "      <td>\\n</td>\n",
       "      <td>\\n</td>\n",
       "      <td>\\n</td>\n",
       "      <td>\\n</td>\n",
       "      <td>\\n</td>\n",
       "      <td>\\n</td>\n",
       "      <td>\\n</td>\n",
       "      <td>\\n</td>\n",
       "      <td>\\n</td>\n",
       "      <td>\\n</td>\n",
       "      <td>\\n</td>\n",
       "      <td>\\n</td>\n",
       "    </tr>\n",
       "    <tr>\n",
       "      <th>3</th>\n",
       "      <td>Arizona\\n</td>\n",
       "      <td>34.0%\\n</td>\n",
       "      <td>34.0%\\n</td>\n",
       "      <td>34.0%\\n</td>\n",
       "      <td>34.0%\\n</td>\n",
       "      <td>34.0%\\n</td>\n",
       "      <td>34.0%\\n</td>\n",
       "      <td>34.0%\\n</td>\n",
       "      <td>34.0%\\n</td>\n",
       "      <td>21.5%\\n</td>\n",
       "      <td>14.3%\\n</td>\n",
       "      <td>9.9%\\n</td>\n",
       "      <td>10.0%\\n</td>\n",
       "      <td>11.0%\\n</td>\n",
       "      <td>8.8%\\n</td>\n",
       "    </tr>\n",
       "    <tr>\n",
       "      <th>4</th>\n",
       "      <td>Arkansas\\n</td>\n",
       "      <td>0.0%\\n</td>\n",
       "      <td>0.0%\\n</td>\n",
       "      <td>0.0%\\n</td>\n",
       "      <td>0.0%\\n</td>\n",
       "      <td>0.0%\\n</td>\n",
       "      <td>0.0%\\n</td>\n",
       "      <td>0.0%\\n</td>\n",
       "      <td>0.0%\\n</td>\n",
       "      <td>0.0%\\n</td>\n",
       "      <td>0.0%\\n</td>\n",
       "      <td>0.0%\\n</td>\n",
       "      <td>0.0%\\n</td>\n",
       "      <td>0.0%\\n</td>\n",
       "      <td>0.0%\\n</td>\n",
       "    </tr>\n",
       "  </tbody>\n",
       "</table>\n",
       "</div>"
      ],
      "text/plain": [
       "             state     1890     1900     1910     1920     1930     1940  \\\n",
       "0  United States\\n   0.4%\\n   0.4%\\n   0.4%\\n   0.4%\\n   0.4%\\n   0.4%\\n   \n",
       "1        Alabama\\n   0.1%\\n   0.1%\\n   0.1%\\n   0.1%\\n   0.1%\\n   0.1%\\n   \n",
       "2         Alaska\\n       \\n       \\n       \\n       \\n       \\n       \\n   \n",
       "3        Arizona\\n  34.0%\\n  34.0%\\n  34.0%\\n  34.0%\\n  34.0%\\n  34.0%\\n   \n",
       "4       Arkansas\\n   0.0%\\n   0.0%\\n   0.0%\\n   0.0%\\n   0.0%\\n   0.0%\\n   \n",
       "\n",
       "      1950     1960     1970     1980    1990     2000     2010    2020  \n",
       "0   0.4%\\n   0.4%\\n   0.3%\\n   0.3%\\n  0.2%\\n   0.3%\\n   0.3%\\n  0.2%\\n  \n",
       "1   0.1%\\n   0.1%\\n   0.0%\\n   0.0%\\n  0.0%\\n   0.0%\\n   0.0%\\n  0.0%\\n  \n",
       "2       \\n       \\n       \\n       \\n      \\n       \\n       \\n      \\n  \n",
       "3  34.0%\\n  34.0%\\n  21.5%\\n  14.3%\\n  9.9%\\n  10.0%\\n  11.0%\\n  8.8%\\n  \n",
       "4   0.0%\\n   0.0%\\n   0.0%\\n   0.0%\\n  0.0%\\n   0.0%\\n   0.0%\\n  0.0%\\n  "
      ]
     },
     "execution_count": 70,
     "metadata": {},
     "output_type": "execute_result"
    }
   ],
   "source": [
    "df_eth= pd.read_csv(\"../data/web_scraping/df_ethpop_usa.csv\", index_col=0)\n",
    "df_eth.head(5)"
   ]
  },
  {
   "cell_type": "code",
   "execution_count": 71,
   "metadata": {},
   "outputs": [],
   "source": [
    "df_eth= df_eth.drop(df_eth.columns[1:9], axis=1)"
   ]
  },
  {
   "cell_type": "code",
   "execution_count": 72,
   "metadata": {},
   "outputs": [
    {
     "data": {
      "text/html": [
       "<div>\n",
       "<style scoped>\n",
       "    .dataframe tbody tr th:only-of-type {\n",
       "        vertical-align: middle;\n",
       "    }\n",
       "\n",
       "    .dataframe tbody tr th {\n",
       "        vertical-align: top;\n",
       "    }\n",
       "\n",
       "    .dataframe thead th {\n",
       "        text-align: right;\n",
       "    }\n",
       "</style>\n",
       "<table border=\"1\" class=\"dataframe\">\n",
       "  <thead>\n",
       "    <tr style=\"text-align: right;\">\n",
       "      <th></th>\n",
       "      <th>state</th>\n",
       "      <th>1970</th>\n",
       "      <th>1980</th>\n",
       "      <th>1990</th>\n",
       "      <th>2000</th>\n",
       "      <th>2010</th>\n",
       "      <th>2020</th>\n",
       "    </tr>\n",
       "  </thead>\n",
       "  <tbody>\n",
       "    <tr>\n",
       "      <th>0</th>\n",
       "      <td>United States\\n</td>\n",
       "      <td>0.3%\\n</td>\n",
       "      <td>0.3%\\n</td>\n",
       "      <td>0.2%\\n</td>\n",
       "      <td>0.3%\\n</td>\n",
       "      <td>0.3%\\n</td>\n",
       "      <td>0.2%\\n</td>\n",
       "    </tr>\n",
       "  </tbody>\n",
       "</table>\n",
       "</div>"
      ],
      "text/plain": [
       "             state    1970    1980    1990    2000    2010    2020\n",
       "0  United States\\n  0.3%\\n  0.3%\\n  0.2%\\n  0.3%\\n  0.3%\\n  0.2%\\n"
      ]
     },
     "execution_count": 72,
     "metadata": {},
     "output_type": "execute_result"
    }
   ],
   "source": [
    "df_eth.head(1)"
   ]
  },
  {
   "cell_type": "code",
   "execution_count": 73,
   "metadata": {},
   "outputs": [
    {
     "data": {
      "text/html": [
       "<div>\n",
       "<style scoped>\n",
       "    .dataframe tbody tr th:only-of-type {\n",
       "        vertical-align: middle;\n",
       "    }\n",
       "\n",
       "    .dataframe tbody tr th {\n",
       "        vertical-align: top;\n",
       "    }\n",
       "\n",
       "    .dataframe thead th {\n",
       "        text-align: right;\n",
       "    }\n",
       "</style>\n",
       "<table border=\"1\" class=\"dataframe\">\n",
       "  <thead>\n",
       "    <tr style=\"text-align: right;\">\n",
       "      <th></th>\n",
       "      <th>state</th>\n",
       "      <th>1970</th>\n",
       "      <th>1980</th>\n",
       "      <th>1990</th>\n",
       "      <th>2000</th>\n",
       "      <th>2010</th>\n",
       "      <th>2020</th>\n",
       "    </tr>\n",
       "  </thead>\n",
       "  <tbody>\n",
       "    <tr>\n",
       "      <th>0</th>\n",
       "      <td>United States</td>\n",
       "      <td>0.3%</td>\n",
       "      <td>0.3%</td>\n",
       "      <td>0.2%</td>\n",
       "      <td>0.3%</td>\n",
       "      <td>0.3%</td>\n",
       "      <td>0.2%</td>\n",
       "    </tr>\n",
       "  </tbody>\n",
       "</table>\n",
       "</div>"
      ],
      "text/plain": [
       "           state  1970  1980  1990  2000  2010  2020\n",
       "0  United States  0.3%  0.3%  0.2%  0.3%  0.3%  0.2%"
      ]
     },
     "execution_count": 73,
     "metadata": {},
     "output_type": "execute_result"
    }
   ],
   "source": [
    "df_eth=df_eth.replace('\\n','', regex=True)\n",
    "df_eth.head(1)"
   ]
  },
  {
   "cell_type": "code",
   "execution_count": 75,
   "metadata": {},
   "outputs": [
    {
     "name": "stdout",
     "output_type": "stream",
     "text": [
      "<class 'pandas.core.frame.DataFrame'>\n",
      "Int64Index: 52 entries, 0 to 51\n",
      "Data columns (total 7 columns):\n",
      " #   Column  Non-Null Count  Dtype \n",
      "---  ------  --------------  ----- \n",
      " 0   state   52 non-null     object\n",
      " 1   1970    52 non-null     object\n",
      " 2   1980    52 non-null     object\n",
      " 3   1990    52 non-null     object\n",
      " 4   2000    52 non-null     object\n",
      " 5   2010    52 non-null     object\n",
      " 6   2020    52 non-null     object\n",
      "dtypes: object(7)\n",
      "memory usage: 3.2+ KB\n"
     ]
    }
   ],
   "source": [
    "sp.exploration_df(df_eth)"
   ]
  },
  {
   "cell_type": "code",
   "execution_count": 74,
   "metadata": {},
   "outputs": [],
   "source": [
    "df_eth=df_eth.drop(df_eth.index[-1])"
   ]
  },
  {
   "cell_type": "code",
   "execution_count": 76,
   "metadata": {},
   "outputs": [],
   "source": [
    "df_copy=df_eth.copy()"
   ]
  },
  {
   "cell_type": "code",
   "execution_count": 77,
   "metadata": {},
   "outputs": [],
   "source": [
    "df_copy.loc[2]=[\"Alaska\",\"0\",\"16.0\",\"15.6\",\"15.6\",\"14.8\",\"15.2\"]\n",
    "df_copy.loc[12]=[\"Hawaii\",\"0.1\",\"0.1\",\"0.3\",\"0.5\",\"0.3\",\"0.3\"]"
   ]
  },
  {
   "cell_type": "code",
   "execution_count": 78,
   "metadata": {},
   "outputs": [
    {
     "data": {
      "text/html": [
       "<div>\n",
       "<style scoped>\n",
       "    .dataframe tbody tr th:only-of-type {\n",
       "        vertical-align: middle;\n",
       "    }\n",
       "\n",
       "    .dataframe tbody tr th {\n",
       "        vertical-align: top;\n",
       "    }\n",
       "\n",
       "    .dataframe thead th {\n",
       "        text-align: right;\n",
       "    }\n",
       "</style>\n",
       "<table border=\"1\" class=\"dataframe\">\n",
       "  <thead>\n",
       "    <tr style=\"text-align: right;\">\n",
       "      <th></th>\n",
       "      <th>state</th>\n",
       "      <th>1970</th>\n",
       "      <th>1980</th>\n",
       "      <th>1990</th>\n",
       "      <th>2000</th>\n",
       "      <th>2010</th>\n",
       "      <th>2020</th>\n",
       "    </tr>\n",
       "  </thead>\n",
       "  <tbody>\n",
       "    <tr>\n",
       "      <th>0</th>\n",
       "      <td>United States</td>\n",
       "      <td>0.3%</td>\n",
       "      <td>0.3%</td>\n",
       "      <td>0.2%</td>\n",
       "      <td>0.3%</td>\n",
       "      <td>0.3%</td>\n",
       "      <td>0.2%</td>\n",
       "    </tr>\n",
       "    <tr>\n",
       "      <th>1</th>\n",
       "      <td>Alabama</td>\n",
       "      <td>0.0%</td>\n",
       "      <td>0.0%</td>\n",
       "      <td>0.0%</td>\n",
       "      <td>0.0%</td>\n",
       "      <td>0.0%</td>\n",
       "      <td>0.0%</td>\n",
       "    </tr>\n",
       "  </tbody>\n",
       "</table>\n",
       "</div>"
      ],
      "text/plain": [
       "           state  1970  1980  1990  2000  2010  2020\n",
       "0  United States  0.3%  0.3%  0.2%  0.3%  0.3%  0.2%\n",
       "1        Alabama  0.0%  0.0%  0.0%  0.0%  0.0%  0.0%"
      ]
     },
     "execution_count": 78,
     "metadata": {},
     "output_type": "execute_result"
    }
   ],
   "source": [
    "df_copy.head(2)"
   ]
  },
  {
   "cell_type": "code",
   "execution_count": 79,
   "metadata": {},
   "outputs": [],
   "source": [
    "df_copy = df_copy.replace(np.nan, 0)"
   ]
  },
  {
   "cell_type": "code",
   "execution_count": 80,
   "metadata": {},
   "outputs": [
    {
     "data": {
      "text/plain": [
       "state    0\n",
       "1970     0\n",
       "1980     0\n",
       "1990     0\n",
       "2000     0\n",
       "2010     0\n",
       "2020     0\n",
       "dtype: int64"
      ]
     },
     "execution_count": 80,
     "metadata": {},
     "output_type": "execute_result"
    }
   ],
   "source": [
    "df_copy.isnull().sum()"
   ]
  },
  {
   "cell_type": "code",
   "execution_count": 81,
   "metadata": {},
   "outputs": [],
   "source": [
    "df_copy = df_copy.replace(\"\", 0)"
   ]
  },
  {
   "cell_type": "code",
   "execution_count": 83,
   "metadata": {},
   "outputs": [],
   "source": [
    "columns_to_convert_2= df_copy.columns[1:9]"
   ]
  },
  {
   "cell_type": "code",
   "execution_count": 84,
   "metadata": {},
   "outputs": [],
   "source": [
    "for col in columns_to_convert_2:\n",
    "    df_copy[col] = df_copy[col].replace( '%', '', regex=True ) "
   ]
  },
  {
   "cell_type": "code",
   "execution_count": 85,
   "metadata": {},
   "outputs": [],
   "source": [
    "for col in columns_to_convert_2:\n",
    "    df_copy[col] = df_copy[col].apply(lambda x: float(x))"
   ]
  },
  {
   "cell_type": "code",
   "execution_count": 87,
   "metadata": {},
   "outputs": [
    {
     "name": "stdout",
     "output_type": "stream",
     "text": [
      "<class 'pandas.core.frame.DataFrame'>\n",
      "Int64Index: 52 entries, 0 to 51\n",
      "Data columns (total 7 columns):\n",
      " #   Column  Non-Null Count  Dtype  \n",
      "---  ------  --------------  -----  \n",
      " 0   state   52 non-null     object \n",
      " 1   1970    52 non-null     float64\n",
      " 2   1980    52 non-null     float64\n",
      " 3   1990    52 non-null     float64\n",
      " 4   2000    52 non-null     float64\n",
      " 5   2010    52 non-null     float64\n",
      " 6   2020    52 non-null     float64\n",
      "dtypes: float64(6), object(1)\n",
      "memory usage: 5.3+ KB\n"
     ]
    }
   ],
   "source": [
    "sp.exploration_df(df_copy)"
   ]
  },
  {
   "cell_type": "code",
   "execution_count": 88,
   "metadata": {},
   "outputs": [],
   "source": [
    "#df_copy.to_csv('../clean_data/df_ethpop_usa.csv', sep=',', index=True)"
   ]
  }
 ],
 "metadata": {
  "kernelspec": {
   "display_name": "iron",
   "language": "python",
   "name": "iron"
  },
  "language_info": {
   "codemirror_mode": {
    "name": "ipython",
    "version": 3
   },
   "file_extension": ".py",
   "mimetype": "text/x-python",
   "name": "python",
   "nbconvert_exporter": "python",
   "pygments_lexer": "ipython3",
   "version": "3.9.13"
  }
 },
 "nbformat": 4,
 "nbformat_minor": 4
}
