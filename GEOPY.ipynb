{
 "cells": [
  {
   "cell_type": "code",
   "execution_count": 1,
   "metadata": {},
   "outputs": [],
   "source": [
    "#pip install geopy"
   ]
  },
  {
   "cell_type": "code",
   "execution_count": 2,
   "metadata": {},
   "outputs": [],
   "source": [
    "from geopy.geocoders import Nominatim"
   ]
  },
  {
   "cell_type": "code",
   "execution_count": 3,
   "metadata": {},
   "outputs": [],
   "source": [
    "import pandas as pd"
   ]
  },
  {
   "cell_type": "code",
   "execution_count": null,
   "metadata": {},
   "outputs": [],
   "source": [
    "df= pd.read_csv(\"df_usa.csv\")\n",
    "df.head(4)"
   ]
  },
  {
   "cell_type": "code",
   "execution_count": 4,
   "metadata": {},
   "outputs": [
    {
     "name": "stdout",
     "output_type": "stream",
     "text": [
      "Fort Defiance Agency / Tséhootsooí  Bił Hahoodzo biyiʼdi, Apache County, Arizona, United States\n"
     ]
    }
   ],
   "source": [
    "geolocator = Nominatim(user_agent=\"usa\")\n",
    "location = geolocator.reverse(\"35.8044, -108.4750\")\n",
    "print(location.address)\n"
   ]
  },
  {
   "cell_type": "code",
   "execution_count": 32,
   "metadata": {},
   "outputs": [
    {
     "name": "stdout",
     "output_type": "stream",
     "text": [
      "Arizona\n"
     ]
    }
   ],
   "source": [
    "geolocator2 = Nominatim(user_agent=\"geoapiExercises\")\n",
    "\n",
    "# Obtener la localización completa a partir de las coordenadas\n",
    "location2 = geolocator.reverse(\"40.730610, -73.935242\", exactly_one=True)\n",
    "\n",
    "# Obtener el estado a partir de la localización completa\n",
    "state = location.raw['address']['state']\n",
    "print(state)"
   ]
  },
  {
   "cell_type": "code",
   "execution_count": 33,
   "metadata": {},
   "outputs": [],
   "source": [
    "geolocator = Nominatim(user_agent=\"geoapiExercises\")\n",
    "\n",
    "def obtener_estado(row):\n",
    "    # Obtener la localización completa a partir de las coordenadas\n",
    "    location = geolocator.reverse(f\"{row['latitude']}, {row['longitude']}\", exactly_one=True)\n",
    "    # Obtener el estado a partir de la localización completa\n",
    "    try:\n",
    "        state = location.raw['address']['state']\n",
    "    except (KeyError, TypeError):\n",
    "        state = None\n",
    "    return state\n",
    "\n",
    "# Aplicar la función obtener_estado a cada fila del DataFrame\n",
    "#df[\"estado\"] = df.apply(obtener_estado, axis=1)"
   ]
  },
  {
   "cell_type": "code",
   "execution_count": 34,
   "metadata": {},
   "outputs": [],
   "source": [
    "df[\"estado\"] = df.apply(obtener_estado, axis=1)"
   ]
  },
  {
   "cell_type": "code",
   "execution_count": 36,
   "metadata": {},
   "outputs": [
    {
     "data": {
      "text/html": [
       "<div>\n",
       "<style scoped>\n",
       "    .dataframe tbody tr th:only-of-type {\n",
       "        vertical-align: middle;\n",
       "    }\n",
       "\n",
       "    .dataframe tbody tr th {\n",
       "        vertical-align: top;\n",
       "    }\n",
       "\n",
       "    .dataframe thead th {\n",
       "        text-align: right;\n",
       "    }\n",
       "</style>\n",
       "<table border=\"1\" class=\"dataframe\">\n",
       "  <thead>\n",
       "    <tr style=\"text-align: right;\">\n",
       "      <th></th>\n",
       "      <th>Unnamed: 0</th>\n",
       "      <th>name</th>\n",
       "      <th>endangerment</th>\n",
       "      <th>latitude</th>\n",
       "      <th>longitude</th>\n",
       "      <th>city</th>\n",
       "      <th>estado</th>\n",
       "    </tr>\n",
       "  </thead>\n",
       "  <tbody>\n",
       "    <tr>\n",
       "      <th>0</th>\n",
       "      <td>156</td>\n",
       "      <td>Navajo</td>\n",
       "      <td>Vulnerable</td>\n",
       "      <td>35.8044</td>\n",
       "      <td>-108.4750</td>\n",
       "      <td>(Fort Defiance Agency / Tséhootsooí  Bił Hahoodzo biyiʼdi, Apache County, Arizona, United States, (35.5523063, -109.66163518838454))</td>\n",
       "      <td>Arizona</td>\n",
       "    </tr>\n",
       "    <tr>\n",
       "      <th>1</th>\n",
       "      <td>359</td>\n",
       "      <td>Sioux</td>\n",
       "      <td>Vulnerable</td>\n",
       "      <td>43.0588</td>\n",
       "      <td>-102.5244</td>\n",
       "      <td>(Wakpamni District, Oglala Lakota County, South Dakota, 57770, United States, (43.057968, -102.523815))</td>\n",
       "      <td>South Dakota</td>\n",
       "    </tr>\n",
       "    <tr>\n",
       "      <th>2</th>\n",
       "      <td>443</td>\n",
       "      <td>O'odham (Akimel)</td>\n",
       "      <td>Definitely endangered</td>\n",
       "      <td>33.0590</td>\n",
       "      <td>-112.0479</td>\n",
       "      <td>(20999, West Maricopa-Casa Grande Highway, Villages at Rancho El Dorado, Maricopa, Pinal County, Arizona, 85139, United States, (33.058889, -112.047927))</td>\n",
       "      <td>Arizona</td>\n",
       "    </tr>\n",
       "    <tr>\n",
       "      <th>3</th>\n",
       "      <td>444</td>\n",
       "      <td>O'odham (Tohono)</td>\n",
       "      <td>Definitely endangered</td>\n",
       "      <td>31.9186</td>\n",
       "      <td>-111.8798</td>\n",
       "      <td>(West Tucson-Ajo Highway, Sells, Sells District, Pima County, Arizona, 85734, United States, (31.918471815006985, -111.8798267999062))</td>\n",
       "      <td>Arizona</td>\n",
       "    </tr>\n",
       "    <tr>\n",
       "      <th>4</th>\n",
       "      <td>502</td>\n",
       "      <td>Central Alaskan Yupik (2)</td>\n",
       "      <td>Vulnerable</td>\n",
       "      <td>61.4387</td>\n",
       "      <td>-160.4882</td>\n",
       "      <td>(Unorganized Borough, Alaska, United States, (63.417431050000005, -157.6718650484568))</td>\n",
       "      <td>Alaska</td>\n",
       "    </tr>\n",
       "  </tbody>\n",
       "</table>\n",
       "</div>"
      ],
      "text/plain": [
       "   Unnamed: 0                       name           endangerment  latitude  \\\n",
       "0  156         Navajo                     Vulnerable             35.8044    \n",
       "1  359         Sioux                      Vulnerable             43.0588    \n",
       "2  443         O'odham (Akimel)           Definitely endangered  33.0590    \n",
       "3  444         O'odham (Tohono)           Definitely endangered  31.9186    \n",
       "4  502         Central Alaskan Yupik (2)  Vulnerable             61.4387    \n",
       "\n",
       "   longitude  \\\n",
       "0 -108.4750    \n",
       "1 -102.5244    \n",
       "2 -112.0479    \n",
       "3 -111.8798    \n",
       "4 -160.4882    \n",
       "\n",
       "                                                                                                                                                        city  \\\n",
       "0  (Fort Defiance Agency / Tséhootsooí  Bił Hahoodzo biyiʼdi, Apache County, Arizona, United States, (35.5523063, -109.66163518838454))                        \n",
       "1  (Wakpamni District, Oglala Lakota County, South Dakota, 57770, United States, (43.057968, -102.523815))                                                     \n",
       "2  (20999, West Maricopa-Casa Grande Highway, Villages at Rancho El Dorado, Maricopa, Pinal County, Arizona, 85139, United States, (33.058889, -112.047927))   \n",
       "3  (West Tucson-Ajo Highway, Sells, Sells District, Pima County, Arizona, 85734, United States, (31.918471815006985, -111.8798267999062))                      \n",
       "4  (Unorganized Borough, Alaska, United States, (63.417431050000005, -157.6718650484568))                                                                      \n",
       "\n",
       "         estado  \n",
       "0  Arizona       \n",
       "1  South Dakota  \n",
       "2  Arizona       \n",
       "3  Arizona       \n",
       "4  Alaska        "
      ]
     },
     "execution_count": 36,
     "metadata": {},
     "output_type": "execute_result"
    }
   ],
   "source": [
    "df.head()"
   ]
  },
  {
   "cell_type": "code",
   "execution_count": 5,
   "metadata": {},
   "outputs": [
    {
     "name": "stdout",
     "output_type": "stream",
     "text": [
      "(35.5523063, -109.66163518838454)\n"
     ]
    }
   ],
   "source": [
    "print((location.latitude, location.longitude))\n"
   ]
  },
  {
   "cell_type": "code",
   "execution_count": 22,
   "metadata": {},
   "outputs": [],
   "source": [
    "df['city'] = df.apply(lambda x: geolocator.reverse((x.latitude, x.longitude)), axis=1)"
   ]
  },
  {
   "cell_type": "code",
   "execution_count": 23,
   "metadata": {},
   "outputs": [
    {
     "data": {
      "text/html": [
       "<div>\n",
       "<style scoped>\n",
       "    .dataframe tbody tr th:only-of-type {\n",
       "        vertical-align: middle;\n",
       "    }\n",
       "\n",
       "    .dataframe tbody tr th {\n",
       "        vertical-align: top;\n",
       "    }\n",
       "\n",
       "    .dataframe thead th {\n",
       "        text-align: right;\n",
       "    }\n",
       "</style>\n",
       "<table border=\"1\" class=\"dataframe\">\n",
       "  <thead>\n",
       "    <tr style=\"text-align: right;\">\n",
       "      <th></th>\n",
       "      <th>Unnamed: 0</th>\n",
       "      <th>name</th>\n",
       "      <th>endangerment</th>\n",
       "      <th>latitude</th>\n",
       "      <th>longitude</th>\n",
       "      <th>city</th>\n",
       "    </tr>\n",
       "  </thead>\n",
       "  <tbody>\n",
       "    <tr>\n",
       "      <th>0</th>\n",
       "      <td>156</td>\n",
       "      <td>Navajo</td>\n",
       "      <td>Vulnerable</td>\n",
       "      <td>35.8044</td>\n",
       "      <td>-108.4750</td>\n",
       "      <td>(Fort Defiance Agency / Tséhootsooí  Bił Hahoo...</td>\n",
       "    </tr>\n",
       "    <tr>\n",
       "      <th>1</th>\n",
       "      <td>359</td>\n",
       "      <td>Sioux</td>\n",
       "      <td>Vulnerable</td>\n",
       "      <td>43.0588</td>\n",
       "      <td>-102.5244</td>\n",
       "      <td>(Wakpamni District, Oglala Lakota County, Sout...</td>\n",
       "    </tr>\n",
       "    <tr>\n",
       "      <th>2</th>\n",
       "      <td>443</td>\n",
       "      <td>O'odham (Akimel)</td>\n",
       "      <td>Definitely endangered</td>\n",
       "      <td>33.0590</td>\n",
       "      <td>-112.0479</td>\n",
       "      <td>(20999, West Maricopa-Casa Grande Highway, Vil...</td>\n",
       "    </tr>\n",
       "    <tr>\n",
       "      <th>3</th>\n",
       "      <td>444</td>\n",
       "      <td>O'odham (Tohono)</td>\n",
       "      <td>Definitely endangered</td>\n",
       "      <td>31.9186</td>\n",
       "      <td>-111.8798</td>\n",
       "      <td>(West Tucson-Ajo Highway, Sells, Sells Distric...</td>\n",
       "    </tr>\n",
       "    <tr>\n",
       "      <th>4</th>\n",
       "      <td>502</td>\n",
       "      <td>Central Alaskan Yupik (2)</td>\n",
       "      <td>Vulnerable</td>\n",
       "      <td>61.4387</td>\n",
       "      <td>-160.4882</td>\n",
       "      <td>(Unorganized Borough, Alaska, United States, (...</td>\n",
       "    </tr>\n",
       "  </tbody>\n",
       "</table>\n",
       "</div>"
      ],
      "text/plain": [
       "   Unnamed: 0                       name           endangerment  latitude  \\\n",
       "0         156                     Navajo             Vulnerable   35.8044   \n",
       "1         359                      Sioux             Vulnerable   43.0588   \n",
       "2         443           O'odham (Akimel)  Definitely endangered   33.0590   \n",
       "3         444           O'odham (Tohono)  Definitely endangered   31.9186   \n",
       "4         502  Central Alaskan Yupik (2)             Vulnerable   61.4387   \n",
       "\n",
       "   longitude                                               city  \n",
       "0  -108.4750  (Fort Defiance Agency / Tséhootsooí  Bił Hahoo...  \n",
       "1  -102.5244  (Wakpamni District, Oglala Lakota County, Sout...  \n",
       "2  -112.0479  (20999, West Maricopa-Casa Grande Highway, Vil...  \n",
       "3  -111.8798  (West Tucson-Ajo Highway, Sells, Sells Distric...  \n",
       "4  -160.4882  (Unorganized Borough, Alaska, United States, (...  "
      ]
     },
     "execution_count": 23,
     "metadata": {},
     "output_type": "execute_result"
    }
   ],
   "source": [
    "df.head()"
   ]
  },
  {
   "cell_type": "code",
   "execution_count": 27,
   "metadata": {},
   "outputs": [
    {
     "data": {
      "text/plain": [
       "Unnamed: 0      0\n",
       "name            0\n",
       "endangerment    0\n",
       "latitude        0\n",
       "longitude       0\n",
       "city            0\n",
       "dtype: int64"
      ]
     },
     "execution_count": 27,
     "metadata": {},
     "output_type": "execute_result"
    }
   ],
   "source": [
    "df.isnull().sum()"
   ]
  },
  {
   "cell_type": "code",
   "execution_count": 28,
   "metadata": {},
   "outputs": [
    {
     "name": "stderr",
     "output_type": "stream",
     "text": [
      "/var/folders/3v/w3g18dxj3gz5w9dw0dh5z2z00000gn/T/ipykernel_24711/3652881321.py:1: FutureWarning: Passing a negative integer is deprecated in version 1.0 and will not be supported in future version. Instead, use None to not limit the column width.\n",
      "  pd.set_option('display.max_colwidth', -1)\n"
     ]
    }
   ],
   "source": [
    "pd.set_option('display.max_colwidth', -1)"
   ]
  },
  {
   "cell_type": "code",
   "execution_count": 31,
   "metadata": {},
   "outputs": [
    {
     "data": {
      "text/html": [
       "<div>\n",
       "<style scoped>\n",
       "    .dataframe tbody tr th:only-of-type {\n",
       "        vertical-align: middle;\n",
       "    }\n",
       "\n",
       "    .dataframe tbody tr th {\n",
       "        vertical-align: top;\n",
       "    }\n",
       "\n",
       "    .dataframe thead th {\n",
       "        text-align: right;\n",
       "    }\n",
       "</style>\n",
       "<table border=\"1\" class=\"dataframe\">\n",
       "  <thead>\n",
       "    <tr style=\"text-align: right;\">\n",
       "      <th></th>\n",
       "      <th>Unnamed: 0</th>\n",
       "      <th>name</th>\n",
       "      <th>endangerment</th>\n",
       "      <th>latitude</th>\n",
       "      <th>longitude</th>\n",
       "      <th>city</th>\n",
       "    </tr>\n",
       "  </thead>\n",
       "  <tbody>\n",
       "    <tr>\n",
       "      <th>0</th>\n",
       "      <td>156</td>\n",
       "      <td>Navajo</td>\n",
       "      <td>Vulnerable</td>\n",
       "      <td>35.8044</td>\n",
       "      <td>-108.4750</td>\n",
       "      <td>(Fort Defiance Agency / Tséhootsooí  Bił Hahoodzo biyiʼdi, Apache County, Arizona, United States, (35.5523063, -109.66163518838454))</td>\n",
       "    </tr>\n",
       "    <tr>\n",
       "      <th>1</th>\n",
       "      <td>359</td>\n",
       "      <td>Sioux</td>\n",
       "      <td>Vulnerable</td>\n",
       "      <td>43.0588</td>\n",
       "      <td>-102.5244</td>\n",
       "      <td>(Wakpamni District, Oglala Lakota County, South Dakota, 57770, United States, (43.057968, -102.523815))</td>\n",
       "    </tr>\n",
       "    <tr>\n",
       "      <th>2</th>\n",
       "      <td>443</td>\n",
       "      <td>O'odham (Akimel)</td>\n",
       "      <td>Definitely endangered</td>\n",
       "      <td>33.0590</td>\n",
       "      <td>-112.0479</td>\n",
       "      <td>(20999, West Maricopa-Casa Grande Highway, Villages at Rancho El Dorado, Maricopa, Pinal County, Arizona, 85139, United States, (33.058889, -112.047927))</td>\n",
       "    </tr>\n",
       "    <tr>\n",
       "      <th>3</th>\n",
       "      <td>444</td>\n",
       "      <td>O'odham (Tohono)</td>\n",
       "      <td>Definitely endangered</td>\n",
       "      <td>31.9186</td>\n",
       "      <td>-111.8798</td>\n",
       "      <td>(West Tucson-Ajo Highway, Sells, Sells District, Pima County, Arizona, 85734, United States, (31.918471815006985, -111.8798267999062))</td>\n",
       "    </tr>\n",
       "    <tr>\n",
       "      <th>4</th>\n",
       "      <td>502</td>\n",
       "      <td>Central Alaskan Yupik (2)</td>\n",
       "      <td>Vulnerable</td>\n",
       "      <td>61.4387</td>\n",
       "      <td>-160.4882</td>\n",
       "      <td>(Unorganized Borough, Alaska, United States, (63.417431050000005, -157.6718650484568))</td>\n",
       "    </tr>\n",
       "  </tbody>\n",
       "</table>\n",
       "</div>"
      ],
      "text/plain": [
       "   Unnamed: 0                       name           endangerment  latitude  \\\n",
       "0  156         Navajo                     Vulnerable             35.8044    \n",
       "1  359         Sioux                      Vulnerable             43.0588    \n",
       "2  443         O'odham (Akimel)           Definitely endangered  33.0590    \n",
       "3  444         O'odham (Tohono)           Definitely endangered  31.9186    \n",
       "4  502         Central Alaskan Yupik (2)  Vulnerable             61.4387    \n",
       "\n",
       "   longitude  \\\n",
       "0 -108.4750    \n",
       "1 -102.5244    \n",
       "2 -112.0479    \n",
       "3 -111.8798    \n",
       "4 -160.4882    \n",
       "\n",
       "                                                                                                                                                        city  \n",
       "0  (Fort Defiance Agency / Tséhootsooí  Bił Hahoodzo biyiʼdi, Apache County, Arizona, United States, (35.5523063, -109.66163518838454))                       \n",
       "1  (Wakpamni District, Oglala Lakota County, South Dakota, 57770, United States, (43.057968, -102.523815))                                                    \n",
       "2  (20999, West Maricopa-Casa Grande Highway, Villages at Rancho El Dorado, Maricopa, Pinal County, Arizona, 85139, United States, (33.058889, -112.047927))  \n",
       "3  (West Tucson-Ajo Highway, Sells, Sells District, Pima County, Arizona, 85734, United States, (31.918471815006985, -111.8798267999062))                     \n",
       "4  (Unorganized Borough, Alaska, United States, (63.417431050000005, -157.6718650484568))                                                                     "
      ]
     },
     "execution_count": 31,
     "metadata": {},
     "output_type": "execute_result"
    }
   ],
   "source": [
    "df.head()"
   ]
  },
  {
   "cell_type": "code",
   "execution_count": null,
   "metadata": {},
   "outputs": [],
   "source": []
  }
 ],
 "metadata": {
  "kernelspec": {
   "display_name": "iron",
   "language": "python",
   "name": "iron"
  },
  "language_info": {
   "codemirror_mode": {
    "name": "ipython",
    "version": 3
   },
   "file_extension": ".py",
   "mimetype": "text/x-python",
   "name": "python",
   "nbconvert_exporter": "python",
   "pygments_lexer": "ipython3",
   "version": "3.9.13"
  }
 },
 "nbformat": 4,
 "nbformat_minor": 4
}
