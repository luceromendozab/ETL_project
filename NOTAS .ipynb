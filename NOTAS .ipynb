{
 "cells": [
  {
   "cell_type": "markdown",
   "metadata": {},
   "source": [
    "## NOTAS "
   ]
  },
  {
   "cell_type": "markdown",
   "metadata": {},
   "source": [
    "- distribución geo gráfica de las lenguas extintas \n",
    "- ¿Cómo se relacionan con otra lenguas en la misma zona ?\n",
    "- factores por el cual estan desapareciendo, factores como el numero de hablantes , su ubicación geográfica o su contacto con otras lenguas.\n",
    "- Comparar las lenguas extintas con las lenguas modernas\n",
    "- causas de la extinción de las lenguas? ¿Hay relación con la ubicación geográfica ?\n",
    "- ¿Hay algún patrón en la distribución de las lenguas extintas en el mundo? \n",
    "- ¿Hay más lenguas extintas en ciertas zonas de  mundo en comparación con otras?\n",
    "\n",
    "- lenguas mas habladas \n",
    "- estadísticas descriptivas para cada lengua, como la media, la mediana y la desviación estándar de número de hablantes.\n",
    "- (seaborn) gráfico  que muestre la relación entre el número de hablantes con el PIB. \n",
    "- gráfico  muestre cómo ha cambiado el número de hablantes de cada lengua en el tiempo.\n"
   ]
  },
  {
   "cell_type": "markdown",
   "metadata": {},
   "source": [
    "- geolocalizacion :\n",
    "    - OpenStreetMap API:\n",
    "    - Mapbox:\n",
    "    - Bokeh\n",
    "- población, PBI \n",
    "    - API de World Bank : SIN LIMITE DE USO\n",
    "        https://datahelpdesk.worldbank.org/knowledgebase/articles/889392-api-documentation\n",
    "    - Census Bureau API\n",
    "    - European Central Bank API:\n",
    "    \n"
   ]
  },
  {
   "cell_type": "markdown",
   "metadata": {},
   "source": [
    "### PIB GDP"
   ]
  },
  {
   "cell_type": "markdown",
   "metadata": {},
   "source": [
    "PIB PAISES EUROPEOS(2017,2021)\n",
    "https://www.kaggle.com/datasets/samuelcortinhas/gdp-of-european-countries\n",
    "\n",
    "- Comparación del PIB per cápita --> el PIB per cápita (PIB dividido entre la población) de los países europeos y Estados Unidos para ver si hay diferencias significativas en el nivel de vida económico entre ellos.\n",
    "\n",
    "- Comparación del crecimiento del PIB -->> comparar el PIB de los países europeos y Estados Unidos para ver si hay diferencias en el ritmo de crecimiento económico entre ellos.\n",
    "\n",
    "- Relación entre el comercio exterior y el PIB: relacion entre el comercio exterior de los países europeos y Estados Unidos y su PIB para ver si hay algún tipo de relación entre estos dos factores.\n",
    "\n",
    "- Analisis del mercado laboral:  desempleo, ingresos medios y productividad entre los paises comparando el pais con mayor y menor PIB, saber la relación entre el PIB y el mercado laboral en cada pais\n",
    "\n",
    "- Analisis demográfico: tasa de natalidad, mortalidad, migración, edad para ver si hay alguna relación entre la demografía  y el PIB.\n",
    "\n",
    "- Indicadores ambientales: el PIB se relaciona con indicadores ambientales como la huella de carbono, la tasa de deforestación, y el uso de energías renovables.\n",
    "\n",
    "- Indicadores sociales:  educación, salud, calidad de vida, desigualdad económica\n",
    "\n",
    "- Indicadores tecnológicos: datos sobre el gasto en investigación y desarrollo, patentes registradas, acceso a internet\n",
    "\n",
    "- Estudio de la deuda pública: deuda pública en el PIB para ver su relación.\n",
    "\n",
    "- densidad de poblacion historica en estados \n",
    "\n",
    "https://www.census.gov/data/developers/data-sets/popest-popproj/popest.Vintage_2019.html\n",
    "- natalidad "
   ]
  },
  {
   "cell_type": "markdown",
   "metadata": {},
   "source": [
    "### PROXIMOS \n",
    "\n",
    "- twwets:\n",
    "    - Tweepy  (biblioteca)\n",
    "    - twitter api \n",
    "- Análisis de sentimientos \n",
    "    - finalmente utilizar Analisis de sentimientos para ver que percepcion tiene la gente acerca de la extincion d las lenguas \n",
    "    - Google Cloud Natural Language: 1000 solicitudes por día y  10  por segundo.\n",
    "    - Aylien Text Analysis:\n",
    "    - AWS Comprehend: 25000 solicitudes por día y un máximo de 10 solicitudes por segundo.\n",
    "    - BM Watson Tone Analyzer: 1000 solicitudes por día y  10  por segundo."
   ]
  }
 ],
 "metadata": {
  "kernelspec": {
   "display_name": "iron",
   "language": "python",
   "name": "iron"
  },
  "language_info": {
   "codemirror_mode": {
    "name": "ipython",
    "version": 3
   },
   "file_extension": ".py",
   "mimetype": "text/x-python",
   "name": "python",
   "nbconvert_exporter": "python",
   "pygments_lexer": "ipython3",
   "version": "3.9.13"
  }
 },
 "nbformat": 4,
 "nbformat_minor": 4
}
